{
 "cells": [
  {
   "cell_type": "markdown",
   "metadata": {},
   "source": [
    "# COVID-19 Project"
   ]
  },
  {
   "cell_type": "markdown",
   "metadata": {},
   "source": [
    "In this project I will analyze two data sets regarding COVID-19 and get insights from them."
   ]
  },
  {
   "cell_type": "code",
   "execution_count": 33,
   "metadata": {},
   "outputs": [],
   "source": [
    "import numpy as np\n",
    "import pandas as pd\n",
    "import matplotlib.pyplot as plt\n",
    "import seaborn as sns\n",
    "%matplotlib inline"
   ]
  },
  {
   "cell_type": "code",
   "execution_count": 34,
   "metadata": {},
   "outputs": [],
   "source": [
    "#To alert when the code is done running\n",
    "import winsound\n",
    "duration = 1000  # milliseconds\n",
    "freq = 440  # Hz"
   ]
  },
  {
   "cell_type": "code",
   "execution_count": 35,
   "metadata": {},
   "outputs": [],
   "source": [
    "#SQL magic\n",
    "#!pip install ipython-sql\n",
    "import sqlalchemy\n",
    "engine = sqlalchemy.create_engine('sqlite:///sqlite3.db', echo=True) #\n",
    "%reload_ext sql\n",
    "%sql sqlite:///sqlite3.db"
   ]
  },
  {
   "cell_type": "markdown",
   "metadata": {},
   "source": [
    "## Constructing the Dataset"
   ]
  },
  {
   "cell_type": "markdown",
   "metadata": {},
   "source": [
    "The first data set is composed of countries and the accumulative spread of COVID-19 per day."
   ]
  },
  {
   "cell_type": "code",
   "execution_count": 36,
   "metadata": {},
   "outputs": [
    {
     "name": "stdout",
     "output_type": "stream",
     "text": [
      "2020-10-06 10:35:49,940 INFO sqlalchemy.engine.base.Engine SELECT CAST('test plain returns' AS VARCHAR(60)) AS anon_1\n",
      "2020-10-06 10:35:49,940 INFO sqlalchemy.engine.base.Engine ()\n",
      "2020-10-06 10:35:49,948 INFO sqlalchemy.engine.base.Engine SELECT CAST('test unicode returns' AS VARCHAR(60)) AS anon_1\n",
      "2020-10-06 10:35:49,948 INFO sqlalchemy.engine.base.Engine ()\n",
      "2020-10-06 10:35:49,956 INFO sqlalchemy.engine.base.Engine PRAGMA main.table_info(\"COVID_CONF\")\n",
      "2020-10-06 10:35:49,956 INFO sqlalchemy.engine.base.Engine ()\n",
      "2020-10-06 10:35:49,972 INFO sqlalchemy.engine.base.Engine BEGIN (implicit)\n",
      "2020-10-06 10:35:50,084 INFO sqlalchemy.engine.base.Engine INSERT INTO \"COVID_CONF\" (\"index\", \"Province/State\", \"Country/Region\", \"Lat\", \"Long\", \"1/22/20\", \"1/23/20\", \"1/24/20\", \"1/25/20\", \"1/26/20\", \"1/27/20\", \"1/28/20\", \"1/29/20\", \"1/30/20\", \"1/31/20\", \"2/1/20\", \"2/2/20\", \"2/3/20\", \"2/4/20\", \"2/5/20\", \"2/6/20\", \"2/7/20\", \"2/8/20\", \"2/9/20\", \"2/10/20\", \"2/11/20\", \"2/12/20\", \"2/13/20\", \"2/14/20\", \"2/15/20\", \"2/16/20\", \"2/17/20\", \"2/18/20\", \"2/19/20\", \"2/20/20\", \"2/21/20\", \"2/22/20\", \"2/23/20\", \"2/24/20\", \"2/25/20\", \"2/26/20\", \"2/27/20\", \"2/28/20\", \"2/29/20\", \"3/1/20\", \"3/2/20\", \"3/3/20\", \"3/4/20\", \"3/5/20\", \"3/6/20\", \"3/7/20\", \"3/8/20\", \"3/9/20\", \"3/10/20\", \"3/11/20\", \"3/12/20\", \"3/13/20\", \"3/14/20\", \"3/15/20\", \"3/16/20\", \"3/17/20\", \"3/18/20\", \"3/19/20\", \"3/20/20\", \"3/21/20\", \"3/22/20\", \"3/23/20\", \"3/24/20\", \"3/25/20\", \"3/26/20\", \"3/27/20\", \"3/28/20\", \"3/29/20\", \"3/30/20\", \"3/31/20\", \"4/1/20\", \"4/2/20\", \"4/3/20\", \"4/4/20\", \"4/5/20\", \"4/6/20\", \"4/7/20\", \"4/8/20\", \"4/9/20\", \"4/10/20\", \"4/11/20\", \"4/12/20\", \"4/13/20\", \"4/14/20\", \"4/15/20\", \"4/16/20\", \"4/17/20\", \"4/18/20\", \"4/19/20\", \"4/20/20\", \"4/21/20\", \"4/22/20\", \"4/23/20\", \"4/24/20\", \"4/25/20\", \"4/26/20\", \"4/27/20\", \"4/28/20\", \"4/29/20\", \"4/30/20\") VALUES (?, ?, ?, ?, ?, ?, ?, ?, ?, ?, ?, ?, ?, ?, ?, ?, ?, ?, ?, ?, ?, ?, ?, ?, ?, ?, ?, ?, ?, ?, ?, ?, ?, ?, ?, ?, ?, ?, ?, ?, ?, ?, ?, ?, ?, ?, ?, ?, ?, ?, ?, ?, ?, ?, ?, ?, ?, ?, ?, ?, ?, ?, ?, ?, ?, ?, ?, ?, ?, ?, ?, ?, ?, ?, ?, ?, ?, ?, ?, ?, ?, ?, ?, ?, ?, ?, ?, ?, ?, ?, ?, ?, ?, ?, ?, ?, ?, ?, ?, ?, ?, ?, ?, ?, ?)\n",
      "2020-10-06 10:35:50,084 INFO sqlalchemy.engine.base.Engine ((0, None, 'Afghanistan', 33.0, 65.0, 0, 0, 0, 0, 0, 0, 0, 0, 0, 0, 0, 0, 0, 0, 0, 0, 0, 0, 0, 0, 0, 0, 0, 0, 0, 0, 0, 0, 0, 0, 0, 0, 0, 1, 1, 1, 1, 1, 1, 1, 1, 1, 1, 1, 1, 1, 4, 4, 5, 7, 7, 7, 11, 16, 21, 22, 22, 22, 24, 24, 40, 40, 74, 84, 94, 110, 110, 120, 170, 174, 237, 273, 281, 299, 349, 367, 423, 444, 484, 521, 555, 607, 665, 714, 784, 840, 906, 933, 996, 1026, 1092, 1176, 1279, 1351, 1463, 1531, 1703, 1828, 1939, 2171), (1, None, 'Albania', 41.1533, 20.1683, 0, 0, 0, 0, 0, 0, 0, 0, 0, 0, 0, 0, 0, 0, 0, 0, 0, 0, 0, 0, 0, 0, 0, 0, 0, 0, 0, 0, 0, 0, 0, 0, 0, 0, 0, 0, 0, 0, 0, 0, 0, 0, 0, 0, 0, 0, 0, 2, 10, 12, 23, 33, 38, 42, 51, 55, 59, 64, 70, 76, 89, 104, 123, 146, 174, 186, 197, 212, 223, 243, 259, 277, 304, 333, 361, 377, 383, 400, 409, 416, 433, 446, 467, 475, 494, 518, 539, 548, 562, 584, 609, 634, 663, 678, 712, 726, 736, 750, 766, 773), (2, None, 'Algeria', 28.0339, 1.6596, 0, 0, 0, 0, 0, 0, 0, 0, 0, 0, 0, 0, 0, 0, 0, 0, 0, 0, 0, 0, 0, 0, 0, 0, 0, 0, 0, 0, 0, 0, 0, 0, 0, 0, 1, 1, 1, 1, 1, 1, 3, 5, 12, 12, 17, 17, 19, 20, 20, 20, 24, 26, 37, 48, 54, 60, 74, 87, 90, 139, 201, 230, 264, 302, 367, 409, 454, 511, 584, 716, 847, 986, 1171, 1251, 1320, 1423, 1468, 1572, 1666, 1761, 1825, 1914, 1983, 2070, 2160, 2268, 2418, 2534, 2629, 2718, 2811, 2910, 3007, 3127, 3256, 3382, 3517, 3649, 3848, 4006), (3, None, 'Andorra', 42.5063, 1.5218, 0, 0, 0, 0, 0, 0, 0, 0, 0, 0, 0, 0, 0, 0, 0, 0, 0, 0, 0, 0, 0, 0, 0, 0, 0, 0, 0, 0, 0, 0, 0, 0, 0, 0, 0, 0, 0, 0, 0, 0, 1, 1, 1, 1, 1, 1, 1, 1, 1, 1, 1, 1, 1, 1, 2, 39, 39, 53, 75, 88, 113, 133, 164, 188, 224, 267, 308, 334, 370, 376, 390, 428, 439, 466, 501, 525, 545, 564, 583, 601, 601, 638, 646, 659, 673, 673, 696, 704, 713, 717, 717, 723, 723, 731, 738, 738, 743, 743, 743, 745), (4, None, 'Angola', -11.2027, 17.8739, 0, 0, 0, 0, 0, 0, 0, 0, 0, 0, 0, 0, 0, 0, 0, 0, 0, 0, 0, 0, 0, 0, 0, 0, 0, 0, 0, 0, 0, 0, 0, 0, 0, 0, 0, 0, 0, 0, 0, 0, 0, 0, 0, 0, 0, 0, 0, 0, 0, 0, 0, 0, 0, 0, 0, 0, 0, 0, 1, 2, 2, 3, 3, 3, 4, 4, 5, 7, 7, 7, 8, 8, 8, 10, 14, 16, 17, 19, 19, 19, 19, 19, 19, 19, 19, 19, 19, 24, 24, 24, 24, 25, 25, 25, 25, 26, 27, 27, 27, 27), (5, None, 'Antigua and Barbuda', 17.0608, -61.7964, 0, 0, 0, 0, 0, 0, 0, 0, 0, 0, 0, 0, 0, 0, 0, 0, 0, 0, 0, 0, 0, 0, 0, 0, 0, 0, 0, 0, 0, 0, 0, 0, 0, 0, 0, 0, 0, 0, 0, 0, 0, 0, 0, 0, 0, 0, 0, 0, 0, 0, 0, 1, 1, 1, 1, 1, 1, 1, 1, 1, 1, 3, 3, 3, 7, 7, 7, 7, 7, 7, 7, 9, 15, 15, 15, 15, 19, 19, 19, 19, 21, 21, 23, 23, 23, 23, 23, 23, 23, 23, 23, 24, 24, 24, 24, 24, 24, 24, 24, 24), (6, None, 'Argentina', -38.4161, -63.6167, 0, 0, 0, 0, 0, 0, 0, 0, 0, 0, 0, 0, 0, 0, 0, 0, 0, 0, 0, 0, 0, 0, 0, 0, 0, 0, 0, 0, 0, 0, 0, 0, 0, 0, 0, 0, 0, 0, 0, 0, 0, 1, 1, 1, 2, 8, 12, 12, 17, 19, 19, 31, 34, 45, 56, 68, 79, 97, 128, 158, 266, 301, 387, 387, 502, 589, 690, 745, 820, 1054, 1054, 1133, 1265, 1451, 1451, 1554, 1628, 1715, 1795, 1975, 1975, 2142, 2208, 2277, 2443, 2571, 2669, 2758, 2839, 2941, 3031, 3144, 3435, 3607, 3780, 3892, 4003, 4127, 4285, 4428), (7, None, 'Armenia', 40.0691, 45.0382, 0, 0, 0, 0, 0, 0, 0, 0, 0, 0, 0, 0, 0, 0, 0, 0, 0, 0, 0, 0, 0, 0, 0, 0, 0, 0, 0, 0, 0, 0, 0, 0, 0, 0, 0, 0, 0, 0, 0, 1, 1, 1, 1, 1, 1, 1, 1, 1, 1, 1, 4, 8, 18, 26, 52, 78, 84, 115, 136, 160, 194, 235, 249, 265, 290, 329, 407, 424, 482, 532, 571, 663, 736, 770, 822, 833, 853, 881, 921, 937, 967, 1013, 1039, 1067, 1111, 1159, 1201, 1248, 1291, 1339, 1401, 1473, 1523, 1596, 1677, 1746, 1808, 1867, 1932, 2066)  ... displaying 10 of 266 total bound parameter sets ...  (264, None, 'Comoros', -11.6455, 43.3333, 0, 0, 0, 0, 0, 0, 0, 0, 0, 0, 0, 0, 0, 0, 0, 0, 0, 0, 0, 0, 0, 0, 0, 0, 0, 0, 0, 0, 0, 0, 0, 0, 0, 0, 0, 0, 0, 0, 0, 0, 0, 0, 0, 0, 0, 0, 0, 0, 0, 0, 0, 0, 0, 0, 0, 0, 0, 0, 0, 0, 0, 0, 0, 0, 0, 0, 0, 0, 0, 0, 0, 0, 0, 0, 0, 0, 0, 0, 0, 0, 0, 0, 0, 0, 0, 0, 0, 0, 0, 0, 0, 0, 0, 0, 0, 0, 0, 0, 0, 1), (265, None, 'Tajikistan', 38.861034000000004, 71.276093, 0, 0, 0, 0, 0, 0, 0, 0, 0, 0, 0, 0, 0, 0, 0, 0, 0, 0, 0, 0, 0, 0, 0, 0, 0, 0, 0, 0, 0, 0, 0, 0, 0, 0, 0, 0, 0, 0, 0, 0, 0, 0, 0, 0, 0, 0, 0, 0, 0, 0, 0, 0, 0, 0, 0, 0, 0, 0, 0, 0, 0, 0, 0, 0, 0, 0, 0, 0, 0, 0, 0, 0, 0, 0, 0, 0, 0, 0, 0, 0, 0, 0, 0, 0, 0, 0, 0, 0, 0, 0, 0, 0, 0, 0, 0, 0, 0, 0, 0, 15))\n",
      "2020-10-06 10:35:50,100 INFO sqlalchemy.engine.base.Engine COMMIT\n",
      "2020-10-06 10:35:50,108 INFO sqlalchemy.engine.base.Engine SELECT name FROM sqlite_master WHERE type='table' ORDER BY name\n",
      "2020-10-06 10:35:50,116 INFO sqlalchemy.engine.base.Engine ()\n",
      "Conversion successful!\n"
     ]
    }
   ],
   "source": [
    "path1 = './covid19_Confirmed_dataset.csv'\n",
    "df1 = pd.read_csv(path1)\n",
    "df1.to_sql('COVID_CONF', con=engine, if_exists='append')\n",
    "print('Conversion successful!')"
   ]
  },
  {
   "cell_type": "code",
   "execution_count": 37,
   "metadata": {},
   "outputs": [
    {
     "name": "stdout",
     "output_type": "stream",
     "text": [
      " * sqlite:///sqlite3.db\n",
      "Done.\n"
     ]
    },
    {
     "data": {
      "text/html": [
       "<table>\n",
       "    <tr>\n",
       "        <th>index</th>\n",
       "        <th>Province/State</th>\n",
       "        <th>Country/Region</th>\n",
       "        <th>Lat</th>\n",
       "        <th>Long</th>\n",
       "        <th>1/22/20</th>\n",
       "        <th>1/23/20</th>\n",
       "        <th>1/24/20</th>\n",
       "        <th>1/25/20</th>\n",
       "        <th>1/26/20</th>\n",
       "        <th>1/27/20</th>\n",
       "        <th>1/28/20</th>\n",
       "        <th>1/29/20</th>\n",
       "        <th>1/30/20</th>\n",
       "        <th>1/31/20</th>\n",
       "        <th>2/1/20</th>\n",
       "        <th>2/2/20</th>\n",
       "        <th>2/3/20</th>\n",
       "        <th>2/4/20</th>\n",
       "        <th>2/5/20</th>\n",
       "        <th>2/6/20</th>\n",
       "        <th>2/7/20</th>\n",
       "        <th>2/8/20</th>\n",
       "        <th>2/9/20</th>\n",
       "        <th>2/10/20</th>\n",
       "        <th>2/11/20</th>\n",
       "        <th>2/12/20</th>\n",
       "        <th>2/13/20</th>\n",
       "        <th>2/14/20</th>\n",
       "        <th>2/15/20</th>\n",
       "        <th>2/16/20</th>\n",
       "        <th>2/17/20</th>\n",
       "        <th>2/18/20</th>\n",
       "        <th>2/19/20</th>\n",
       "        <th>2/20/20</th>\n",
       "        <th>2/21/20</th>\n",
       "        <th>2/22/20</th>\n",
       "        <th>2/23/20</th>\n",
       "        <th>2/24/20</th>\n",
       "        <th>2/25/20</th>\n",
       "        <th>2/26/20</th>\n",
       "        <th>2/27/20</th>\n",
       "        <th>2/28/20</th>\n",
       "        <th>2/29/20</th>\n",
       "        <th>3/1/20</th>\n",
       "        <th>3/2/20</th>\n",
       "        <th>3/3/20</th>\n",
       "        <th>3/4/20</th>\n",
       "        <th>3/5/20</th>\n",
       "        <th>3/6/20</th>\n",
       "        <th>3/7/20</th>\n",
       "        <th>3/8/20</th>\n",
       "        <th>3/9/20</th>\n",
       "        <th>3/10/20</th>\n",
       "        <th>3/11/20</th>\n",
       "        <th>3/12/20</th>\n",
       "        <th>3/13/20</th>\n",
       "        <th>3/14/20</th>\n",
       "        <th>3/15/20</th>\n",
       "        <th>3/16/20</th>\n",
       "        <th>3/17/20</th>\n",
       "        <th>3/18/20</th>\n",
       "        <th>3/19/20</th>\n",
       "        <th>3/20/20</th>\n",
       "        <th>3/21/20</th>\n",
       "        <th>3/22/20</th>\n",
       "        <th>3/23/20</th>\n",
       "        <th>3/24/20</th>\n",
       "        <th>3/25/20</th>\n",
       "        <th>3/26/20</th>\n",
       "        <th>3/27/20</th>\n",
       "        <th>3/28/20</th>\n",
       "        <th>3/29/20</th>\n",
       "        <th>3/30/20</th>\n",
       "        <th>3/31/20</th>\n",
       "        <th>4/1/20</th>\n",
       "        <th>4/2/20</th>\n",
       "        <th>4/3/20</th>\n",
       "        <th>4/4/20</th>\n",
       "        <th>4/5/20</th>\n",
       "        <th>4/6/20</th>\n",
       "        <th>4/7/20</th>\n",
       "        <th>4/8/20</th>\n",
       "        <th>4/9/20</th>\n",
       "        <th>4/10/20</th>\n",
       "        <th>4/11/20</th>\n",
       "        <th>4/12/20</th>\n",
       "        <th>4/13/20</th>\n",
       "        <th>4/14/20</th>\n",
       "        <th>4/15/20</th>\n",
       "        <th>4/16/20</th>\n",
       "        <th>4/17/20</th>\n",
       "        <th>4/18/20</th>\n",
       "        <th>4/19/20</th>\n",
       "        <th>4/20/20</th>\n",
       "        <th>4/21/20</th>\n",
       "        <th>4/22/20</th>\n",
       "        <th>4/23/20</th>\n",
       "        <th>4/24/20</th>\n",
       "        <th>4/25/20</th>\n",
       "        <th>4/26/20</th>\n",
       "        <th>4/27/20</th>\n",
       "        <th>4/28/20</th>\n",
       "        <th>4/29/20</th>\n",
       "        <th>4/30/20</th>\n",
       "    </tr>\n",
       "    <tr>\n",
       "        <td>0</td>\n",
       "        <td>None</td>\n",
       "        <td>Afghanistan</td>\n",
       "        <td>33.0</td>\n",
       "        <td>65.0</td>\n",
       "        <td>0</td>\n",
       "        <td>0</td>\n",
       "        <td>0</td>\n",
       "        <td>0</td>\n",
       "        <td>0</td>\n",
       "        <td>0</td>\n",
       "        <td>0</td>\n",
       "        <td>0</td>\n",
       "        <td>0</td>\n",
       "        <td>0</td>\n",
       "        <td>0</td>\n",
       "        <td>0</td>\n",
       "        <td>0</td>\n",
       "        <td>0</td>\n",
       "        <td>0</td>\n",
       "        <td>0</td>\n",
       "        <td>0</td>\n",
       "        <td>0</td>\n",
       "        <td>0</td>\n",
       "        <td>0</td>\n",
       "        <td>0</td>\n",
       "        <td>0</td>\n",
       "        <td>0</td>\n",
       "        <td>0</td>\n",
       "        <td>0</td>\n",
       "        <td>0</td>\n",
       "        <td>0</td>\n",
       "        <td>0</td>\n",
       "        <td>0</td>\n",
       "        <td>0</td>\n",
       "        <td>0</td>\n",
       "        <td>0</td>\n",
       "        <td>0</td>\n",
       "        <td>1</td>\n",
       "        <td>1</td>\n",
       "        <td>1</td>\n",
       "        <td>1</td>\n",
       "        <td>1</td>\n",
       "        <td>1</td>\n",
       "        <td>1</td>\n",
       "        <td>1</td>\n",
       "        <td>1</td>\n",
       "        <td>1</td>\n",
       "        <td>1</td>\n",
       "        <td>1</td>\n",
       "        <td>1</td>\n",
       "        <td>4</td>\n",
       "        <td>4</td>\n",
       "        <td>5</td>\n",
       "        <td>7</td>\n",
       "        <td>7</td>\n",
       "        <td>7</td>\n",
       "        <td>11</td>\n",
       "        <td>16</td>\n",
       "        <td>21</td>\n",
       "        <td>22</td>\n",
       "        <td>22</td>\n",
       "        <td>22</td>\n",
       "        <td>24</td>\n",
       "        <td>24</td>\n",
       "        <td>40</td>\n",
       "        <td>40</td>\n",
       "        <td>74</td>\n",
       "        <td>84</td>\n",
       "        <td>94</td>\n",
       "        <td>110</td>\n",
       "        <td>110</td>\n",
       "        <td>120</td>\n",
       "        <td>170</td>\n",
       "        <td>174</td>\n",
       "        <td>237</td>\n",
       "        <td>273</td>\n",
       "        <td>281</td>\n",
       "        <td>299</td>\n",
       "        <td>349</td>\n",
       "        <td>367</td>\n",
       "        <td>423</td>\n",
       "        <td>444</td>\n",
       "        <td>484</td>\n",
       "        <td>521</td>\n",
       "        <td>555</td>\n",
       "        <td>607</td>\n",
       "        <td>665</td>\n",
       "        <td>714</td>\n",
       "        <td>784</td>\n",
       "        <td>840</td>\n",
       "        <td>906</td>\n",
       "        <td>933</td>\n",
       "        <td>996</td>\n",
       "        <td>1026</td>\n",
       "        <td>1092</td>\n",
       "        <td>1176</td>\n",
       "        <td>1279</td>\n",
       "        <td>1351</td>\n",
       "        <td>1463</td>\n",
       "        <td>1531</td>\n",
       "        <td>1703</td>\n",
       "        <td>1828</td>\n",
       "        <td>1939</td>\n",
       "        <td>2171</td>\n",
       "    </tr>\n",
       "    <tr>\n",
       "        <td>1</td>\n",
       "        <td>None</td>\n",
       "        <td>Albania</td>\n",
       "        <td>41.1533</td>\n",
       "        <td>20.1683</td>\n",
       "        <td>0</td>\n",
       "        <td>0</td>\n",
       "        <td>0</td>\n",
       "        <td>0</td>\n",
       "        <td>0</td>\n",
       "        <td>0</td>\n",
       "        <td>0</td>\n",
       "        <td>0</td>\n",
       "        <td>0</td>\n",
       "        <td>0</td>\n",
       "        <td>0</td>\n",
       "        <td>0</td>\n",
       "        <td>0</td>\n",
       "        <td>0</td>\n",
       "        <td>0</td>\n",
       "        <td>0</td>\n",
       "        <td>0</td>\n",
       "        <td>0</td>\n",
       "        <td>0</td>\n",
       "        <td>0</td>\n",
       "        <td>0</td>\n",
       "        <td>0</td>\n",
       "        <td>0</td>\n",
       "        <td>0</td>\n",
       "        <td>0</td>\n",
       "        <td>0</td>\n",
       "        <td>0</td>\n",
       "        <td>0</td>\n",
       "        <td>0</td>\n",
       "        <td>0</td>\n",
       "        <td>0</td>\n",
       "        <td>0</td>\n",
       "        <td>0</td>\n",
       "        <td>0</td>\n",
       "        <td>0</td>\n",
       "        <td>0</td>\n",
       "        <td>0</td>\n",
       "        <td>0</td>\n",
       "        <td>0</td>\n",
       "        <td>0</td>\n",
       "        <td>0</td>\n",
       "        <td>0</td>\n",
       "        <td>0</td>\n",
       "        <td>0</td>\n",
       "        <td>0</td>\n",
       "        <td>0</td>\n",
       "        <td>0</td>\n",
       "        <td>2</td>\n",
       "        <td>10</td>\n",
       "        <td>12</td>\n",
       "        <td>23</td>\n",
       "        <td>33</td>\n",
       "        <td>38</td>\n",
       "        <td>42</td>\n",
       "        <td>51</td>\n",
       "        <td>55</td>\n",
       "        <td>59</td>\n",
       "        <td>64</td>\n",
       "        <td>70</td>\n",
       "        <td>76</td>\n",
       "        <td>89</td>\n",
       "        <td>104</td>\n",
       "        <td>123</td>\n",
       "        <td>146</td>\n",
       "        <td>174</td>\n",
       "        <td>186</td>\n",
       "        <td>197</td>\n",
       "        <td>212</td>\n",
       "        <td>223</td>\n",
       "        <td>243</td>\n",
       "        <td>259</td>\n",
       "        <td>277</td>\n",
       "        <td>304</td>\n",
       "        <td>333</td>\n",
       "        <td>361</td>\n",
       "        <td>377</td>\n",
       "        <td>383</td>\n",
       "        <td>400</td>\n",
       "        <td>409</td>\n",
       "        <td>416</td>\n",
       "        <td>433</td>\n",
       "        <td>446</td>\n",
       "        <td>467</td>\n",
       "        <td>475</td>\n",
       "        <td>494</td>\n",
       "        <td>518</td>\n",
       "        <td>539</td>\n",
       "        <td>548</td>\n",
       "        <td>562</td>\n",
       "        <td>584</td>\n",
       "        <td>609</td>\n",
       "        <td>634</td>\n",
       "        <td>663</td>\n",
       "        <td>678</td>\n",
       "        <td>712</td>\n",
       "        <td>726</td>\n",
       "        <td>736</td>\n",
       "        <td>750</td>\n",
       "        <td>766</td>\n",
       "        <td>773</td>\n",
       "    </tr>\n",
       "    <tr>\n",
       "        <td>2</td>\n",
       "        <td>None</td>\n",
       "        <td>Algeria</td>\n",
       "        <td>28.0339</td>\n",
       "        <td>1.6596</td>\n",
       "        <td>0</td>\n",
       "        <td>0</td>\n",
       "        <td>0</td>\n",
       "        <td>0</td>\n",
       "        <td>0</td>\n",
       "        <td>0</td>\n",
       "        <td>0</td>\n",
       "        <td>0</td>\n",
       "        <td>0</td>\n",
       "        <td>0</td>\n",
       "        <td>0</td>\n",
       "        <td>0</td>\n",
       "        <td>0</td>\n",
       "        <td>0</td>\n",
       "        <td>0</td>\n",
       "        <td>0</td>\n",
       "        <td>0</td>\n",
       "        <td>0</td>\n",
       "        <td>0</td>\n",
       "        <td>0</td>\n",
       "        <td>0</td>\n",
       "        <td>0</td>\n",
       "        <td>0</td>\n",
       "        <td>0</td>\n",
       "        <td>0</td>\n",
       "        <td>0</td>\n",
       "        <td>0</td>\n",
       "        <td>0</td>\n",
       "        <td>0</td>\n",
       "        <td>0</td>\n",
       "        <td>0</td>\n",
       "        <td>0</td>\n",
       "        <td>0</td>\n",
       "        <td>0</td>\n",
       "        <td>1</td>\n",
       "        <td>1</td>\n",
       "        <td>1</td>\n",
       "        <td>1</td>\n",
       "        <td>1</td>\n",
       "        <td>1</td>\n",
       "        <td>3</td>\n",
       "        <td>5</td>\n",
       "        <td>12</td>\n",
       "        <td>12</td>\n",
       "        <td>17</td>\n",
       "        <td>17</td>\n",
       "        <td>19</td>\n",
       "        <td>20</td>\n",
       "        <td>20</td>\n",
       "        <td>20</td>\n",
       "        <td>24</td>\n",
       "        <td>26</td>\n",
       "        <td>37</td>\n",
       "        <td>48</td>\n",
       "        <td>54</td>\n",
       "        <td>60</td>\n",
       "        <td>74</td>\n",
       "        <td>87</td>\n",
       "        <td>90</td>\n",
       "        <td>139</td>\n",
       "        <td>201</td>\n",
       "        <td>230</td>\n",
       "        <td>264</td>\n",
       "        <td>302</td>\n",
       "        <td>367</td>\n",
       "        <td>409</td>\n",
       "        <td>454</td>\n",
       "        <td>511</td>\n",
       "        <td>584</td>\n",
       "        <td>716</td>\n",
       "        <td>847</td>\n",
       "        <td>986</td>\n",
       "        <td>1171</td>\n",
       "        <td>1251</td>\n",
       "        <td>1320</td>\n",
       "        <td>1423</td>\n",
       "        <td>1468</td>\n",
       "        <td>1572</td>\n",
       "        <td>1666</td>\n",
       "        <td>1761</td>\n",
       "        <td>1825</td>\n",
       "        <td>1914</td>\n",
       "        <td>1983</td>\n",
       "        <td>2070</td>\n",
       "        <td>2160</td>\n",
       "        <td>2268</td>\n",
       "        <td>2418</td>\n",
       "        <td>2534</td>\n",
       "        <td>2629</td>\n",
       "        <td>2718</td>\n",
       "        <td>2811</td>\n",
       "        <td>2910</td>\n",
       "        <td>3007</td>\n",
       "        <td>3127</td>\n",
       "        <td>3256</td>\n",
       "        <td>3382</td>\n",
       "        <td>3517</td>\n",
       "        <td>3649</td>\n",
       "        <td>3848</td>\n",
       "        <td>4006</td>\n",
       "    </tr>\n",
       "</table>"
      ],
      "text/plain": [
       "[(0, None, 'Afghanistan', 33.0, 65.0, 0, 0, 0, 0, 0, 0, 0, 0, 0, 0, 0, 0, 0, 0, 0, 0, 0, 0, 0, 0, 0, 0, 0, 0, 0, 0, 0, 0, 0, 0, 0, 0, 0, 1, 1, 1, 1, 1, 1, 1, 1, 1, 1, 1, 1, 1, 4, 4, 5, 7, 7, 7, 11, 16, 21, 22, 22, 22, 24, 24, 40, 40, 74, 84, 94, 110, 110, 120, 170, 174, 237, 273, 281, 299, 349, 367, 423, 444, 484, 521, 555, 607, 665, 714, 784, 840, 906, 933, 996, 1026, 1092, 1176, 1279, 1351, 1463, 1531, 1703, 1828, 1939, 2171),\n",
       " (1, None, 'Albania', 41.1533, 20.1683, 0, 0, 0, 0, 0, 0, 0, 0, 0, 0, 0, 0, 0, 0, 0, 0, 0, 0, 0, 0, 0, 0, 0, 0, 0, 0, 0, 0, 0, 0, 0, 0, 0, 0, 0, 0, 0, 0, 0, 0, 0, 0, 0, 0, 0, 0, 0, 2, 10, 12, 23, 33, 38, 42, 51, 55, 59, 64, 70, 76, 89, 104, 123, 146, 174, 186, 197, 212, 223, 243, 259, 277, 304, 333, 361, 377, 383, 400, 409, 416, 433, 446, 467, 475, 494, 518, 539, 548, 562, 584, 609, 634, 663, 678, 712, 726, 736, 750, 766, 773),\n",
       " (2, None, 'Algeria', 28.0339, 1.6596, 0, 0, 0, 0, 0, 0, 0, 0, 0, 0, 0, 0, 0, 0, 0, 0, 0, 0, 0, 0, 0, 0, 0, 0, 0, 0, 0, 0, 0, 0, 0, 0, 0, 0, 1, 1, 1, 1, 1, 1, 3, 5, 12, 12, 17, 17, 19, 20, 20, 20, 24, 26, 37, 48, 54, 60, 74, 87, 90, 139, 201, 230, 264, 302, 367, 409, 454, 511, 584, 716, 847, 986, 1171, 1251, 1320, 1423, 1468, 1572, 1666, 1761, 1825, 1914, 1983, 2070, 2160, 2268, 2418, 2534, 2629, 2718, 2811, 2910, 3007, 3127, 3256, 3382, 3517, 3649, 3848, 4006)]"
      ]
     },
     "execution_count": 37,
     "metadata": {},
     "output_type": "execute_result"
    }
   ],
   "source": [
    "%%sql\n",
    "\n",
    "SELECT * FROM COVID_CONF\n",
    "LIMIT 3"
   ]
  },
  {
   "cell_type": "markdown",
   "metadata": {},
   "source": [
    "The second data set consists on countries' different scores of life conditions."
   ]
  },
  {
   "cell_type": "code",
   "execution_count": 38,
   "metadata": {},
   "outputs": [
    {
     "name": "stdout",
     "output_type": "stream",
     "text": [
      "2020-10-06 10:35:50,220 INFO sqlalchemy.engine.base.Engine PRAGMA main.table_info(\"HAPPINESS\")\n",
      "2020-10-06 10:35:50,220 INFO sqlalchemy.engine.base.Engine ()\n",
      "2020-10-06 10:35:50,228 INFO sqlalchemy.engine.base.Engine BEGIN (implicit)\n",
      "2020-10-06 10:35:50,236 INFO sqlalchemy.engine.base.Engine INSERT INTO \"HAPPINESS\" (\"index\", \"Overall rank\", \"Country or region\", \"Score\", \"GDP per capita\", \"Social support\", \"Healthy life expectancy\", \"Freedom to make life choices\", \"Generosity\", \"Perceptions of corruption\") VALUES (?, ?, ?, ?, ?, ?, ?, ?, ?, ?)\n",
      "2020-10-06 10:35:50,244 INFO sqlalchemy.engine.base.Engine ((0, 1, 'Finland', 7.769, 1.34, 1.587, 0.986, 0.596, 0.153, 0.39299999999999996), (1, 2, 'Denmark', 7.6, 1.383, 1.5730000000000002, 0.996, 0.5920000000000001, 0.252, 0.41), (2, 3, 'Norway', 7.553999999999999, 1.4880000000000002, 1.5819999999999999, 1.028, 0.603, 0.271, 0.341), (3, 4, 'Iceland', 7.494, 1.38, 1.624, 1.026, 0.591, 0.354, 0.11800000000000001), (4, 5, 'Netherlands', 7.4879999999999995, 1.396, 1.5219999999999998, 0.9990000000000001, 0.557, 0.322, 0.298), (5, 6, 'Switzerland', 7.48, 1.452, 1.526, 1.052, 0.5720000000000001, 0.263, 0.34299999999999997), (6, 7, 'Sweden', 7.343, 1.3869999999999998, 1.4869999999999999, 1.0090000000000001, 0.574, 0.267, 0.373), (7, 8, 'New Zealand', 7.307, 1.3030000000000002, 1.557, 1.026, 0.585, 0.33, 0.38)  ... displaying 10 of 156 total bound parameter sets ...  (154, 155, 'Central African Republic', 3.083, 0.026000000000000002, 0.0, 0.105, 0.225, 0.235, 0.035), (155, 156, 'South Sudan', 2.853, 0.306, 0.575, 0.295, 0.01, 0.20199999999999999, 0.091))\n",
      "2020-10-06 10:35:50,252 INFO sqlalchemy.engine.base.Engine COMMIT\n",
      "2020-10-06 10:35:50,260 INFO sqlalchemy.engine.base.Engine SELECT name FROM sqlite_master WHERE type='table' ORDER BY name\n",
      "2020-10-06 10:35:50,260 INFO sqlalchemy.engine.base.Engine ()\n",
      "Conversion successful!\n"
     ]
    }
   ],
   "source": [
    "path2 = './worldwide_happiness_report.csv'\n",
    "df2 = pd.read_csv(path2)\n",
    "df2.to_sql('HAPPINESS', con=engine, if_exists='replace')\n",
    "print('Conversion successful!')"
   ]
  },
  {
   "cell_type": "code",
   "execution_count": 39,
   "metadata": {},
   "outputs": [
    {
     "name": "stdout",
     "output_type": "stream",
     "text": [
      "The shape of df1 is:  (266, 104)\n",
      "The shape of df2 is:  (156, 9)\n"
     ]
    }
   ],
   "source": [
    "print('The shape of df1 is: ', df1.shape)\n",
    "print('The shape of df2 is: ', df2.shape)"
   ]
  },
  {
   "cell_type": "code",
   "execution_count": 40,
   "metadata": {},
   "outputs": [
    {
     "name": "stdout",
     "output_type": "stream",
     "text": [
      " * sqlite:///sqlite3.db\n",
      "Done.\n"
     ]
    },
    {
     "data": {
      "text/html": [
       "<table>\n",
       "    <tr>\n",
       "        <th>index</th>\n",
       "        <th>Overall rank</th>\n",
       "        <th>Country or region</th>\n",
       "        <th>Score</th>\n",
       "        <th>GDP per capita</th>\n",
       "        <th>Social support</th>\n",
       "        <th>Healthy life expectancy</th>\n",
       "        <th>Freedom to make life choices</th>\n",
       "        <th>Generosity</th>\n",
       "        <th>Perceptions of corruption</th>\n",
       "    </tr>\n",
       "    <tr>\n",
       "        <td>0</td>\n",
       "        <td>1</td>\n",
       "        <td>Finland</td>\n",
       "        <td>7.769</td>\n",
       "        <td>1.34</td>\n",
       "        <td>1.587</td>\n",
       "        <td>0.986</td>\n",
       "        <td>0.596</td>\n",
       "        <td>0.153</td>\n",
       "        <td>0.39299999999999996</td>\n",
       "    </tr>\n",
       "    <tr>\n",
       "        <td>1</td>\n",
       "        <td>2</td>\n",
       "        <td>Denmark</td>\n",
       "        <td>7.6</td>\n",
       "        <td>1.383</td>\n",
       "        <td>1.5730000000000002</td>\n",
       "        <td>0.996</td>\n",
       "        <td>0.5920000000000001</td>\n",
       "        <td>0.252</td>\n",
       "        <td>0.41</td>\n",
       "    </tr>\n",
       "    <tr>\n",
       "        <td>2</td>\n",
       "        <td>3</td>\n",
       "        <td>Norway</td>\n",
       "        <td>7.553999999999999</td>\n",
       "        <td>1.4880000000000002</td>\n",
       "        <td>1.5819999999999999</td>\n",
       "        <td>1.028</td>\n",
       "        <td>0.603</td>\n",
       "        <td>0.271</td>\n",
       "        <td>0.341</td>\n",
       "    </tr>\n",
       "</table>"
      ],
      "text/plain": [
       "[(0, 1, 'Finland', 7.769, 1.34, 1.587, 0.986, 0.596, 0.153, 0.39299999999999996),\n",
       " (1, 2, 'Denmark', 7.6, 1.383, 1.5730000000000002, 0.996, 0.5920000000000001, 0.252, 0.41),\n",
       " (2, 3, 'Norway', 7.553999999999999, 1.4880000000000002, 1.5819999999999999, 1.028, 0.603, 0.271, 0.341)]"
      ]
     },
     "execution_count": 40,
     "metadata": {},
     "output_type": "execute_result"
    }
   ],
   "source": [
    "%%sql\n",
    "\n",
    "SELECT * FROM HAPPINESS\n",
    "LIMIT 3"
   ]
  },
  {
   "cell_type": "markdown",
   "metadata": {},
   "source": [
    "Let's now join both data sets through the country and convert the result to a new data set. \n",
    "\n",
    "*Note:* not all countries from the 1st data set appear in the 2nd data set, hence the inner join."
   ]
  },
  {
   "cell_type": "code",
   "execution_count": 41,
   "metadata": {},
   "outputs": [
    {
     "name": "stdout",
     "output_type": "stream",
     "text": [
      " * sqlite:///sqlite3.db\n",
      "Done.\n"
     ]
    }
   ],
   "source": [
    "join = %sql SELECT * FROM COVID_CONF INNER JOIN HAPPINESS ON COVID_CONF.'Country/Region'=HAPPINESS.'Country or region'\n",
    "df_joined = join.DataFrame()"
   ]
  },
  {
   "cell_type": "code",
   "execution_count": 42,
   "metadata": {},
   "outputs": [
    {
     "data": {
      "text/html": [
       "<div>\n",
       "<style scoped>\n",
       "    .dataframe tbody tr th:only-of-type {\n",
       "        vertical-align: middle;\n",
       "    }\n",
       "\n",
       "    .dataframe tbody tr th {\n",
       "        vertical-align: top;\n",
       "    }\n",
       "\n",
       "    .dataframe thead th {\n",
       "        text-align: right;\n",
       "    }\n",
       "</style>\n",
       "<table border=\"1\" class=\"dataframe\">\n",
       "  <thead>\n",
       "    <tr style=\"text-align: right;\">\n",
       "      <th></th>\n",
       "      <th>index</th>\n",
       "      <th>Province/State</th>\n",
       "      <th>Country/Region</th>\n",
       "      <th>Lat</th>\n",
       "      <th>Long</th>\n",
       "      <th>1/22/20</th>\n",
       "      <th>1/23/20</th>\n",
       "      <th>1/24/20</th>\n",
       "      <th>1/25/20</th>\n",
       "      <th>1/26/20</th>\n",
       "      <th>...</th>\n",
       "      <th>index</th>\n",
       "      <th>Overall rank</th>\n",
       "      <th>Country or region</th>\n",
       "      <th>Score</th>\n",
       "      <th>GDP per capita</th>\n",
       "      <th>Social support</th>\n",
       "      <th>Healthy life expectancy</th>\n",
       "      <th>Freedom to make life choices</th>\n",
       "      <th>Generosity</th>\n",
       "      <th>Perceptions of corruption</th>\n",
       "    </tr>\n",
       "  </thead>\n",
       "  <tbody>\n",
       "    <tr>\n",
       "      <th>0</th>\n",
       "      <td>0</td>\n",
       "      <td>None</td>\n",
       "      <td>Afghanistan</td>\n",
       "      <td>33.0000</td>\n",
       "      <td>65.0000</td>\n",
       "      <td>0</td>\n",
       "      <td>0</td>\n",
       "      <td>0</td>\n",
       "      <td>0</td>\n",
       "      <td>0</td>\n",
       "      <td>...</td>\n",
       "      <td>153</td>\n",
       "      <td>154</td>\n",
       "      <td>Afghanistan</td>\n",
       "      <td>3.203</td>\n",
       "      <td>0.350</td>\n",
       "      <td>0.517</td>\n",
       "      <td>0.361</td>\n",
       "      <td>0.000</td>\n",
       "      <td>0.158</td>\n",
       "      <td>0.025</td>\n",
       "    </tr>\n",
       "    <tr>\n",
       "      <th>1</th>\n",
       "      <td>0</td>\n",
       "      <td>None</td>\n",
       "      <td>Afghanistan</td>\n",
       "      <td>33.0000</td>\n",
       "      <td>65.0000</td>\n",
       "      <td>0</td>\n",
       "      <td>0</td>\n",
       "      <td>0</td>\n",
       "      <td>0</td>\n",
       "      <td>0</td>\n",
       "      <td>...</td>\n",
       "      <td>153</td>\n",
       "      <td>154</td>\n",
       "      <td>Afghanistan</td>\n",
       "      <td>3.203</td>\n",
       "      <td>0.350</td>\n",
       "      <td>0.517</td>\n",
       "      <td>0.361</td>\n",
       "      <td>0.000</td>\n",
       "      <td>0.158</td>\n",
       "      <td>0.025</td>\n",
       "    </tr>\n",
       "    <tr>\n",
       "      <th>2</th>\n",
       "      <td>1</td>\n",
       "      <td>None</td>\n",
       "      <td>Albania</td>\n",
       "      <td>41.1533</td>\n",
       "      <td>20.1683</td>\n",
       "      <td>0</td>\n",
       "      <td>0</td>\n",
       "      <td>0</td>\n",
       "      <td>0</td>\n",
       "      <td>0</td>\n",
       "      <td>...</td>\n",
       "      <td>106</td>\n",
       "      <td>107</td>\n",
       "      <td>Albania</td>\n",
       "      <td>4.719</td>\n",
       "      <td>0.947</td>\n",
       "      <td>0.848</td>\n",
       "      <td>0.874</td>\n",
       "      <td>0.383</td>\n",
       "      <td>0.178</td>\n",
       "      <td>0.027</td>\n",
       "    </tr>\n",
       "    <tr>\n",
       "      <th>3</th>\n",
       "      <td>1</td>\n",
       "      <td>None</td>\n",
       "      <td>Albania</td>\n",
       "      <td>41.1533</td>\n",
       "      <td>20.1683</td>\n",
       "      <td>0</td>\n",
       "      <td>0</td>\n",
       "      <td>0</td>\n",
       "      <td>0</td>\n",
       "      <td>0</td>\n",
       "      <td>...</td>\n",
       "      <td>106</td>\n",
       "      <td>107</td>\n",
       "      <td>Albania</td>\n",
       "      <td>4.719</td>\n",
       "      <td>0.947</td>\n",
       "      <td>0.848</td>\n",
       "      <td>0.874</td>\n",
       "      <td>0.383</td>\n",
       "      <td>0.178</td>\n",
       "      <td>0.027</td>\n",
       "    </tr>\n",
       "    <tr>\n",
       "      <th>4</th>\n",
       "      <td>2</td>\n",
       "      <td>None</td>\n",
       "      <td>Algeria</td>\n",
       "      <td>28.0339</td>\n",
       "      <td>1.6596</td>\n",
       "      <td>0</td>\n",
       "      <td>0</td>\n",
       "      <td>0</td>\n",
       "      <td>0</td>\n",
       "      <td>0</td>\n",
       "      <td>...</td>\n",
       "      <td>87</td>\n",
       "      <td>88</td>\n",
       "      <td>Algeria</td>\n",
       "      <td>5.211</td>\n",
       "      <td>1.002</td>\n",
       "      <td>1.160</td>\n",
       "      <td>0.785</td>\n",
       "      <td>0.086</td>\n",
       "      <td>0.073</td>\n",
       "      <td>0.114</td>\n",
       "    </tr>\n",
       "  </tbody>\n",
       "</table>\n",
       "<p>5 rows × 115 columns</p>\n",
       "</div>"
      ],
      "text/plain": [
       "   index Province/State Country/Region      Lat     Long  1/22/20  1/23/20  \\\n",
       "0      0           None    Afghanistan  33.0000  65.0000        0        0   \n",
       "1      0           None    Afghanistan  33.0000  65.0000        0        0   \n",
       "2      1           None        Albania  41.1533  20.1683        0        0   \n",
       "3      1           None        Albania  41.1533  20.1683        0        0   \n",
       "4      2           None        Algeria  28.0339   1.6596        0        0   \n",
       "\n",
       "   1/24/20  1/25/20  1/26/20  ...  index  Overall rank  Country or region  \\\n",
       "0        0        0        0  ...    153           154        Afghanistan   \n",
       "1        0        0        0  ...    153           154        Afghanistan   \n",
       "2        0        0        0  ...    106           107            Albania   \n",
       "3        0        0        0  ...    106           107            Albania   \n",
       "4        0        0        0  ...     87            88            Algeria   \n",
       "\n",
       "   Score  GDP per capita  Social support  Healthy life expectancy  \\\n",
       "0  3.203           0.350           0.517                    0.361   \n",
       "1  3.203           0.350           0.517                    0.361   \n",
       "2  4.719           0.947           0.848                    0.874   \n",
       "3  4.719           0.947           0.848                    0.874   \n",
       "4  5.211           1.002           1.160                    0.785   \n",
       "\n",
       "   Freedom to make life choices  Generosity  Perceptions of corruption  \n",
       "0                         0.000       0.158                      0.025  \n",
       "1                         0.000       0.158                      0.025  \n",
       "2                         0.383       0.178                      0.027  \n",
       "3                         0.383       0.178                      0.027  \n",
       "4                         0.086       0.073                      0.114  \n",
       "\n",
       "[5 rows x 115 columns]"
      ]
     },
     "execution_count": 42,
     "metadata": {},
     "output_type": "execute_result"
    }
   ],
   "source": [
    "df_joined.head()"
   ]
  },
  {
   "cell_type": "markdown",
   "metadata": {},
   "source": [
    "We can delete de index columns of these data set, the duplicate country column, and overall rank."
   ]
  },
  {
   "cell_type": "code",
   "execution_count": 43,
   "metadata": {},
   "outputs": [
    {
     "data": {
      "text/html": [
       "<div>\n",
       "<style scoped>\n",
       "    .dataframe tbody tr th:only-of-type {\n",
       "        vertical-align: middle;\n",
       "    }\n",
       "\n",
       "    .dataframe tbody tr th {\n",
       "        vertical-align: top;\n",
       "    }\n",
       "\n",
       "    .dataframe thead th {\n",
       "        text-align: right;\n",
       "    }\n",
       "</style>\n",
       "<table border=\"1\" class=\"dataframe\">\n",
       "  <thead>\n",
       "    <tr style=\"text-align: right;\">\n",
       "      <th></th>\n",
       "      <th>Province/State</th>\n",
       "      <th>Country/Region</th>\n",
       "      <th>Lat</th>\n",
       "      <th>Long</th>\n",
       "      <th>1/22/20</th>\n",
       "      <th>1/23/20</th>\n",
       "      <th>1/24/20</th>\n",
       "      <th>1/25/20</th>\n",
       "      <th>1/26/20</th>\n",
       "      <th>1/27/20</th>\n",
       "      <th>...</th>\n",
       "      <th>4/28/20</th>\n",
       "      <th>4/29/20</th>\n",
       "      <th>4/30/20</th>\n",
       "      <th>Score</th>\n",
       "      <th>GDP per capita</th>\n",
       "      <th>Social support</th>\n",
       "      <th>Healthy life expectancy</th>\n",
       "      <th>Freedom to make life choices</th>\n",
       "      <th>Generosity</th>\n",
       "      <th>Perceptions of corruption</th>\n",
       "    </tr>\n",
       "  </thead>\n",
       "  <tbody>\n",
       "    <tr>\n",
       "      <th>0</th>\n",
       "      <td>None</td>\n",
       "      <td>Afghanistan</td>\n",
       "      <td>33.0000</td>\n",
       "      <td>65.0000</td>\n",
       "      <td>0</td>\n",
       "      <td>0</td>\n",
       "      <td>0</td>\n",
       "      <td>0</td>\n",
       "      <td>0</td>\n",
       "      <td>0</td>\n",
       "      <td>...</td>\n",
       "      <td>1828</td>\n",
       "      <td>1939</td>\n",
       "      <td>2171</td>\n",
       "      <td>3.203</td>\n",
       "      <td>0.350</td>\n",
       "      <td>0.517</td>\n",
       "      <td>0.361</td>\n",
       "      <td>0.000</td>\n",
       "      <td>0.158</td>\n",
       "      <td>0.025</td>\n",
       "    </tr>\n",
       "    <tr>\n",
       "      <th>1</th>\n",
       "      <td>None</td>\n",
       "      <td>Afghanistan</td>\n",
       "      <td>33.0000</td>\n",
       "      <td>65.0000</td>\n",
       "      <td>0</td>\n",
       "      <td>0</td>\n",
       "      <td>0</td>\n",
       "      <td>0</td>\n",
       "      <td>0</td>\n",
       "      <td>0</td>\n",
       "      <td>...</td>\n",
       "      <td>1828</td>\n",
       "      <td>1939</td>\n",
       "      <td>2171</td>\n",
       "      <td>3.203</td>\n",
       "      <td>0.350</td>\n",
       "      <td>0.517</td>\n",
       "      <td>0.361</td>\n",
       "      <td>0.000</td>\n",
       "      <td>0.158</td>\n",
       "      <td>0.025</td>\n",
       "    </tr>\n",
       "    <tr>\n",
       "      <th>2</th>\n",
       "      <td>None</td>\n",
       "      <td>Albania</td>\n",
       "      <td>41.1533</td>\n",
       "      <td>20.1683</td>\n",
       "      <td>0</td>\n",
       "      <td>0</td>\n",
       "      <td>0</td>\n",
       "      <td>0</td>\n",
       "      <td>0</td>\n",
       "      <td>0</td>\n",
       "      <td>...</td>\n",
       "      <td>750</td>\n",
       "      <td>766</td>\n",
       "      <td>773</td>\n",
       "      <td>4.719</td>\n",
       "      <td>0.947</td>\n",
       "      <td>0.848</td>\n",
       "      <td>0.874</td>\n",
       "      <td>0.383</td>\n",
       "      <td>0.178</td>\n",
       "      <td>0.027</td>\n",
       "    </tr>\n",
       "    <tr>\n",
       "      <th>3</th>\n",
       "      <td>None</td>\n",
       "      <td>Albania</td>\n",
       "      <td>41.1533</td>\n",
       "      <td>20.1683</td>\n",
       "      <td>0</td>\n",
       "      <td>0</td>\n",
       "      <td>0</td>\n",
       "      <td>0</td>\n",
       "      <td>0</td>\n",
       "      <td>0</td>\n",
       "      <td>...</td>\n",
       "      <td>750</td>\n",
       "      <td>766</td>\n",
       "      <td>773</td>\n",
       "      <td>4.719</td>\n",
       "      <td>0.947</td>\n",
       "      <td>0.848</td>\n",
       "      <td>0.874</td>\n",
       "      <td>0.383</td>\n",
       "      <td>0.178</td>\n",
       "      <td>0.027</td>\n",
       "    </tr>\n",
       "    <tr>\n",
       "      <th>4</th>\n",
       "      <td>None</td>\n",
       "      <td>Algeria</td>\n",
       "      <td>28.0339</td>\n",
       "      <td>1.6596</td>\n",
       "      <td>0</td>\n",
       "      <td>0</td>\n",
       "      <td>0</td>\n",
       "      <td>0</td>\n",
       "      <td>0</td>\n",
       "      <td>0</td>\n",
       "      <td>...</td>\n",
       "      <td>3649</td>\n",
       "      <td>3848</td>\n",
       "      <td>4006</td>\n",
       "      <td>5.211</td>\n",
       "      <td>1.002</td>\n",
       "      <td>1.160</td>\n",
       "      <td>0.785</td>\n",
       "      <td>0.086</td>\n",
       "      <td>0.073</td>\n",
       "      <td>0.114</td>\n",
       "    </tr>\n",
       "  </tbody>\n",
       "</table>\n",
       "<p>5 rows × 111 columns</p>\n",
       "</div>"
      ],
      "text/plain": [
       "  Province/State Country/Region      Lat     Long  1/22/20  1/23/20  1/24/20  \\\n",
       "0           None    Afghanistan  33.0000  65.0000        0        0        0   \n",
       "1           None    Afghanistan  33.0000  65.0000        0        0        0   \n",
       "2           None        Albania  41.1533  20.1683        0        0        0   \n",
       "3           None        Albania  41.1533  20.1683        0        0        0   \n",
       "4           None        Algeria  28.0339   1.6596        0        0        0   \n",
       "\n",
       "   1/25/20  1/26/20  1/27/20  ...  4/28/20  4/29/20  4/30/20  Score  \\\n",
       "0        0        0        0  ...     1828     1939     2171  3.203   \n",
       "1        0        0        0  ...     1828     1939     2171  3.203   \n",
       "2        0        0        0  ...      750      766      773  4.719   \n",
       "3        0        0        0  ...      750      766      773  4.719   \n",
       "4        0        0        0  ...     3649     3848     4006  5.211   \n",
       "\n",
       "   GDP per capita  Social support  Healthy life expectancy  \\\n",
       "0           0.350           0.517                    0.361   \n",
       "1           0.350           0.517                    0.361   \n",
       "2           0.947           0.848                    0.874   \n",
       "3           0.947           0.848                    0.874   \n",
       "4           1.002           1.160                    0.785   \n",
       "\n",
       "   Freedom to make life choices  Generosity  Perceptions of corruption  \n",
       "0                         0.000       0.158                      0.025  \n",
       "1                         0.000       0.158                      0.025  \n",
       "2                         0.383       0.178                      0.027  \n",
       "3                         0.383       0.178                      0.027  \n",
       "4                         0.086       0.073                      0.114  \n",
       "\n",
       "[5 rows x 111 columns]"
      ]
     },
     "execution_count": 43,
     "metadata": {},
     "output_type": "execute_result"
    }
   ],
   "source": [
    "df_joined.drop(columns=['index','Overall rank', 'Country or region'],axis=1,inplace=True)\n",
    "df_joined.head()"
   ]
  },
  {
   "cell_type": "code",
   "execution_count": 44,
   "metadata": {},
   "outputs": [
    {
     "data": {
      "text/plain": [
       "(1332, 111)"
      ]
     },
     "execution_count": 44,
     "metadata": {},
     "output_type": "execute_result"
    }
   ],
   "source": [
    "df_joined.shape"
   ]
  },
  {
   "cell_type": "markdown",
   "metadata": {},
   "source": [
    "To avoid repetition, let's sort the data by country."
   ]
  },
  {
   "cell_type": "code",
   "execution_count": 45,
   "metadata": {},
   "outputs": [
    {
     "data": {
      "text/html": [
       "<div>\n",
       "<style scoped>\n",
       "    .dataframe tbody tr th:only-of-type {\n",
       "        vertical-align: middle;\n",
       "    }\n",
       "\n",
       "    .dataframe tbody tr th {\n",
       "        vertical-align: top;\n",
       "    }\n",
       "\n",
       "    .dataframe thead th {\n",
       "        text-align: right;\n",
       "    }\n",
       "</style>\n",
       "<table border=\"1\" class=\"dataframe\">\n",
       "  <thead>\n",
       "    <tr style=\"text-align: right;\">\n",
       "      <th></th>\n",
       "      <th>Province/State</th>\n",
       "      <th>Country/Region</th>\n",
       "      <th>Lat</th>\n",
       "      <th>Long</th>\n",
       "      <th>1/22/20</th>\n",
       "      <th>1/23/20</th>\n",
       "      <th>1/24/20</th>\n",
       "      <th>1/25/20</th>\n",
       "      <th>1/26/20</th>\n",
       "      <th>1/27/20</th>\n",
       "      <th>...</th>\n",
       "      <th>4/28/20</th>\n",
       "      <th>4/29/20</th>\n",
       "      <th>4/30/20</th>\n",
       "      <th>Score</th>\n",
       "      <th>GDP per capita</th>\n",
       "      <th>Social support</th>\n",
       "      <th>Healthy life expectancy</th>\n",
       "      <th>Freedom to make life choices</th>\n",
       "      <th>Generosity</th>\n",
       "      <th>Perceptions of corruption</th>\n",
       "    </tr>\n",
       "  </thead>\n",
       "  <tbody>\n",
       "    <tr>\n",
       "      <th>0</th>\n",
       "      <td>None</td>\n",
       "      <td>Afghanistan</td>\n",
       "      <td>33.0</td>\n",
       "      <td>65.0</td>\n",
       "      <td>0</td>\n",
       "      <td>0</td>\n",
       "      <td>0</td>\n",
       "      <td>0</td>\n",
       "      <td>0</td>\n",
       "      <td>0</td>\n",
       "      <td>...</td>\n",
       "      <td>1828</td>\n",
       "      <td>1939</td>\n",
       "      <td>2171</td>\n",
       "      <td>3.203</td>\n",
       "      <td>0.35</td>\n",
       "      <td>0.517</td>\n",
       "      <td>0.361</td>\n",
       "      <td>0.0</td>\n",
       "      <td>0.158</td>\n",
       "      <td>0.025</td>\n",
       "    </tr>\n",
       "    <tr>\n",
       "      <th>889</th>\n",
       "      <td>None</td>\n",
       "      <td>Afghanistan</td>\n",
       "      <td>33.0</td>\n",
       "      <td>65.0</td>\n",
       "      <td>0</td>\n",
       "      <td>0</td>\n",
       "      <td>0</td>\n",
       "      <td>0</td>\n",
       "      <td>0</td>\n",
       "      <td>0</td>\n",
       "      <td>...</td>\n",
       "      <td>1828</td>\n",
       "      <td>1939</td>\n",
       "      <td>2171</td>\n",
       "      <td>3.203</td>\n",
       "      <td>0.35</td>\n",
       "      <td>0.517</td>\n",
       "      <td>0.361</td>\n",
       "      <td>0.0</td>\n",
       "      <td>0.158</td>\n",
       "      <td>0.025</td>\n",
       "    </tr>\n",
       "    <tr>\n",
       "      <th>445</th>\n",
       "      <td>None</td>\n",
       "      <td>Afghanistan</td>\n",
       "      <td>33.0</td>\n",
       "      <td>65.0</td>\n",
       "      <td>0</td>\n",
       "      <td>0</td>\n",
       "      <td>0</td>\n",
       "      <td>0</td>\n",
       "      <td>0</td>\n",
       "      <td>0</td>\n",
       "      <td>...</td>\n",
       "      <td>1828</td>\n",
       "      <td>1939</td>\n",
       "      <td>2171</td>\n",
       "      <td>3.203</td>\n",
       "      <td>0.35</td>\n",
       "      <td>0.517</td>\n",
       "      <td>0.361</td>\n",
       "      <td>0.0</td>\n",
       "      <td>0.158</td>\n",
       "      <td>0.025</td>\n",
       "    </tr>\n",
       "    <tr>\n",
       "      <th>444</th>\n",
       "      <td>None</td>\n",
       "      <td>Afghanistan</td>\n",
       "      <td>33.0</td>\n",
       "      <td>65.0</td>\n",
       "      <td>0</td>\n",
       "      <td>0</td>\n",
       "      <td>0</td>\n",
       "      <td>0</td>\n",
       "      <td>0</td>\n",
       "      <td>0</td>\n",
       "      <td>...</td>\n",
       "      <td>1828</td>\n",
       "      <td>1939</td>\n",
       "      <td>2171</td>\n",
       "      <td>3.203</td>\n",
       "      <td>0.35</td>\n",
       "      <td>0.517</td>\n",
       "      <td>0.361</td>\n",
       "      <td>0.0</td>\n",
       "      <td>0.158</td>\n",
       "      <td>0.025</td>\n",
       "    </tr>\n",
       "    <tr>\n",
       "      <th>888</th>\n",
       "      <td>None</td>\n",
       "      <td>Afghanistan</td>\n",
       "      <td>33.0</td>\n",
       "      <td>65.0</td>\n",
       "      <td>0</td>\n",
       "      <td>0</td>\n",
       "      <td>0</td>\n",
       "      <td>0</td>\n",
       "      <td>0</td>\n",
       "      <td>0</td>\n",
       "      <td>...</td>\n",
       "      <td>1828</td>\n",
       "      <td>1939</td>\n",
       "      <td>2171</td>\n",
       "      <td>3.203</td>\n",
       "      <td>0.35</td>\n",
       "      <td>0.517</td>\n",
       "      <td>0.361</td>\n",
       "      <td>0.0</td>\n",
       "      <td>0.158</td>\n",
       "      <td>0.025</td>\n",
       "    </tr>\n",
       "  </tbody>\n",
       "</table>\n",
       "<p>5 rows × 111 columns</p>\n",
       "</div>"
      ],
      "text/plain": [
       "    Province/State Country/Region   Lat  Long  1/22/20  1/23/20  1/24/20  \\\n",
       "0             None    Afghanistan  33.0  65.0        0        0        0   \n",
       "889           None    Afghanistan  33.0  65.0        0        0        0   \n",
       "445           None    Afghanistan  33.0  65.0        0        0        0   \n",
       "444           None    Afghanistan  33.0  65.0        0        0        0   \n",
       "888           None    Afghanistan  33.0  65.0        0        0        0   \n",
       "\n",
       "     1/25/20  1/26/20  1/27/20  ...  4/28/20  4/29/20  4/30/20  Score  \\\n",
       "0          0        0        0  ...     1828     1939     2171  3.203   \n",
       "889        0        0        0  ...     1828     1939     2171  3.203   \n",
       "445        0        0        0  ...     1828     1939     2171  3.203   \n",
       "444        0        0        0  ...     1828     1939     2171  3.203   \n",
       "888        0        0        0  ...     1828     1939     2171  3.203   \n",
       "\n",
       "     GDP per capita  Social support  Healthy life expectancy  \\\n",
       "0              0.35           0.517                    0.361   \n",
       "889            0.35           0.517                    0.361   \n",
       "445            0.35           0.517                    0.361   \n",
       "444            0.35           0.517                    0.361   \n",
       "888            0.35           0.517                    0.361   \n",
       "\n",
       "     Freedom to make life choices  Generosity  Perceptions of corruption  \n",
       "0                             0.0       0.158                      0.025  \n",
       "889                           0.0       0.158                      0.025  \n",
       "445                           0.0       0.158                      0.025  \n",
       "444                           0.0       0.158                      0.025  \n",
       "888                           0.0       0.158                      0.025  \n",
       "\n",
       "[5 rows x 111 columns]"
      ]
     },
     "execution_count": 45,
     "metadata": {},
     "output_type": "execute_result"
    }
   ],
   "source": [
    "df_joined.sort_values('Country/Region',inplace=True)\n",
    "df_joined.head()"
   ]
  },
  {
   "cell_type": "markdown",
   "metadata": {},
   "source": [
    "It is obvious that data is duplicated."
   ]
  },
  {
   "cell_type": "code",
   "execution_count": 46,
   "metadata": {},
   "outputs": [
    {
     "data": {
      "text/html": [
       "<div>\n",
       "<style scoped>\n",
       "    .dataframe tbody tr th:only-of-type {\n",
       "        vertical-align: middle;\n",
       "    }\n",
       "\n",
       "    .dataframe tbody tr th {\n",
       "        vertical-align: top;\n",
       "    }\n",
       "\n",
       "    .dataframe thead th {\n",
       "        text-align: right;\n",
       "    }\n",
       "</style>\n",
       "<table border=\"1\" class=\"dataframe\">\n",
       "  <thead>\n",
       "    <tr style=\"text-align: right;\">\n",
       "      <th></th>\n",
       "      <th>Province/State</th>\n",
       "      <th>Country/Region</th>\n",
       "      <th>Lat</th>\n",
       "      <th>Long</th>\n",
       "      <th>1/22/20</th>\n",
       "      <th>1/23/20</th>\n",
       "      <th>1/24/20</th>\n",
       "      <th>1/25/20</th>\n",
       "      <th>1/26/20</th>\n",
       "      <th>1/27/20</th>\n",
       "      <th>...</th>\n",
       "      <th>4/28/20</th>\n",
       "      <th>4/29/20</th>\n",
       "      <th>4/30/20</th>\n",
       "      <th>Score</th>\n",
       "      <th>GDP per capita</th>\n",
       "      <th>Social support</th>\n",
       "      <th>Healthy life expectancy</th>\n",
       "      <th>Freedom to make life choices</th>\n",
       "      <th>Generosity</th>\n",
       "      <th>Perceptions of corruption</th>\n",
       "    </tr>\n",
       "  </thead>\n",
       "  <tbody>\n",
       "    <tr>\n",
       "      <th>0</th>\n",
       "      <td>None</td>\n",
       "      <td>Afghanistan</td>\n",
       "      <td>33.0000</td>\n",
       "      <td>65.0000</td>\n",
       "      <td>0</td>\n",
       "      <td>0</td>\n",
       "      <td>0</td>\n",
       "      <td>0</td>\n",
       "      <td>0</td>\n",
       "      <td>0</td>\n",
       "      <td>...</td>\n",
       "      <td>1828</td>\n",
       "      <td>1939</td>\n",
       "      <td>2171</td>\n",
       "      <td>3.203</td>\n",
       "      <td>0.350</td>\n",
       "      <td>0.517</td>\n",
       "      <td>0.361</td>\n",
       "      <td>0.000</td>\n",
       "      <td>0.158</td>\n",
       "      <td>0.025</td>\n",
       "    </tr>\n",
       "    <tr>\n",
       "      <th>891</th>\n",
       "      <td>None</td>\n",
       "      <td>Albania</td>\n",
       "      <td>41.1533</td>\n",
       "      <td>20.1683</td>\n",
       "      <td>0</td>\n",
       "      <td>0</td>\n",
       "      <td>0</td>\n",
       "      <td>0</td>\n",
       "      <td>0</td>\n",
       "      <td>0</td>\n",
       "      <td>...</td>\n",
       "      <td>750</td>\n",
       "      <td>766</td>\n",
       "      <td>773</td>\n",
       "      <td>4.719</td>\n",
       "      <td>0.947</td>\n",
       "      <td>0.848</td>\n",
       "      <td>0.874</td>\n",
       "      <td>0.383</td>\n",
       "      <td>0.178</td>\n",
       "      <td>0.027</td>\n",
       "    </tr>\n",
       "    <tr>\n",
       "      <th>5</th>\n",
       "      <td>None</td>\n",
       "      <td>Algeria</td>\n",
       "      <td>28.0339</td>\n",
       "      <td>1.6596</td>\n",
       "      <td>0</td>\n",
       "      <td>0</td>\n",
       "      <td>0</td>\n",
       "      <td>0</td>\n",
       "      <td>0</td>\n",
       "      <td>0</td>\n",
       "      <td>...</td>\n",
       "      <td>3649</td>\n",
       "      <td>3848</td>\n",
       "      <td>4006</td>\n",
       "      <td>5.211</td>\n",
       "      <td>1.002</td>\n",
       "      <td>1.160</td>\n",
       "      <td>0.785</td>\n",
       "      <td>0.086</td>\n",
       "      <td>0.073</td>\n",
       "      <td>0.114</td>\n",
       "    </tr>\n",
       "    <tr>\n",
       "      <th>450</th>\n",
       "      <td>None</td>\n",
       "      <td>Argentina</td>\n",
       "      <td>-38.4161</td>\n",
       "      <td>-63.6167</td>\n",
       "      <td>0</td>\n",
       "      <td>0</td>\n",
       "      <td>0</td>\n",
       "      <td>0</td>\n",
       "      <td>0</td>\n",
       "      <td>0</td>\n",
       "      <td>...</td>\n",
       "      <td>4127</td>\n",
       "      <td>4285</td>\n",
       "      <td>4428</td>\n",
       "      <td>6.086</td>\n",
       "      <td>1.092</td>\n",
       "      <td>1.432</td>\n",
       "      <td>0.881</td>\n",
       "      <td>0.471</td>\n",
       "      <td>0.066</td>\n",
       "      <td>0.050</td>\n",
       "    </tr>\n",
       "    <tr>\n",
       "      <th>896</th>\n",
       "      <td>None</td>\n",
       "      <td>Armenia</td>\n",
       "      <td>40.0691</td>\n",
       "      <td>45.0382</td>\n",
       "      <td>0</td>\n",
       "      <td>0</td>\n",
       "      <td>0</td>\n",
       "      <td>0</td>\n",
       "      <td>0</td>\n",
       "      <td>0</td>\n",
       "      <td>...</td>\n",
       "      <td>1867</td>\n",
       "      <td>1932</td>\n",
       "      <td>2066</td>\n",
       "      <td>4.559</td>\n",
       "      <td>0.850</td>\n",
       "      <td>1.055</td>\n",
       "      <td>0.815</td>\n",
       "      <td>0.283</td>\n",
       "      <td>0.095</td>\n",
       "      <td>0.064</td>\n",
       "    </tr>\n",
       "  </tbody>\n",
       "</table>\n",
       "<p>5 rows × 111 columns</p>\n",
       "</div>"
      ],
      "text/plain": [
       "    Province/State Country/Region      Lat     Long  1/22/20  1/23/20  \\\n",
       "0             None    Afghanistan  33.0000  65.0000        0        0   \n",
       "891           None        Albania  41.1533  20.1683        0        0   \n",
       "5             None        Algeria  28.0339   1.6596        0        0   \n",
       "450           None      Argentina -38.4161 -63.6167        0        0   \n",
       "896           None        Armenia  40.0691  45.0382        0        0   \n",
       "\n",
       "     1/24/20  1/25/20  1/26/20  1/27/20  ...  4/28/20  4/29/20  4/30/20  \\\n",
       "0          0        0        0        0  ...     1828     1939     2171   \n",
       "891        0        0        0        0  ...      750      766      773   \n",
       "5          0        0        0        0  ...     3649     3848     4006   \n",
       "450        0        0        0        0  ...     4127     4285     4428   \n",
       "896        0        0        0        0  ...     1867     1932     2066   \n",
       "\n",
       "     Score  GDP per capita  Social support  Healthy life expectancy  \\\n",
       "0    3.203           0.350           0.517                    0.361   \n",
       "891  4.719           0.947           0.848                    0.874   \n",
       "5    5.211           1.002           1.160                    0.785   \n",
       "450  6.086           1.092           1.432                    0.881   \n",
       "896  4.559           0.850           1.055                    0.815   \n",
       "\n",
       "     Freedom to make life choices  Generosity  Perceptions of corruption  \n",
       "0                           0.000       0.158                      0.025  \n",
       "891                         0.383       0.178                      0.027  \n",
       "5                           0.086       0.073                      0.114  \n",
       "450                         0.471       0.066                      0.050  \n",
       "896                         0.283       0.095                      0.064  \n",
       "\n",
       "[5 rows x 111 columns]"
      ]
     },
     "execution_count": 46,
     "metadata": {},
     "output_type": "execute_result"
    }
   ],
   "source": [
    "df_joined.drop_duplicates(inplace=True)\n",
    "df_joined.head()"
   ]
  },
  {
   "cell_type": "markdown",
   "metadata": {},
   "source": [
    "Now let's reset the indexes and look at the shape."
   ]
  },
  {
   "cell_type": "code",
   "execution_count": 47,
   "metadata": {},
   "outputs": [
    {
     "data": {
      "text/plain": [
       "(222, 111)"
      ]
     },
     "execution_count": 47,
     "metadata": {},
     "output_type": "execute_result"
    }
   ],
   "source": [
    "df_joined.reset_index(drop=True,inplace=True)\n",
    "df_joined.shape"
   ]
  },
  {
   "cell_type": "markdown",
   "metadata": {},
   "source": [
    "It is evident that all data was duplicated. Now, let's mix the values of Province/State with Country/Region for those cases that have both values."
   ]
  },
  {
   "cell_type": "code",
   "execution_count": 48,
   "metadata": {},
   "outputs": [
    {
     "name": "stdout",
     "output_type": "stream",
     "text": [
      "The number of non-null values in Province is: 0\n"
     ]
    }
   ],
   "source": [
    "for i in range(len(df_joined)):\n",
    "    \n",
    "    if df_joined[\"Province/State\"].notnull()[i]:\n",
    "        \n",
    "        df_joined.loc[i,\"Country/Region\"]= df_joined.loc[i,\"Province/State\"] +' ('+df_joined.loc[i,\"Country/Region\"] + ')'\n",
    "        df_joined.loc[i,\"Province/State\"]= None\n",
    "\n",
    "print('The number of non-null values in Province is:', df_joined['Province/State'].notnull().sum())\n",
    "winsound.Beep(freq, duration)"
   ]
  },
  {
   "cell_type": "markdown",
   "metadata": {},
   "source": [
    "It's time to drop the 'Province/State' column."
   ]
  },
  {
   "cell_type": "code",
   "execution_count": 49,
   "metadata": {},
   "outputs": [
    {
     "data": {
      "text/html": [
       "<div>\n",
       "<style scoped>\n",
       "    .dataframe tbody tr th:only-of-type {\n",
       "        vertical-align: middle;\n",
       "    }\n",
       "\n",
       "    .dataframe tbody tr th {\n",
       "        vertical-align: top;\n",
       "    }\n",
       "\n",
       "    .dataframe thead th {\n",
       "        text-align: right;\n",
       "    }\n",
       "</style>\n",
       "<table border=\"1\" class=\"dataframe\">\n",
       "  <thead>\n",
       "    <tr style=\"text-align: right;\">\n",
       "      <th></th>\n",
       "      <th>Country/Region</th>\n",
       "      <th>Lat</th>\n",
       "      <th>Long</th>\n",
       "      <th>1/22/20</th>\n",
       "      <th>1/23/20</th>\n",
       "      <th>1/24/20</th>\n",
       "      <th>1/25/20</th>\n",
       "      <th>1/26/20</th>\n",
       "      <th>1/27/20</th>\n",
       "      <th>1/28/20</th>\n",
       "      <th>...</th>\n",
       "      <th>4/28/20</th>\n",
       "      <th>4/29/20</th>\n",
       "      <th>4/30/20</th>\n",
       "      <th>Score</th>\n",
       "      <th>GDP per capita</th>\n",
       "      <th>Social support</th>\n",
       "      <th>Healthy life expectancy</th>\n",
       "      <th>Freedom to make life choices</th>\n",
       "      <th>Generosity</th>\n",
       "      <th>Perceptions of corruption</th>\n",
       "    </tr>\n",
       "  </thead>\n",
       "  <tbody>\n",
       "    <tr>\n",
       "      <th>0</th>\n",
       "      <td>Afghanistan</td>\n",
       "      <td>33.0000</td>\n",
       "      <td>65.0000</td>\n",
       "      <td>0</td>\n",
       "      <td>0</td>\n",
       "      <td>0</td>\n",
       "      <td>0</td>\n",
       "      <td>0</td>\n",
       "      <td>0</td>\n",
       "      <td>0</td>\n",
       "      <td>...</td>\n",
       "      <td>1828</td>\n",
       "      <td>1939</td>\n",
       "      <td>2171</td>\n",
       "      <td>3.203</td>\n",
       "      <td>0.350</td>\n",
       "      <td>0.517</td>\n",
       "      <td>0.361</td>\n",
       "      <td>0.000</td>\n",
       "      <td>0.158</td>\n",
       "      <td>0.025</td>\n",
       "    </tr>\n",
       "    <tr>\n",
       "      <th>1</th>\n",
       "      <td>Albania</td>\n",
       "      <td>41.1533</td>\n",
       "      <td>20.1683</td>\n",
       "      <td>0</td>\n",
       "      <td>0</td>\n",
       "      <td>0</td>\n",
       "      <td>0</td>\n",
       "      <td>0</td>\n",
       "      <td>0</td>\n",
       "      <td>0</td>\n",
       "      <td>...</td>\n",
       "      <td>750</td>\n",
       "      <td>766</td>\n",
       "      <td>773</td>\n",
       "      <td>4.719</td>\n",
       "      <td>0.947</td>\n",
       "      <td>0.848</td>\n",
       "      <td>0.874</td>\n",
       "      <td>0.383</td>\n",
       "      <td>0.178</td>\n",
       "      <td>0.027</td>\n",
       "    </tr>\n",
       "    <tr>\n",
       "      <th>2</th>\n",
       "      <td>Algeria</td>\n",
       "      <td>28.0339</td>\n",
       "      <td>1.6596</td>\n",
       "      <td>0</td>\n",
       "      <td>0</td>\n",
       "      <td>0</td>\n",
       "      <td>0</td>\n",
       "      <td>0</td>\n",
       "      <td>0</td>\n",
       "      <td>0</td>\n",
       "      <td>...</td>\n",
       "      <td>3649</td>\n",
       "      <td>3848</td>\n",
       "      <td>4006</td>\n",
       "      <td>5.211</td>\n",
       "      <td>1.002</td>\n",
       "      <td>1.160</td>\n",
       "      <td>0.785</td>\n",
       "      <td>0.086</td>\n",
       "      <td>0.073</td>\n",
       "      <td>0.114</td>\n",
       "    </tr>\n",
       "    <tr>\n",
       "      <th>3</th>\n",
       "      <td>Argentina</td>\n",
       "      <td>-38.4161</td>\n",
       "      <td>-63.6167</td>\n",
       "      <td>0</td>\n",
       "      <td>0</td>\n",
       "      <td>0</td>\n",
       "      <td>0</td>\n",
       "      <td>0</td>\n",
       "      <td>0</td>\n",
       "      <td>0</td>\n",
       "      <td>...</td>\n",
       "      <td>4127</td>\n",
       "      <td>4285</td>\n",
       "      <td>4428</td>\n",
       "      <td>6.086</td>\n",
       "      <td>1.092</td>\n",
       "      <td>1.432</td>\n",
       "      <td>0.881</td>\n",
       "      <td>0.471</td>\n",
       "      <td>0.066</td>\n",
       "      <td>0.050</td>\n",
       "    </tr>\n",
       "    <tr>\n",
       "      <th>4</th>\n",
       "      <td>Armenia</td>\n",
       "      <td>40.0691</td>\n",
       "      <td>45.0382</td>\n",
       "      <td>0</td>\n",
       "      <td>0</td>\n",
       "      <td>0</td>\n",
       "      <td>0</td>\n",
       "      <td>0</td>\n",
       "      <td>0</td>\n",
       "      <td>0</td>\n",
       "      <td>...</td>\n",
       "      <td>1867</td>\n",
       "      <td>1932</td>\n",
       "      <td>2066</td>\n",
       "      <td>4.559</td>\n",
       "      <td>0.850</td>\n",
       "      <td>1.055</td>\n",
       "      <td>0.815</td>\n",
       "      <td>0.283</td>\n",
       "      <td>0.095</td>\n",
       "      <td>0.064</td>\n",
       "    </tr>\n",
       "  </tbody>\n",
       "</table>\n",
       "<p>5 rows × 110 columns</p>\n",
       "</div>"
      ],
      "text/plain": [
       "  Country/Region      Lat     Long  1/22/20  1/23/20  1/24/20  1/25/20  \\\n",
       "0    Afghanistan  33.0000  65.0000        0        0        0        0   \n",
       "1        Albania  41.1533  20.1683        0        0        0        0   \n",
       "2        Algeria  28.0339   1.6596        0        0        0        0   \n",
       "3      Argentina -38.4161 -63.6167        0        0        0        0   \n",
       "4        Armenia  40.0691  45.0382        0        0        0        0   \n",
       "\n",
       "   1/26/20  1/27/20  1/28/20  ...  4/28/20  4/29/20  4/30/20  Score  \\\n",
       "0        0        0        0  ...     1828     1939     2171  3.203   \n",
       "1        0        0        0  ...      750      766      773  4.719   \n",
       "2        0        0        0  ...     3649     3848     4006  5.211   \n",
       "3        0        0        0  ...     4127     4285     4428  6.086   \n",
       "4        0        0        0  ...     1867     1932     2066  4.559   \n",
       "\n",
       "   GDP per capita  Social support  Healthy life expectancy  \\\n",
       "0           0.350           0.517                    0.361   \n",
       "1           0.947           0.848                    0.874   \n",
       "2           1.002           1.160                    0.785   \n",
       "3           1.092           1.432                    0.881   \n",
       "4           0.850           1.055                    0.815   \n",
       "\n",
       "   Freedom to make life choices  Generosity  Perceptions of corruption  \n",
       "0                         0.000       0.158                      0.025  \n",
       "1                         0.383       0.178                      0.027  \n",
       "2                         0.086       0.073                      0.114  \n",
       "3                         0.471       0.066                      0.050  \n",
       "4                         0.283       0.095                      0.064  \n",
       "\n",
       "[5 rows x 110 columns]"
      ]
     },
     "execution_count": 49,
     "metadata": {},
     "output_type": "execute_result"
    }
   ],
   "source": [
    "df_joined.drop('Province/State', axis=1,inplace=True)\n",
    "df_joined.head()"
   ]
  },
  {
   "cell_type": "markdown",
   "metadata": {},
   "source": [
    "Also, to avoid confusion, let's change the name of the 'Score' column to 'Happiness Score' to avoid confusion. Then let's sort the values alphabetically."
   ]
  },
  {
   "cell_type": "code",
   "execution_count": 50,
   "metadata": {},
   "outputs": [],
   "source": [
    "df_joined.rename(columns={'Score':'Happiness Score'},inplace=True)\n",
    "df_joined.sort_values('Country/Region',inplace=True)\n",
    "df_joined.reset_index(drop=True,inplace=True)"
   ]
  },
  {
   "cell_type": "code",
   "execution_count": 51,
   "metadata": {},
   "outputs": [
    {
     "data": {
      "text/plain": [
       "(222, 110)"
      ]
     },
     "execution_count": 51,
     "metadata": {},
     "output_type": "execute_result"
    }
   ],
   "source": [
    "df_joined.shape"
   ]
  },
  {
   "cell_type": "markdown",
   "metadata": {},
   "source": [
    "Using the data from the UN (https://population.un.org/wpp/Download/Files/1_Indicators%20(Standard)/EXCEL_FILES/1_Population/WPP2019_POP_F01_1_TOTAL_POPULATION_BOTH_SEXES.xlsx), I constructed a new data set that includes countries and its population of 2019 (before the impact of the pandemic). For specific territories or missing countries from this data, other sources were used. All this is found in the pop_data.csv file."
   ]
  },
  {
   "cell_type": "code",
   "execution_count": 52,
   "metadata": {},
   "outputs": [
    {
     "name": "stdout",
     "output_type": "stream",
     "text": [
      "2020-10-06 10:35:52,569 INFO sqlalchemy.engine.base.Engine PRAGMA main.table_info(\"POPULATION\")\n",
      "2020-10-06 10:35:52,577 INFO sqlalchemy.engine.base.Engine ()\n",
      "2020-10-06 10:35:52,577 INFO sqlalchemy.engine.base.Engine PRAGMA main.table_info(\"POPULATION\")\n",
      "2020-10-06 10:35:52,577 INFO sqlalchemy.engine.base.Engine ()\n",
      "2020-10-06 10:35:52,585 INFO sqlalchemy.engine.base.Engine SELECT name FROM sqlite_master WHERE type='table' ORDER BY name\n",
      "2020-10-06 10:35:52,585 INFO sqlalchemy.engine.base.Engine ()\n",
      "2020-10-06 10:35:52,593 INFO sqlalchemy.engine.base.Engine PRAGMA main.table_xinfo(\"POPULATION\")\n",
      "2020-10-06 10:35:52,593 INFO sqlalchemy.engine.base.Engine ()\n",
      "2020-10-06 10:35:52,593 INFO sqlalchemy.engine.base.Engine SELECT sql FROM  (SELECT * FROM sqlite_master UNION ALL   SELECT * FROM sqlite_temp_master) WHERE name = ? AND type = 'table'\n",
      "2020-10-06 10:35:52,593 INFO sqlalchemy.engine.base.Engine ('POPULATION',)\n",
      "2020-10-06 10:35:52,601 INFO sqlalchemy.engine.base.Engine PRAGMA main.foreign_key_list(\"POPULATION\")\n",
      "2020-10-06 10:35:52,601 INFO sqlalchemy.engine.base.Engine ()\n",
      "2020-10-06 10:35:52,601 INFO sqlalchemy.engine.base.Engine PRAGMA temp.foreign_key_list(\"POPULATION\")\n",
      "2020-10-06 10:35:52,601 INFO sqlalchemy.engine.base.Engine ()\n",
      "2020-10-06 10:35:52,601 INFO sqlalchemy.engine.base.Engine SELECT sql FROM  (SELECT * FROM sqlite_master UNION ALL   SELECT * FROM sqlite_temp_master) WHERE name = ? AND type = 'table'\n",
      "2020-10-06 10:35:52,601 INFO sqlalchemy.engine.base.Engine ('POPULATION',)\n",
      "2020-10-06 10:35:52,609 INFO sqlalchemy.engine.base.Engine PRAGMA main.index_list(\"POPULATION\")\n",
      "2020-10-06 10:35:52,609 INFO sqlalchemy.engine.base.Engine ()\n",
      "2020-10-06 10:35:52,617 INFO sqlalchemy.engine.base.Engine PRAGMA main.index_info(\"ix_POPULATION_index\")\n",
      "2020-10-06 10:35:52,617 INFO sqlalchemy.engine.base.Engine ()\n",
      "2020-10-06 10:35:52,617 INFO sqlalchemy.engine.base.Engine PRAGMA main.index_list(\"POPULATION\")\n",
      "2020-10-06 10:35:52,625 INFO sqlalchemy.engine.base.Engine ()\n",
      "2020-10-06 10:35:52,625 INFO sqlalchemy.engine.base.Engine PRAGMA main.index_info(\"ix_POPULATION_index\")\n",
      "2020-10-06 10:35:52,625 INFO sqlalchemy.engine.base.Engine ()\n",
      "2020-10-06 10:35:52,625 INFO sqlalchemy.engine.base.Engine SELECT sql FROM  (SELECT * FROM sqlite_master UNION ALL   SELECT * FROM sqlite_temp_master) WHERE name = ? AND type = 'table'\n",
      "2020-10-06 10:35:52,633 INFO sqlalchemy.engine.base.Engine ('POPULATION',)\n",
      "2020-10-06 10:35:52,633 INFO sqlalchemy.engine.base.Engine \n",
      "DROP TABLE \"POPULATION\"\n",
      "2020-10-06 10:35:52,633 INFO sqlalchemy.engine.base.Engine ()\n",
      "2020-10-06 10:35:52,641 INFO sqlalchemy.engine.base.Engine COMMIT\n",
      "2020-10-06 10:35:52,649 INFO sqlalchemy.engine.base.Engine \n",
      "CREATE TABLE \"POPULATION\" (\n",
      "\t\"index\" BIGINT, \n",
      "\t\"Country\" TEXT, \n",
      "\t\"Population 2019\" TEXT, \n",
      "\t\"Source\" TEXT\n",
      ")\n",
      "\n",
      "\n",
      "2020-10-06 10:35:52,649 INFO sqlalchemy.engine.base.Engine ()\n",
      "2020-10-06 10:35:52,663 INFO sqlalchemy.engine.base.Engine COMMIT\n",
      "2020-10-06 10:35:52,672 INFO sqlalchemy.engine.base.Engine CREATE INDEX \"ix_POPULATION_index\" ON \"POPULATION\" (\"index\")\n",
      "2020-10-06 10:35:52,672 INFO sqlalchemy.engine.base.Engine ()\n",
      "2020-10-06 10:35:52,679 INFO sqlalchemy.engine.base.Engine COMMIT\n",
      "2020-10-06 10:35:52,687 INFO sqlalchemy.engine.base.Engine BEGIN (implicit)\n",
      "2020-10-06 10:35:52,695 INFO sqlalchemy.engine.base.Engine INSERT INTO \"POPULATION\" (\"index\", \"Country\", \"Population 2019\", \"Source\") VALUES (?, ?, ?, ?)\n",
      "2020-10-06 10:35:52,695 INFO sqlalchemy.engine.base.Engine ((0, 'Afghanistan', '38041757', 'UN'), (1, 'Albania', '2880913', 'UN'), (2, 'Alberta (Canada)', '4384968', 'statcan.gc.ca'), (3, 'Algeria', '43053054', 'UN'), (4, 'American Samoa', '55312', 'UN'), (5, 'Andorra', '77146', 'UN'), (6, 'Angola', '31825299', 'UN'), (7, 'Anguilla', '14872', 'UN')  ... displaying 10 of 329 total bound parameter sets ...  (327, 'Zhejiang (China)', '57370000', 'statista.com'), (328, 'Zimbabwe', '14645473', 'UN'))\n",
      "2020-10-06 10:35:52,703 INFO sqlalchemy.engine.base.Engine COMMIT\n",
      "2020-10-06 10:35:52,703 INFO sqlalchemy.engine.base.Engine SELECT name FROM sqlite_master WHERE type='table' ORDER BY name\n",
      "2020-10-06 10:35:52,711 INFO sqlalchemy.engine.base.Engine ()\n"
     ]
    }
   ],
   "source": [
    "path3 = './pop_data.csv'\n",
    "df3 = pd.read_csv(path3)\n",
    "df3.to_sql('POPULATION', con=engine, if_exists='replace')"
   ]
  },
  {
   "cell_type": "code",
   "execution_count": 53,
   "metadata": {
    "scrolled": true
   },
   "outputs": [
    {
     "name": "stdout",
     "output_type": "stream",
     "text": [
      " * sqlite:///sqlite3.db\n",
      "Done.\n"
     ]
    },
    {
     "data": {
      "text/html": [
       "<table>\n",
       "    <tr>\n",
       "        <th>index</th>\n",
       "        <th>Country</th>\n",
       "        <th>Population 2019</th>\n",
       "        <th>Source</th>\n",
       "    </tr>\n",
       "    <tr>\n",
       "        <td>0</td>\n",
       "        <td>Afghanistan</td>\n",
       "        <td>38041757</td>\n",
       "        <td>UN</td>\n",
       "    </tr>\n",
       "    <tr>\n",
       "        <td>1</td>\n",
       "        <td>Albania</td>\n",
       "        <td>2880913</td>\n",
       "        <td>UN</td>\n",
       "    </tr>\n",
       "    <tr>\n",
       "        <td>2</td>\n",
       "        <td>Alberta (Canada)</td>\n",
       "        <td>4384968</td>\n",
       "        <td>statcan.gc.ca</td>\n",
       "    </tr>\n",
       "</table>"
      ],
      "text/plain": [
       "[(0, 'Afghanistan', '38041757', 'UN'),\n",
       " (1, 'Albania', '2880913', 'UN'),\n",
       " (2, 'Alberta (Canada)', '4384968', 'statcan.gc.ca')]"
      ]
     },
     "execution_count": 53,
     "metadata": {},
     "output_type": "execute_result"
    }
   ],
   "source": [
    "%%sql\n",
    "\n",
    "SELECT * FROM POPULATION\n",
    "LIMIT 3"
   ]
  },
  {
   "cell_type": "markdown",
   "metadata": {},
   "source": [
    "Now, let's convert df_joined to sql."
   ]
  },
  {
   "cell_type": "code",
   "execution_count": 54,
   "metadata": {},
   "outputs": [
    {
     "name": "stdout",
     "output_type": "stream",
     "text": [
      "2020-10-06 10:35:52,759 INFO sqlalchemy.engine.base.Engine PRAGMA main.table_info(\"COVID_HAPPINESS\")\n",
      "2020-10-06 10:35:52,759 INFO sqlalchemy.engine.base.Engine ()\n",
      "2020-10-06 10:35:52,767 INFO sqlalchemy.engine.base.Engine PRAGMA main.table_info(\"COVID_HAPPINESS\")\n",
      "2020-10-06 10:35:52,767 INFO sqlalchemy.engine.base.Engine ()\n",
      "2020-10-06 10:35:52,775 INFO sqlalchemy.engine.base.Engine SELECT name FROM sqlite_master WHERE type='table' ORDER BY name\n",
      "2020-10-06 10:35:52,775 INFO sqlalchemy.engine.base.Engine ()\n",
      "2020-10-06 10:35:52,775 INFO sqlalchemy.engine.base.Engine PRAGMA main.table_xinfo(\"COVID_HAPPINESS\")\n",
      "2020-10-06 10:35:52,783 INFO sqlalchemy.engine.base.Engine ()\n",
      "2020-10-06 10:35:52,816 INFO sqlalchemy.engine.base.Engine SELECT sql FROM  (SELECT * FROM sqlite_master UNION ALL   SELECT * FROM sqlite_temp_master) WHERE name = ? AND type = 'table'\n",
      "2020-10-06 10:35:52,816 INFO sqlalchemy.engine.base.Engine ('COVID_HAPPINESS',)\n",
      "2020-10-06 10:35:52,816 INFO sqlalchemy.engine.base.Engine PRAGMA main.foreign_key_list(\"COVID_HAPPINESS\")\n",
      "2020-10-06 10:35:52,823 INFO sqlalchemy.engine.base.Engine ()\n",
      "2020-10-06 10:35:52,823 INFO sqlalchemy.engine.base.Engine PRAGMA temp.foreign_key_list(\"COVID_HAPPINESS\")\n",
      "2020-10-06 10:35:52,823 INFO sqlalchemy.engine.base.Engine ()\n",
      "2020-10-06 10:35:52,831 INFO sqlalchemy.engine.base.Engine SELECT sql FROM  (SELECT * FROM sqlite_master UNION ALL   SELECT * FROM sqlite_temp_master) WHERE name = ? AND type = 'table'\n",
      "2020-10-06 10:35:52,834 INFO sqlalchemy.engine.base.Engine ('COVID_HAPPINESS',)\n",
      "2020-10-06 10:35:52,834 INFO sqlalchemy.engine.base.Engine PRAGMA main.index_list(\"COVID_HAPPINESS\")\n",
      "2020-10-06 10:35:52,834 INFO sqlalchemy.engine.base.Engine ()\n",
      "2020-10-06 10:35:52,842 INFO sqlalchemy.engine.base.Engine PRAGMA main.index_info(\"ix_COVID_HAPPINESS_index\")\n",
      "2020-10-06 10:35:52,842 INFO sqlalchemy.engine.base.Engine ()\n",
      "2020-10-06 10:35:52,842 INFO sqlalchemy.engine.base.Engine PRAGMA main.index_list(\"COVID_HAPPINESS\")\n",
      "2020-10-06 10:35:52,842 INFO sqlalchemy.engine.base.Engine ()\n",
      "2020-10-06 10:35:52,850 INFO sqlalchemy.engine.base.Engine PRAGMA main.index_info(\"ix_COVID_HAPPINESS_index\")\n",
      "2020-10-06 10:35:52,850 INFO sqlalchemy.engine.base.Engine ()\n",
      "2020-10-06 10:35:52,850 INFO sqlalchemy.engine.base.Engine SELECT sql FROM  (SELECT * FROM sqlite_master UNION ALL   SELECT * FROM sqlite_temp_master) WHERE name = ? AND type = 'table'\n",
      "2020-10-06 10:35:52,850 INFO sqlalchemy.engine.base.Engine ('COVID_HAPPINESS',)\n",
      "2020-10-06 10:35:52,858 INFO sqlalchemy.engine.base.Engine \n",
      "DROP TABLE \"COVID_HAPPINESS\"\n",
      "2020-10-06 10:35:52,858 INFO sqlalchemy.engine.base.Engine ()\n",
      "2020-10-06 10:35:52,874 INFO sqlalchemy.engine.base.Engine COMMIT\n",
      "2020-10-06 10:35:52,890 INFO sqlalchemy.engine.base.Engine \n",
      "CREATE TABLE \"COVID_HAPPINESS\" (\n",
      "\t\"index\" BIGINT, \n",
      "\t\"Country/Region\" TEXT, \n",
      "\t\"Lat\" FLOAT, \n",
      "\t\"Long\" FLOAT, \n",
      "\t\"1/22/20\" BIGINT, \n",
      "\t\"1/23/20\" BIGINT, \n",
      "\t\"1/24/20\" BIGINT, \n",
      "\t\"1/25/20\" BIGINT, \n",
      "\t\"1/26/20\" BIGINT, \n",
      "\t\"1/27/20\" BIGINT, \n",
      "\t\"1/28/20\" BIGINT, \n",
      "\t\"1/29/20\" BIGINT, \n",
      "\t\"1/30/20\" BIGINT, \n",
      "\t\"1/31/20\" BIGINT, \n",
      "\t\"2/1/20\" BIGINT, \n",
      "\t\"2/2/20\" BIGINT, \n",
      "\t\"2/3/20\" BIGINT, \n",
      "\t\"2/4/20\" BIGINT, \n",
      "\t\"2/5/20\" BIGINT, \n",
      "\t\"2/6/20\" BIGINT, \n",
      "\t\"2/7/20\" BIGINT, \n",
      "\t\"2/8/20\" BIGINT, \n",
      "\t\"2/9/20\" BIGINT, \n",
      "\t\"2/10/20\" BIGINT, \n",
      "\t\"2/11/20\" BIGINT, \n",
      "\t\"2/12/20\" BIGINT, \n",
      "\t\"2/13/20\" BIGINT, \n",
      "\t\"2/14/20\" BIGINT, \n",
      "\t\"2/15/20\" BIGINT, \n",
      "\t\"2/16/20\" BIGINT, \n",
      "\t\"2/17/20\" BIGINT, \n",
      "\t\"2/18/20\" BIGINT, \n",
      "\t\"2/19/20\" BIGINT, \n",
      "\t\"2/20/20\" BIGINT, \n",
      "\t\"2/21/20\" BIGINT, \n",
      "\t\"2/22/20\" BIGINT, \n",
      "\t\"2/23/20\" BIGINT, \n",
      "\t\"2/24/20\" BIGINT, \n",
      "\t\"2/25/20\" BIGINT, \n",
      "\t\"2/26/20\" BIGINT, \n",
      "\t\"2/27/20\" BIGINT, \n",
      "\t\"2/28/20\" BIGINT, \n",
      "\t\"2/29/20\" BIGINT, \n",
      "\t\"3/1/20\" BIGINT, \n",
      "\t\"3/2/20\" BIGINT, \n",
      "\t\"3/3/20\" BIGINT, \n",
      "\t\"3/4/20\" BIGINT, \n",
      "\t\"3/5/20\" BIGINT, \n",
      "\t\"3/6/20\" BIGINT, \n",
      "\t\"3/7/20\" BIGINT, \n",
      "\t\"3/8/20\" BIGINT, \n",
      "\t\"3/9/20\" BIGINT, \n",
      "\t\"3/10/20\" BIGINT, \n",
      "\t\"3/11/20\" BIGINT, \n",
      "\t\"3/12/20\" BIGINT, \n",
      "\t\"3/13/20\" BIGINT, \n",
      "\t\"3/14/20\" BIGINT, \n",
      "\t\"3/15/20\" BIGINT, \n",
      "\t\"3/16/20\" BIGINT, \n",
      "\t\"3/17/20\" BIGINT, \n",
      "\t\"3/18/20\" BIGINT, \n",
      "\t\"3/19/20\" BIGINT, \n",
      "\t\"3/20/20\" BIGINT, \n",
      "\t\"3/21/20\" BIGINT, \n",
      "\t\"3/22/20\" BIGINT, \n",
      "\t\"3/23/20\" BIGINT, \n",
      "\t\"3/24/20\" BIGINT, \n",
      "\t\"3/25/20\" BIGINT, \n",
      "\t\"3/26/20\" BIGINT, \n",
      "\t\"3/27/20\" BIGINT, \n",
      "\t\"3/28/20\" BIGINT, \n",
      "\t\"3/29/20\" BIGINT, \n",
      "\t\"3/30/20\" BIGINT, \n",
      "\t\"3/31/20\" BIGINT, \n",
      "\t\"4/1/20\" BIGINT, \n",
      "\t\"4/2/20\" BIGINT, \n",
      "\t\"4/3/20\" BIGINT, \n",
      "\t\"4/4/20\" BIGINT, \n",
      "\t\"4/5/20\" BIGINT, \n",
      "\t\"4/6/20\" BIGINT, \n",
      "\t\"4/7/20\" BIGINT, \n",
      "\t\"4/8/20\" BIGINT, \n",
      "\t\"4/9/20\" BIGINT, \n",
      "\t\"4/10/20\" BIGINT, \n",
      "\t\"4/11/20\" BIGINT, \n",
      "\t\"4/12/20\" BIGINT, \n",
      "\t\"4/13/20\" BIGINT, \n",
      "\t\"4/14/20\" BIGINT, \n",
      "\t\"4/15/20\" BIGINT, \n",
      "\t\"4/16/20\" BIGINT, \n",
      "\t\"4/17/20\" BIGINT, \n",
      "\t\"4/18/20\" BIGINT, \n",
      "\t\"4/19/20\" BIGINT, \n",
      "\t\"4/20/20\" BIGINT, \n",
      "\t\"4/21/20\" BIGINT, \n",
      "\t\"4/22/20\" BIGINT, \n",
      "\t\"4/23/20\" BIGINT, \n",
      "\t\"4/24/20\" BIGINT, \n",
      "\t\"4/25/20\" BIGINT, \n",
      "\t\"4/26/20\" BIGINT, \n",
      "\t\"4/27/20\" BIGINT, \n",
      "\t\"4/28/20\" BIGINT, \n",
      "\t\"4/29/20\" BIGINT, \n",
      "\t\"4/30/20\" BIGINT, \n",
      "\t\"Happiness Score\" FLOAT, \n",
      "\t\"GDP per capita\" FLOAT, \n",
      "\t\"Social support\" FLOAT, \n",
      "\t\"Healthy life expectancy\" FLOAT, \n",
      "\t\"Freedom to make life choices\" FLOAT, \n",
      "\t\"Generosity\" FLOAT, \n",
      "\t\"Perceptions of corruption\" FLOAT\n",
      ")\n",
      "\n",
      "\n",
      "2020-10-06 10:35:52,890 INFO sqlalchemy.engine.base.Engine ()\n",
      "2020-10-06 10:35:52,897 INFO sqlalchemy.engine.base.Engine COMMIT\n",
      "2020-10-06 10:35:52,897 INFO sqlalchemy.engine.base.Engine CREATE INDEX \"ix_COVID_HAPPINESS_index\" ON \"COVID_HAPPINESS\" (\"index\")\n",
      "2020-10-06 10:35:52,897 INFO sqlalchemy.engine.base.Engine ()\n",
      "2020-10-06 10:35:52,913 INFO sqlalchemy.engine.base.Engine COMMIT\n",
      "2020-10-06 10:35:52,921 INFO sqlalchemy.engine.base.Engine BEGIN (implicit)\n",
      "2020-10-06 10:35:53,009 INFO sqlalchemy.engine.base.Engine INSERT INTO \"COVID_HAPPINESS\" (\"index\", \"Country/Region\", \"Lat\", \"Long\", \"1/22/20\", \"1/23/20\", \"1/24/20\", \"1/25/20\", \"1/26/20\", \"1/27/20\", \"1/28/20\", \"1/29/20\", \"1/30/20\", \"1/31/20\", \"2/1/20\", \"2/2/20\", \"2/3/20\", \"2/4/20\", \"2/5/20\", \"2/6/20\", \"2/7/20\", \"2/8/20\", \"2/9/20\", \"2/10/20\", \"2/11/20\", \"2/12/20\", \"2/13/20\", \"2/14/20\", \"2/15/20\", \"2/16/20\", \"2/17/20\", \"2/18/20\", \"2/19/20\", \"2/20/20\", \"2/21/20\", \"2/22/20\", \"2/23/20\", \"2/24/20\", \"2/25/20\", \"2/26/20\", \"2/27/20\", \"2/28/20\", \"2/29/20\", \"3/1/20\", \"3/2/20\", \"3/3/20\", \"3/4/20\", \"3/5/20\", \"3/6/20\", \"3/7/20\", \"3/8/20\", \"3/9/20\", \"3/10/20\", \"3/11/20\", \"3/12/20\", \"3/13/20\", \"3/14/20\", \"3/15/20\", \"3/16/20\", \"3/17/20\", \"3/18/20\", \"3/19/20\", \"3/20/20\", \"3/21/20\", \"3/22/20\", \"3/23/20\", \"3/24/20\", \"3/25/20\", \"3/26/20\", \"3/27/20\", \"3/28/20\", \"3/29/20\", \"3/30/20\", \"3/31/20\", \"4/1/20\", \"4/2/20\", \"4/3/20\", \"4/4/20\", \"4/5/20\", \"4/6/20\", \"4/7/20\", \"4/8/20\", \"4/9/20\", \"4/10/20\", \"4/11/20\", \"4/12/20\", \"4/13/20\", \"4/14/20\", \"4/15/20\", \"4/16/20\", \"4/17/20\", \"4/18/20\", \"4/19/20\", \"4/20/20\", \"4/21/20\", \"4/22/20\", \"4/23/20\", \"4/24/20\", \"4/25/20\", \"4/26/20\", \"4/27/20\", \"4/28/20\", \"4/29/20\", \"4/30/20\", \"Happiness Score\", \"GDP per capita\", \"Social support\", \"Healthy life expectancy\", \"Freedom to make life choices\", \"Generosity\", \"Perceptions of corruption\") VALUES (?, ?, ?, ?, ?, ?, ?, ?, ?, ?, ?, ?, ?, ?, ?, ?, ?, ?, ?, ?, ?, ?, ?, ?, ?, ?, ?, ?, ?, ?, ?, ?, ?, ?, ?, ?, ?, ?, ?, ?, ?, ?, ?, ?, ?, ?, ?, ?, ?, ?, ?, ?, ?, ?, ?, ?, ?, ?, ?, ?, ?, ?, ?, ?, ?, ?, ?, ?, ?, ?, ?, ?, ?, ?, ?, ?, ?, ?, ?, ?, ?, ?, ?, ?, ?, ?, ?, ?, ?, ?, ?, ?, ?, ?, ?, ?, ?, ?, ?, ?, ?, ?, ?, ?, ?, ?, ?, ?, ?, ?, ?)\n",
      "2020-10-06 10:35:53,009 INFO sqlalchemy.engine.base.Engine ((0, 'Afghanistan', 33.0, 65.0, 0, 0, 0, 0, 0, 0, 0, 0, 0, 0, 0, 0, 0, 0, 0, 0, 0, 0, 0, 0, 0, 0, 0, 0, 0, 0, 0, 0, 0, 0, 0, 0, 0, 1, 1, 1, 1, 1, 1, 1, 1, 1, 1, 1, 1, 1, 4, 4, 5, 7, 7, 7, 11, 16, 21, 22, 22, 22, 24, 24, 40, 40, 74, 84, 94, 110, 110, 120, 170, 174, 237, 273, 281, 299, 349, 367, 423, 444, 484, 521, 555, 607, 665, 714, 784, 840, 906, 933, 996, 1026, 1092, 1176, 1279, 1351, 1463, 1531, 1703, 1828, 1939, 2171, 3.2030000000000003, 0.35, 0.517, 0.361, 0.0, 0.158, 0.025), (1, 'Albania', 41.1533, 20.1683, 0, 0, 0, 0, 0, 0, 0, 0, 0, 0, 0, 0, 0, 0, 0, 0, 0, 0, 0, 0, 0, 0, 0, 0, 0, 0, 0, 0, 0, 0, 0, 0, 0, 0, 0, 0, 0, 0, 0, 0, 0, 0, 0, 0, 0, 0, 0, 2, 10, 12, 23, 33, 38, 42, 51, 55, 59, 64, 70, 76, 89, 104, 123, 146, 174, 186, 197, 212, 223, 243, 259, 277, 304, 333, 361, 377, 383, 400, 409, 416, 433, 446, 467, 475, 494, 518, 539, 548, 562, 584, 609, 634, 663, 678, 712, 726, 736, 750, 766, 773, 4.718999999999999, 0.9470000000000001, 0.848, 0.8740000000000001, 0.38299999999999995, 0.17800000000000002, 0.027000000000000003), (2, 'Alberta (Canada)', 53.9333, -116.5765, 0, 0, 0, 0, 0, 0, 0, 0, 0, 0, 0, 0, 0, 0, 0, 0, 0, 0, 0, 0, 0, 0, 0, 0, 0, 0, 0, 0, 0, 0, 0, 0, 0, 0, 0, 0, 0, 0, 0, 0, 0, 0, 0, 0, 1, 2, 4, 7, 7, 19, 19, 29, 29, 39, 56, 74, 97, 119, 146, 195, 259, 301, 359, 358, 486, 542, 542, 621, 661, 690, 754, 969, 969, 1075, 1181, 1250, 1373, 1373, 1423, 1451, 1567, 1567, 1732, 1870, 1870, 1996, 2397, 2562, 2803, 2908, 3095, 3401, 3720, 4017, 4233, 4480, 4696, 4850, 5165, 5355, 7.278, 1.365, 1.505, 1.0390000000000001, 0.584, 0.285, 0.308), (3, 'Algeria', 28.0339, 1.6596, 0, 0, 0, 0, 0, 0, 0, 0, 0, 0, 0, 0, 0, 0, 0, 0, 0, 0, 0, 0, 0, 0, 0, 0, 0, 0, 0, 0, 0, 0, 0, 0, 0, 0, 1, 1, 1, 1, 1, 1, 3, 5, 12, 12, 17, 17, 19, 20, 20, 20, 24, 26, 37, 48, 54, 60, 74, 87, 90, 139, 201, 230, 264, 302, 367, 409, 454, 511, 584, 716, 847, 986, 1171, 1251, 1320, 1423, 1468, 1572, 1666, 1761, 1825, 1914, 1983, 2070, 2160, 2268, 2418, 2534, 2629, 2718, 2811, 2910, 3007, 3127, 3256, 3382, 3517, 3649, 3848, 4006, 5.211, 1.002, 1.16, 0.785, 0.086, 0.073, 0.114), (4, 'Anguilla (United Kingdom)', 18.2206, -63.0686, 0, 0, 0, 0, 0, 0, 0, 0, 0, 0, 0, 0, 0, 0, 0, 0, 0, 0, 0, 0, 0, 0, 0, 0, 0, 0, 0, 0, 0, 0, 0, 0, 0, 0, 0, 0, 0, 0, 0, 0, 0, 0, 0, 0, 0, 0, 0, 0, 0, 0, 0, 0, 0, 0, 0, 0, 0, 0, 0, 0, 0, 0, 0, 0, 0, 0, 2, 2, 2, 2, 2, 3, 3, 3, 3, 3, 3, 3, 3, 3, 3, 3, 3, 3, 3, 3, 3, 3, 3, 3, 3, 3, 3, 3, 3, 3, 3, 3, 3, 3, 7.053999999999999, 1.3330000000000002, 1.538, 0.996, 0.45, 0.348, 0.278), (5, 'Anhui (China)', 31.8257, 117.2264, 1, 9, 15, 39, 60, 70, 106, 152, 200, 237, 297, 340, 408, 480, 530, 591, 665, 733, 779, 830, 860, 889, 910, 934, 950, 962, 973, 982, 986, 987, 988, 989, 989, 989, 989, 989, 989, 990, 990, 990, 990, 990, 990, 990, 990, 990, 990, 990, 990, 990, 990, 990, 990, 990, 990, 990, 990, 990, 990, 990, 990, 990, 990, 990, 990, 990, 990, 990, 990, 990, 990, 990, 990, 990, 990, 990, 990, 990, 991, 991, 991, 991, 991, 991, 991, 991, 991, 991, 991, 991, 991, 991, 991, 991, 991, 991, 991, 991, 991, 991, 5.191, 1.0290000000000001, 1.125, 0.893, 0.521, 0.057999999999999996, 0.1), (6, 'Argentina', -38.4161, -63.6167, 0, 0, 0, 0, 0, 0, 0, 0, 0, 0, 0, 0, 0, 0, 0, 0, 0, 0, 0, 0, 0, 0, 0, 0, 0, 0, 0, 0, 0, 0, 0, 0, 0, 0, 0, 0, 0, 0, 0, 0, 0, 1, 1, 1, 2, 8, 12, 12, 17, 19, 19, 31, 34, 45, 56, 68, 79, 97, 128, 158, 266, 301, 387, 387, 502, 589, 690, 745, 820, 1054, 1054, 1133, 1265, 1451, 1451, 1554, 1628, 1715, 1795, 1975, 1975, 2142, 2208, 2277, 2443, 2571, 2669, 2758, 2839, 2941, 3031, 3144, 3435, 3607, 3780, 3892, 4003, 4127, 4285, 4428, 6.086, 1.092, 1.432, 0.8809999999999999, 0.47100000000000003, 0.066, 0.05), (7, 'Armenia', 40.0691, 45.0382, 0, 0, 0, 0, 0, 0, 0, 0, 0, 0, 0, 0, 0, 0, 0, 0, 0, 0, 0, 0, 0, 0, 0, 0, 0, 0, 0, 0, 0, 0, 0, 0, 0, 0, 0, 0, 0, 0, 0, 1, 1, 1, 1, 1, 1, 1, 1, 1, 1, 1, 4, 8, 18, 26, 52, 78, 84, 115, 136, 160, 194, 235, 249, 265, 290, 329, 407, 424, 482, 532, 571, 663, 736, 770, 822, 833, 853, 881, 921, 937, 967, 1013, 1039, 1067, 1111, 1159, 1201, 1248, 1291, 1339, 1401, 1473, 1523, 1596, 1677, 1746, 1808, 1867, 1932, 2066, 4.559, 0.85, 1.055, 0.815, 0.28300000000000003, 0.095, 0.064)  ... displaying 10 of 222 total bound parameter sets ...  (220, 'Zhejiang (China)', 29.1832, 120.0934, 10, 27, 43, 62, 104, 128, 173, 296, 428, 538, 599, 661, 724, 829, 895, 954, 1006, 1048, 1075, 1092, 1117, 1131, 1145, 1155, 1162, 1167, 1171, 1172, 1174, 1175, 1203, 1205, 1205, 1205, 1205, 1205, 1205, 1205, 1205, 1205, 1206, 1213, 1213, 1215, 1215, 1215, 1215, 1215, 1215, 1215, 1215, 1215, 1227, 1231, 1231, 1232, 1232, 1233, 1234, 1236, 1238, 1238, 1240, 1241, 1243, 1247, 1251, 1254, 1255, 1257, 1257, 1258, 1260, 1262, 1263, 1264, 1265, 1266, 1267, 1267, 1267, 1267, 1267, 1267, 1268, 1268, 1268, 1268, 1268, 1268, 1268, 1268, 1268, 1268, 1268, 1268, 1268, 1268, 1268, 1268, 5.191, 1.0290000000000001, 1.125, 0.893, 0.521, 0.057999999999999996, 0.1), (221, 'Zimbabwe', -20.0, 30.0, 0, 0, 0, 0, 0, 0, 0, 0, 0, 0, 0, 0, 0, 0, 0, 0, 0, 0, 0, 0, 0, 0, 0, 0, 0, 0, 0, 0, 0, 0, 0, 0, 0, 0, 0, 0, 0, 0, 0, 0, 0, 0, 0, 0, 0, 0, 0, 0, 0, 0, 0, 0, 0, 0, 0, 0, 0, 0, 1, 3, 3, 3, 3, 3, 3, 5, 7, 7, 7, 8, 8, 9, 9, 9, 9, 10, 11, 11, 11, 13, 14, 14, 17, 17, 23, 23, 24, 25, 25, 25, 28, 28, 28, 29, 31, 31, 32, 32, 32, 40, 3.6630000000000003, 0.366, 1.114, 0.433, 0.361, 0.151, 0.08900000000000001))\n"
     ]
    },
    {
     "name": "stdout",
     "output_type": "stream",
     "text": [
      "2020-10-06 10:35:53,017 INFO sqlalchemy.engine.base.Engine COMMIT\n",
      "2020-10-06 10:35:53,030 INFO sqlalchemy.engine.base.Engine SELECT name FROM sqlite_master WHERE type='table' ORDER BY name\n",
      "2020-10-06 10:35:53,030 INFO sqlalchemy.engine.base.Engine ()\n"
     ]
    }
   ],
   "source": [
    "df_joined.to_sql('COVID_HAPPINESS', con=engine, if_exists='replace')"
   ]
  },
  {
   "cell_type": "code",
   "execution_count": 55,
   "metadata": {},
   "outputs": [
    {
     "name": "stdout",
     "output_type": "stream",
     "text": [
      " * sqlite:///sqlite3.db\n",
      "Done.\n"
     ]
    }
   ],
   "source": [
    "join = %sql SELECT * FROM COVID_HAPPINESS INNER JOIN POPULATION ON COVID_HAPPINESS.'Country/Region'=POPULATION.'Country'\n",
    "df_w_pop = join.DataFrame()"
   ]
  },
  {
   "cell_type": "code",
   "execution_count": 56,
   "metadata": {},
   "outputs": [
    {
     "data": {
      "text/html": [
       "<div>\n",
       "<style scoped>\n",
       "    .dataframe tbody tr th:only-of-type {\n",
       "        vertical-align: middle;\n",
       "    }\n",
       "\n",
       "    .dataframe tbody tr th {\n",
       "        vertical-align: top;\n",
       "    }\n",
       "\n",
       "    .dataframe thead th {\n",
       "        text-align: right;\n",
       "    }\n",
       "</style>\n",
       "<table border=\"1\" class=\"dataframe\">\n",
       "  <thead>\n",
       "    <tr style=\"text-align: right;\">\n",
       "      <th></th>\n",
       "      <th>Country/Region</th>\n",
       "      <th>Lat</th>\n",
       "      <th>Long</th>\n",
       "      <th>1/22/20</th>\n",
       "      <th>1/23/20</th>\n",
       "      <th>1/24/20</th>\n",
       "      <th>1/25/20</th>\n",
       "      <th>1/26/20</th>\n",
       "      <th>1/27/20</th>\n",
       "      <th>1/28/20</th>\n",
       "      <th>...</th>\n",
       "      <th>4/29/20</th>\n",
       "      <th>4/30/20</th>\n",
       "      <th>Happiness Score</th>\n",
       "      <th>GDP per capita</th>\n",
       "      <th>Social support</th>\n",
       "      <th>Healthy life expectancy</th>\n",
       "      <th>Freedom to make life choices</th>\n",
       "      <th>Generosity</th>\n",
       "      <th>Perceptions of corruption</th>\n",
       "      <th>Population 2019</th>\n",
       "    </tr>\n",
       "  </thead>\n",
       "  <tbody>\n",
       "    <tr>\n",
       "      <th>0</th>\n",
       "      <td>Afghanistan</td>\n",
       "      <td>33.0000</td>\n",
       "      <td>65.0000</td>\n",
       "      <td>0</td>\n",
       "      <td>0</td>\n",
       "      <td>0</td>\n",
       "      <td>0</td>\n",
       "      <td>0</td>\n",
       "      <td>0</td>\n",
       "      <td>0</td>\n",
       "      <td>...</td>\n",
       "      <td>1939</td>\n",
       "      <td>2171</td>\n",
       "      <td>3.203</td>\n",
       "      <td>0.350</td>\n",
       "      <td>0.517</td>\n",
       "      <td>0.361</td>\n",
       "      <td>0.000</td>\n",
       "      <td>0.158</td>\n",
       "      <td>0.025</td>\n",
       "      <td>38041757</td>\n",
       "    </tr>\n",
       "    <tr>\n",
       "      <th>1</th>\n",
       "      <td>Albania</td>\n",
       "      <td>41.1533</td>\n",
       "      <td>20.1683</td>\n",
       "      <td>0</td>\n",
       "      <td>0</td>\n",
       "      <td>0</td>\n",
       "      <td>0</td>\n",
       "      <td>0</td>\n",
       "      <td>0</td>\n",
       "      <td>0</td>\n",
       "      <td>...</td>\n",
       "      <td>766</td>\n",
       "      <td>773</td>\n",
       "      <td>4.719</td>\n",
       "      <td>0.947</td>\n",
       "      <td>0.848</td>\n",
       "      <td>0.874</td>\n",
       "      <td>0.383</td>\n",
       "      <td>0.178</td>\n",
       "      <td>0.027</td>\n",
       "      <td>2880913</td>\n",
       "    </tr>\n",
       "    <tr>\n",
       "      <th>2</th>\n",
       "      <td>Alberta (Canada)</td>\n",
       "      <td>53.9333</td>\n",
       "      <td>-116.5765</td>\n",
       "      <td>0</td>\n",
       "      <td>0</td>\n",
       "      <td>0</td>\n",
       "      <td>0</td>\n",
       "      <td>0</td>\n",
       "      <td>0</td>\n",
       "      <td>0</td>\n",
       "      <td>...</td>\n",
       "      <td>5165</td>\n",
       "      <td>5355</td>\n",
       "      <td>7.278</td>\n",
       "      <td>1.365</td>\n",
       "      <td>1.505</td>\n",
       "      <td>1.039</td>\n",
       "      <td>0.584</td>\n",
       "      <td>0.285</td>\n",
       "      <td>0.308</td>\n",
       "      <td>4384968</td>\n",
       "    </tr>\n",
       "    <tr>\n",
       "      <th>3</th>\n",
       "      <td>Algeria</td>\n",
       "      <td>28.0339</td>\n",
       "      <td>1.6596</td>\n",
       "      <td>0</td>\n",
       "      <td>0</td>\n",
       "      <td>0</td>\n",
       "      <td>0</td>\n",
       "      <td>0</td>\n",
       "      <td>0</td>\n",
       "      <td>0</td>\n",
       "      <td>...</td>\n",
       "      <td>3848</td>\n",
       "      <td>4006</td>\n",
       "      <td>5.211</td>\n",
       "      <td>1.002</td>\n",
       "      <td>1.160</td>\n",
       "      <td>0.785</td>\n",
       "      <td>0.086</td>\n",
       "      <td>0.073</td>\n",
       "      <td>0.114</td>\n",
       "      <td>43053054</td>\n",
       "    </tr>\n",
       "    <tr>\n",
       "      <th>4</th>\n",
       "      <td>Anguilla (United Kingdom)</td>\n",
       "      <td>18.2206</td>\n",
       "      <td>-63.0686</td>\n",
       "      <td>0</td>\n",
       "      <td>0</td>\n",
       "      <td>0</td>\n",
       "      <td>0</td>\n",
       "      <td>0</td>\n",
       "      <td>0</td>\n",
       "      <td>0</td>\n",
       "      <td>...</td>\n",
       "      <td>3</td>\n",
       "      <td>3</td>\n",
       "      <td>7.054</td>\n",
       "      <td>1.333</td>\n",
       "      <td>1.538</td>\n",
       "      <td>0.996</td>\n",
       "      <td>0.450</td>\n",
       "      <td>0.348</td>\n",
       "      <td>0.278</td>\n",
       "      <td>14869</td>\n",
       "    </tr>\n",
       "  </tbody>\n",
       "</table>\n",
       "<p>5 rows × 111 columns</p>\n",
       "</div>"
      ],
      "text/plain": [
       "              Country/Region      Lat      Long  1/22/20  1/23/20  1/24/20  \\\n",
       "0                Afghanistan  33.0000   65.0000        0        0        0   \n",
       "1                    Albania  41.1533   20.1683        0        0        0   \n",
       "2           Alberta (Canada)  53.9333 -116.5765        0        0        0   \n",
       "3                    Algeria  28.0339    1.6596        0        0        0   \n",
       "4  Anguilla (United Kingdom)  18.2206  -63.0686        0        0        0   \n",
       "\n",
       "   1/25/20  1/26/20  1/27/20  1/28/20  ...  4/29/20  4/30/20  Happiness Score  \\\n",
       "0        0        0        0        0  ...     1939     2171            3.203   \n",
       "1        0        0        0        0  ...      766      773            4.719   \n",
       "2        0        0        0        0  ...     5165     5355            7.278   \n",
       "3        0        0        0        0  ...     3848     4006            5.211   \n",
       "4        0        0        0        0  ...        3        3            7.054   \n",
       "\n",
       "   GDP per capita  Social support  Healthy life expectancy  \\\n",
       "0           0.350           0.517                    0.361   \n",
       "1           0.947           0.848                    0.874   \n",
       "2           1.365           1.505                    1.039   \n",
       "3           1.002           1.160                    0.785   \n",
       "4           1.333           1.538                    0.996   \n",
       "\n",
       "   Freedom to make life choices  Generosity  Perceptions of corruption  \\\n",
       "0                         0.000       0.158                      0.025   \n",
       "1                         0.383       0.178                      0.027   \n",
       "2                         0.584       0.285                      0.308   \n",
       "3                         0.086       0.073                      0.114   \n",
       "4                         0.450       0.348                      0.278   \n",
       "\n",
       "   Population 2019  \n",
       "0         38041757  \n",
       "1          2880913  \n",
       "2          4384968  \n",
       "3         43053054  \n",
       "4            14869  \n",
       "\n",
       "[5 rows x 111 columns]"
      ]
     },
     "execution_count": 56,
     "metadata": {},
     "output_type": "execute_result"
    }
   ],
   "source": [
    "df_w_pop.drop(['index','Country','Source'], axis=1, inplace=True)\n",
    "df_w_pop.head()"
   ]
  },
  {
   "cell_type": "code",
   "execution_count": 133,
   "metadata": {},
   "outputs": [
    {
     "data": {
      "text/plain": [
       "(219, 110)"
      ]
     },
     "execution_count": 133,
     "metadata": {},
     "output_type": "execute_result"
    }
   ],
   "source": [
    "df_w_pop.shape"
   ]
  },
  {
   "cell_type": "code",
   "execution_count": 57,
   "metadata": {},
   "outputs": [
    {
     "data": {
      "text/html": [
       "<div>\n",
       "<style scoped>\n",
       "    .dataframe tbody tr th:only-of-type {\n",
       "        vertical-align: middle;\n",
       "    }\n",
       "\n",
       "    .dataframe tbody tr th {\n",
       "        vertical-align: top;\n",
       "    }\n",
       "\n",
       "    .dataframe thead th {\n",
       "        text-align: right;\n",
       "    }\n",
       "</style>\n",
       "<table border=\"1\" class=\"dataframe\">\n",
       "  <thead>\n",
       "    <tr style=\"text-align: right;\">\n",
       "      <th></th>\n",
       "      <th>Country/Region</th>\n",
       "      <th>Lat</th>\n",
       "      <th>Long</th>\n",
       "      <th>1/22/20</th>\n",
       "      <th>1/23/20</th>\n",
       "      <th>1/24/20</th>\n",
       "      <th>1/25/20</th>\n",
       "      <th>1/26/20</th>\n",
       "      <th>1/27/20</th>\n",
       "      <th>1/28/20</th>\n",
       "      <th>...</th>\n",
       "      <th>4/29/20</th>\n",
       "      <th>4/30/20</th>\n",
       "      <th>Happiness Score</th>\n",
       "      <th>GDP per capita</th>\n",
       "      <th>Social support</th>\n",
       "      <th>Healthy life expectancy</th>\n",
       "      <th>Freedom to make life choices</th>\n",
       "      <th>Generosity</th>\n",
       "      <th>Perceptions of corruption</th>\n",
       "      <th>Population 2019</th>\n",
       "    </tr>\n",
       "  </thead>\n",
       "  <tbody>\n",
       "    <tr>\n",
       "      <th>47</th>\n",
       "      <td>Diamond Princess (Canada)</td>\n",
       "      <td>0.0000</td>\n",
       "      <td>0.0000</td>\n",
       "      <td>0</td>\n",
       "      <td>0</td>\n",
       "      <td>0</td>\n",
       "      <td>0</td>\n",
       "      <td>0</td>\n",
       "      <td>0</td>\n",
       "      <td>0</td>\n",
       "      <td>...</td>\n",
       "      <td>0</td>\n",
       "      <td>0</td>\n",
       "      <td>7.278</td>\n",
       "      <td>1.365</td>\n",
       "      <td>1.505</td>\n",
       "      <td>1.039</td>\n",
       "      <td>0.584</td>\n",
       "      <td>0.285</td>\n",
       "      <td>0.308</td>\n",
       "      <td>None</td>\n",
       "    </tr>\n",
       "    <tr>\n",
       "      <th>68</th>\n",
       "      <td>Grand Princess (Canada)</td>\n",
       "      <td>37.6489</td>\n",
       "      <td>-122.6655</td>\n",
       "      <td>0</td>\n",
       "      <td>0</td>\n",
       "      <td>0</td>\n",
       "      <td>0</td>\n",
       "      <td>0</td>\n",
       "      <td>0</td>\n",
       "      <td>0</td>\n",
       "      <td>...</td>\n",
       "      <td>13</td>\n",
       "      <td>13</td>\n",
       "      <td>7.278</td>\n",
       "      <td>1.365</td>\n",
       "      <td>1.505</td>\n",
       "      <td>1.039</td>\n",
       "      <td>0.584</td>\n",
       "      <td>0.285</td>\n",
       "      <td>0.308</td>\n",
       "      <td>None</td>\n",
       "    </tr>\n",
       "    <tr>\n",
       "      <th>164</th>\n",
       "      <td>Recovered (Canada)</td>\n",
       "      <td>0.0000</td>\n",
       "      <td>0.0000</td>\n",
       "      <td>0</td>\n",
       "      <td>0</td>\n",
       "      <td>0</td>\n",
       "      <td>0</td>\n",
       "      <td>0</td>\n",
       "      <td>0</td>\n",
       "      <td>0</td>\n",
       "      <td>...</td>\n",
       "      <td>0</td>\n",
       "      <td>0</td>\n",
       "      <td>7.278</td>\n",
       "      <td>1.365</td>\n",
       "      <td>1.505</td>\n",
       "      <td>1.039</td>\n",
       "      <td>0.584</td>\n",
       "      <td>0.285</td>\n",
       "      <td>0.308</td>\n",
       "      <td>None</td>\n",
       "    </tr>\n",
       "  </tbody>\n",
       "</table>\n",
       "<p>3 rows × 111 columns</p>\n",
       "</div>"
      ],
      "text/plain": [
       "                Country/Region      Lat      Long  1/22/20  1/23/20  1/24/20  \\\n",
       "47   Diamond Princess (Canada)   0.0000    0.0000        0        0        0   \n",
       "68     Grand Princess (Canada)  37.6489 -122.6655        0        0        0   \n",
       "164         Recovered (Canada)   0.0000    0.0000        0        0        0   \n",
       "\n",
       "     1/25/20  1/26/20  1/27/20  1/28/20  ...  4/29/20  4/30/20  \\\n",
       "47         0        0        0        0  ...        0        0   \n",
       "68         0        0        0        0  ...       13       13   \n",
       "164        0        0        0        0  ...        0        0   \n",
       "\n",
       "     Happiness Score  GDP per capita  Social support  Healthy life expectancy  \\\n",
       "47             7.278           1.365           1.505                    1.039   \n",
       "68             7.278           1.365           1.505                    1.039   \n",
       "164            7.278           1.365           1.505                    1.039   \n",
       "\n",
       "     Freedom to make life choices  Generosity  Perceptions of corruption  \\\n",
       "47                          0.584       0.285                      0.308   \n",
       "68                          0.584       0.285                      0.308   \n",
       "164                         0.584       0.285                      0.308   \n",
       "\n",
       "     Population 2019  \n",
       "47              None  \n",
       "68              None  \n",
       "164             None  \n",
       "\n",
       "[3 rows x 111 columns]"
      ]
     },
     "execution_count": 57,
     "metadata": {},
     "output_type": "execute_result"
    }
   ],
   "source": [
    "df_w_pop[df_w_pop['Population 2019'].isnull()]"
   ]
  },
  {
   "cell_type": "markdown",
   "metadata": {},
   "source": [
    "As we can see, there is some additional data that can't be considered as a country or region. Therefore, this data will be dropped."
   ]
  },
  {
   "cell_type": "code",
   "execution_count": 58,
   "metadata": {},
   "outputs": [
    {
     "name": "stdout",
     "output_type": "stream",
     "text": [
      "Number of rows deleted:  3\n"
     ]
    }
   ],
   "source": [
    "df_w_pop.dropna(subset=['Population 2019'],axis=0, inplace=True)\n",
    "print('Number of rows deleted: ', df_joined.shape[0]-df_w_pop.shape[0])"
   ]
  },
  {
   "cell_type": "code",
   "execution_count": 59,
   "metadata": {},
   "outputs": [],
   "source": [
    "df_w_pop.set_index('Country/Region',inplace=True)"
   ]
  },
  {
   "cell_type": "markdown",
   "metadata": {},
   "source": [
    "To have more generalized results per country, it is relevant to analyze the positive cases for the first month intstead of having individual cases. For this it is necessary to generate an algorithm that will count the number this value for every country."
   ]
  },
  {
   "cell_type": "code",
   "execution_count": 74,
   "metadata": {},
   "outputs": [],
   "source": [
    "dates = df_w_pop.iloc[:,2:102].columns.tolist()"
   ]
  },
  {
   "cell_type": "code",
   "execution_count": 75,
   "metadata": {},
   "outputs": [
    {
     "data": {
      "text/html": [
       "<div>\n",
       "<style scoped>\n",
       "    .dataframe tbody tr th:only-of-type {\n",
       "        vertical-align: middle;\n",
       "    }\n",
       "\n",
       "    .dataframe tbody tr th {\n",
       "        vertical-align: top;\n",
       "    }\n",
       "\n",
       "    .dataframe thead th {\n",
       "        text-align: right;\n",
       "    }\n",
       "</style>\n",
       "<table border=\"1\" class=\"dataframe\">\n",
       "  <thead>\n",
       "    <tr style=\"text-align: right;\">\n",
       "      <th></th>\n",
       "      <th>1/22/20</th>\n",
       "      <th>1/23/20</th>\n",
       "      <th>1/24/20</th>\n",
       "      <th>1/25/20</th>\n",
       "      <th>1/26/20</th>\n",
       "      <th>1/27/20</th>\n",
       "      <th>1/28/20</th>\n",
       "      <th>1/29/20</th>\n",
       "      <th>1/30/20</th>\n",
       "      <th>1/31/20</th>\n",
       "      <th>...</th>\n",
       "      <th>4/21/20</th>\n",
       "      <th>4/22/20</th>\n",
       "      <th>4/23/20</th>\n",
       "      <th>4/24/20</th>\n",
       "      <th>4/25/20</th>\n",
       "      <th>4/26/20</th>\n",
       "      <th>4/27/20</th>\n",
       "      <th>4/28/20</th>\n",
       "      <th>4/29/20</th>\n",
       "      <th>4/30/20</th>\n",
       "    </tr>\n",
       "    <tr>\n",
       "      <th>Country/Region</th>\n",
       "      <th></th>\n",
       "      <th></th>\n",
       "      <th></th>\n",
       "      <th></th>\n",
       "      <th></th>\n",
       "      <th></th>\n",
       "      <th></th>\n",
       "      <th></th>\n",
       "      <th></th>\n",
       "      <th></th>\n",
       "      <th></th>\n",
       "      <th></th>\n",
       "      <th></th>\n",
       "      <th></th>\n",
       "      <th></th>\n",
       "      <th></th>\n",
       "      <th></th>\n",
       "      <th></th>\n",
       "      <th></th>\n",
       "      <th></th>\n",
       "      <th></th>\n",
       "    </tr>\n",
       "  </thead>\n",
       "  <tbody>\n",
       "    <tr>\n",
       "      <th>Afghanistan</th>\n",
       "      <td>0</td>\n",
       "      <td>0</td>\n",
       "      <td>0</td>\n",
       "      <td>0</td>\n",
       "      <td>0</td>\n",
       "      <td>0</td>\n",
       "      <td>0</td>\n",
       "      <td>0</td>\n",
       "      <td>0</td>\n",
       "      <td>0</td>\n",
       "      <td>...</td>\n",
       "      <td>1092</td>\n",
       "      <td>1176</td>\n",
       "      <td>1279</td>\n",
       "      <td>1351</td>\n",
       "      <td>1463</td>\n",
       "      <td>1531</td>\n",
       "      <td>1703</td>\n",
       "      <td>1828</td>\n",
       "      <td>1939</td>\n",
       "      <td>2171</td>\n",
       "    </tr>\n",
       "    <tr>\n",
       "      <th>Albania</th>\n",
       "      <td>0</td>\n",
       "      <td>0</td>\n",
       "      <td>0</td>\n",
       "      <td>0</td>\n",
       "      <td>0</td>\n",
       "      <td>0</td>\n",
       "      <td>0</td>\n",
       "      <td>0</td>\n",
       "      <td>0</td>\n",
       "      <td>0</td>\n",
       "      <td>...</td>\n",
       "      <td>609</td>\n",
       "      <td>634</td>\n",
       "      <td>663</td>\n",
       "      <td>678</td>\n",
       "      <td>712</td>\n",
       "      <td>726</td>\n",
       "      <td>736</td>\n",
       "      <td>750</td>\n",
       "      <td>766</td>\n",
       "      <td>773</td>\n",
       "    </tr>\n",
       "    <tr>\n",
       "      <th>Alberta (Canada)</th>\n",
       "      <td>0</td>\n",
       "      <td>0</td>\n",
       "      <td>0</td>\n",
       "      <td>0</td>\n",
       "      <td>0</td>\n",
       "      <td>0</td>\n",
       "      <td>0</td>\n",
       "      <td>0</td>\n",
       "      <td>0</td>\n",
       "      <td>0</td>\n",
       "      <td>...</td>\n",
       "      <td>3095</td>\n",
       "      <td>3401</td>\n",
       "      <td>3720</td>\n",
       "      <td>4017</td>\n",
       "      <td>4233</td>\n",
       "      <td>4480</td>\n",
       "      <td>4696</td>\n",
       "      <td>4850</td>\n",
       "      <td>5165</td>\n",
       "      <td>5355</td>\n",
       "    </tr>\n",
       "    <tr>\n",
       "      <th>Algeria</th>\n",
       "      <td>0</td>\n",
       "      <td>0</td>\n",
       "      <td>0</td>\n",
       "      <td>0</td>\n",
       "      <td>0</td>\n",
       "      <td>0</td>\n",
       "      <td>0</td>\n",
       "      <td>0</td>\n",
       "      <td>0</td>\n",
       "      <td>0</td>\n",
       "      <td>...</td>\n",
       "      <td>2811</td>\n",
       "      <td>2910</td>\n",
       "      <td>3007</td>\n",
       "      <td>3127</td>\n",
       "      <td>3256</td>\n",
       "      <td>3382</td>\n",
       "      <td>3517</td>\n",
       "      <td>3649</td>\n",
       "      <td>3848</td>\n",
       "      <td>4006</td>\n",
       "    </tr>\n",
       "    <tr>\n",
       "      <th>Anguilla (United Kingdom)</th>\n",
       "      <td>0</td>\n",
       "      <td>0</td>\n",
       "      <td>0</td>\n",
       "      <td>0</td>\n",
       "      <td>0</td>\n",
       "      <td>0</td>\n",
       "      <td>0</td>\n",
       "      <td>0</td>\n",
       "      <td>0</td>\n",
       "      <td>0</td>\n",
       "      <td>...</td>\n",
       "      <td>3</td>\n",
       "      <td>3</td>\n",
       "      <td>3</td>\n",
       "      <td>3</td>\n",
       "      <td>3</td>\n",
       "      <td>3</td>\n",
       "      <td>3</td>\n",
       "      <td>3</td>\n",
       "      <td>3</td>\n",
       "      <td>3</td>\n",
       "    </tr>\n",
       "  </tbody>\n",
       "</table>\n",
       "<p>5 rows × 100 columns</p>\n",
       "</div>"
      ],
      "text/plain": [
       "                           1/22/20  1/23/20  1/24/20  1/25/20  1/26/20  \\\n",
       "Country/Region                                                           \n",
       "Afghanistan                      0        0        0        0        0   \n",
       "Albania                          0        0        0        0        0   \n",
       "Alberta (Canada)                 0        0        0        0        0   \n",
       "Algeria                          0        0        0        0        0   \n",
       "Anguilla (United Kingdom)        0        0        0        0        0   \n",
       "\n",
       "                           1/27/20  1/28/20  1/29/20  1/30/20  1/31/20  ...  \\\n",
       "Country/Region                                                          ...   \n",
       "Afghanistan                      0        0        0        0        0  ...   \n",
       "Albania                          0        0        0        0        0  ...   \n",
       "Alberta (Canada)                 0        0        0        0        0  ...   \n",
       "Algeria                          0        0        0        0        0  ...   \n",
       "Anguilla (United Kingdom)        0        0        0        0        0  ...   \n",
       "\n",
       "                           4/21/20  4/22/20  4/23/20  4/24/20  4/25/20  \\\n",
       "Country/Region                                                           \n",
       "Afghanistan                   1092     1176     1279     1351     1463   \n",
       "Albania                        609      634      663      678      712   \n",
       "Alberta (Canada)              3095     3401     3720     4017     4233   \n",
       "Algeria                       2811     2910     3007     3127     3256   \n",
       "Anguilla (United Kingdom)        3        3        3        3        3   \n",
       "\n",
       "                           4/26/20  4/27/20  4/28/20  4/29/20  4/30/20  \n",
       "Country/Region                                                          \n",
       "Afghanistan                   1531     1703     1828     1939     2171  \n",
       "Albania                        726      736      750      766      773  \n",
       "Alberta (Canada)              4480     4696     4850     5165     5355  \n",
       "Algeria                       3382     3517     3649     3848     4006  \n",
       "Anguilla (United Kingdom)        3        3        3        3        3  \n",
       "\n",
       "[5 rows x 100 columns]"
      ]
     },
     "execution_count": 75,
     "metadata": {},
     "output_type": "execute_result"
    }
   ],
   "source": [
    "df_time=df_w_pop[dates]\n",
    "df_time.head()"
   ]
  },
  {
   "cell_type": "markdown",
   "metadata": {},
   "source": [
    "This data frame can later be used for visualization so let's create a new one exclusively for counting."
   ]
  },
  {
   "cell_type": "code",
   "execution_count": 91,
   "metadata": {},
   "outputs": [
    {
     "data": {
      "text/html": [
       "<div>\n",
       "<style scoped>\n",
       "    .dataframe tbody tr th:only-of-type {\n",
       "        vertical-align: middle;\n",
       "    }\n",
       "\n",
       "    .dataframe tbody tr th {\n",
       "        vertical-align: top;\n",
       "    }\n",
       "\n",
       "    .dataframe thead th {\n",
       "        text-align: right;\n",
       "    }\n",
       "</style>\n",
       "<table border=\"1\" class=\"dataframe\">\n",
       "  <thead>\n",
       "    <tr style=\"text-align: right;\">\n",
       "      <th></th>\n",
       "      <th>1st Month Total</th>\n",
       "      <th>Day 1</th>\n",
       "    </tr>\n",
       "    <tr>\n",
       "      <th>Country/Region</th>\n",
       "      <th></th>\n",
       "      <th></th>\n",
       "    </tr>\n",
       "  </thead>\n",
       "  <tbody>\n",
       "    <tr>\n",
       "      <th>Afghanistan</th>\n",
       "      <td>84</td>\n",
       "      <td>2/24/20</td>\n",
       "    </tr>\n",
       "    <tr>\n",
       "      <th>Albania</th>\n",
       "      <td>400</td>\n",
       "      <td>3/9/20</td>\n",
       "    </tr>\n",
       "    <tr>\n",
       "      <th>Alberta (Canada)</th>\n",
       "      <td>1181</td>\n",
       "      <td>3/6/20</td>\n",
       "    </tr>\n",
       "    <tr>\n",
       "      <th>Algeria</th>\n",
       "      <td>367</td>\n",
       "      <td>2/25/20</td>\n",
       "    </tr>\n",
       "    <tr>\n",
       "      <th>Anguilla (United Kingdom)</th>\n",
       "      <td>3</td>\n",
       "      <td>3/28/20</td>\n",
       "    </tr>\n",
       "  </tbody>\n",
       "</table>\n",
       "</div>"
      ],
      "text/plain": [
       "                           1st Month Total    Day 1\n",
       "Country/Region                                     \n",
       "Afghanistan                             84  2/24/20\n",
       "Albania                                400   3/9/20\n",
       "Alberta (Canada)                      1181   3/6/20\n",
       "Algeria                                367  2/25/20\n",
       "Anguilla (United Kingdom)                3  3/28/20"
      ]
     },
     "execution_count": 91,
     "metadata": {},
     "output_type": "execute_result"
    }
   ],
   "source": [
    "df_month1=df_time.copy()\n",
    "n_rows=df_month1.shape[0]\n",
    "n_cols=df_month1.shape[1]\n",
    "total_sums=[]\n",
    "day1=[]\n",
    "\n",
    "for row in range(n_rows):\n",
    "    cases=0\n",
    "    n_days=0\n",
    "    \n",
    "    for col in range(n_cols):\n",
    "        \n",
    "            if ((df_month1.iloc[row,col]!=0 or cases!=0) and n_days<=30):\n",
    "                cases=df_month1.iloc[row,col]\n",
    "                n_days=n_days+1\n",
    "                if(n_days==1):\n",
    "                    day1.append(df_month1.columns[col])\n",
    "    \n",
    "    total_sums.append(cases)\n",
    "    \n",
    "df_month1.insert(loc=0,column='1st Month Total', value=total_sums)\n",
    "df_month1.insert(loc=1,column='Day 1', value=day1)\n",
    "df_month1.drop(dates,axis=1,inplace=True)\n",
    "df_month1.head()"
   ]
  },
  {
   "cell_type": "markdown",
   "metadata": {},
   "source": [
    "Let's transform Day 1 into an actual datetime type."
   ]
  },
  {
   "cell_type": "code",
   "execution_count": 92,
   "metadata": {
    "scrolled": true
   },
   "outputs": [
    {
     "data": {
      "text/html": [
       "<div>\n",
       "<style scoped>\n",
       "    .dataframe tbody tr th:only-of-type {\n",
       "        vertical-align: middle;\n",
       "    }\n",
       "\n",
       "    .dataframe tbody tr th {\n",
       "        vertical-align: top;\n",
       "    }\n",
       "\n",
       "    .dataframe thead th {\n",
       "        text-align: right;\n",
       "    }\n",
       "</style>\n",
       "<table border=\"1\" class=\"dataframe\">\n",
       "  <thead>\n",
       "    <tr style=\"text-align: right;\">\n",
       "      <th></th>\n",
       "      <th>1st Month Total</th>\n",
       "      <th>Day 1</th>\n",
       "    </tr>\n",
       "    <tr>\n",
       "      <th>Country/Region</th>\n",
       "      <th></th>\n",
       "      <th></th>\n",
       "    </tr>\n",
       "  </thead>\n",
       "  <tbody>\n",
       "    <tr>\n",
       "      <th>Afghanistan</th>\n",
       "      <td>84</td>\n",
       "      <td>2020-02-24</td>\n",
       "    </tr>\n",
       "    <tr>\n",
       "      <th>Albania</th>\n",
       "      <td>400</td>\n",
       "      <td>2020-03-09</td>\n",
       "    </tr>\n",
       "    <tr>\n",
       "      <th>Alberta (Canada)</th>\n",
       "      <td>1181</td>\n",
       "      <td>2020-03-06</td>\n",
       "    </tr>\n",
       "    <tr>\n",
       "      <th>Algeria</th>\n",
       "      <td>367</td>\n",
       "      <td>2020-02-25</td>\n",
       "    </tr>\n",
       "    <tr>\n",
       "      <th>Anguilla (United Kingdom)</th>\n",
       "      <td>3</td>\n",
       "      <td>2020-03-28</td>\n",
       "    </tr>\n",
       "  </tbody>\n",
       "</table>\n",
       "</div>"
      ],
      "text/plain": [
       "                           1st Month Total      Day 1\n",
       "Country/Region                                       \n",
       "Afghanistan                             84 2020-02-24\n",
       "Albania                                400 2020-03-09\n",
       "Alberta (Canada)                      1181 2020-03-06\n",
       "Algeria                                367 2020-02-25\n",
       "Anguilla (United Kingdom)                3 2020-03-28"
      ]
     },
     "execution_count": 92,
     "metadata": {},
     "output_type": "execute_result"
    }
   ],
   "source": [
    "df_month1[['Day 1']]='0'+df_month1[['Day 1']]+'20'\n",
    "for i in range(len(df_month1)):\n",
    "    if (len(df_month1.iloc[i,1])!=10):\n",
    "        part1=df_month1.iloc[i,1][:3]\n",
    "        part2=df_month1.iloc[i,1][3:]\n",
    "        df_month1.iloc[i,1]=part1+'0'+part2\n",
    "\n",
    "#To erase the / sign\n",
    "    \n",
    "df_month1['Day 1']=pd.to_datetime(df_month1['Day 1'], format='%m/%d/%Y')\n",
    "df_month1.head()"
   ]
  },
  {
   "cell_type": "markdown",
   "metadata": {},
   "source": [
    "For countries that started getting cases in April, there is not enough information to analyze the 1st month. Therefore, lets assign it's total as NA, and later, I'll erase those corresponding columns."
   ]
  },
  {
   "cell_type": "code",
   "execution_count": 93,
   "metadata": {},
   "outputs": [
    {
     "data": {
      "text/html": [
       "<div>\n",
       "<style scoped>\n",
       "    .dataframe tbody tr th:only-of-type {\n",
       "        vertical-align: middle;\n",
       "    }\n",
       "\n",
       "    .dataframe tbody tr th {\n",
       "        vertical-align: top;\n",
       "    }\n",
       "\n",
       "    .dataframe thead th {\n",
       "        text-align: right;\n",
       "    }\n",
       "</style>\n",
       "<table border=\"1\" class=\"dataframe\">\n",
       "  <thead>\n",
       "    <tr style=\"text-align: right;\">\n",
       "      <th></th>\n",
       "      <th>1st Month Total</th>\n",
       "      <th>Day 1</th>\n",
       "    </tr>\n",
       "    <tr>\n",
       "      <th>Country/Region</th>\n",
       "      <th></th>\n",
       "      <th></th>\n",
       "    </tr>\n",
       "  </thead>\n",
       "  <tbody>\n",
       "    <tr>\n",
       "      <th>Bonaire, Sint Eustatius and Saba (Netherlands)</th>\n",
       "      <td>NaN</td>\n",
       "      <td>2020-04-02</td>\n",
       "    </tr>\n",
       "    <tr>\n",
       "      <th>Comoros</th>\n",
       "      <td>NaN</td>\n",
       "      <td>2020-04-30</td>\n",
       "    </tr>\n",
       "    <tr>\n",
       "      <th>Falkland Islands (Malvinas) (United Kingdom)</th>\n",
       "      <td>NaN</td>\n",
       "      <td>2020-04-04</td>\n",
       "    </tr>\n",
       "    <tr>\n",
       "      <th>Malawi</th>\n",
       "      <td>NaN</td>\n",
       "      <td>2020-04-02</td>\n",
       "    </tr>\n",
       "    <tr>\n",
       "      <th>Saint Pierre and Miquelon (France)</th>\n",
       "      <td>NaN</td>\n",
       "      <td>2020-04-05</td>\n",
       "    </tr>\n",
       "    <tr>\n",
       "      <th>South Sudan</th>\n",
       "      <td>NaN</td>\n",
       "      <td>2020-04-05</td>\n",
       "    </tr>\n",
       "    <tr>\n",
       "      <th>Tajikistan</th>\n",
       "      <td>NaN</td>\n",
       "      <td>2020-04-30</td>\n",
       "    </tr>\n",
       "    <tr>\n",
       "      <th>Yemen</th>\n",
       "      <td>NaN</td>\n",
       "      <td>2020-04-10</td>\n",
       "    </tr>\n",
       "  </tbody>\n",
       "</table>\n",
       "</div>"
      ],
      "text/plain": [
       "                                                1st Month Total      Day 1\n",
       "Country/Region                                                            \n",
       "Bonaire, Sint Eustatius and Saba (Netherlands)              NaN 2020-04-02\n",
       "Comoros                                                     NaN 2020-04-30\n",
       "Falkland Islands (Malvinas) (United Kingdom)                NaN 2020-04-04\n",
       "Malawi                                                      NaN 2020-04-02\n",
       "Saint Pierre and Miquelon (France)                          NaN 2020-04-05\n",
       "South Sudan                                                 NaN 2020-04-05\n",
       "Tajikistan                                                  NaN 2020-04-30\n",
       "Yemen                                                       NaN 2020-04-10"
      ]
     },
     "execution_count": 93,
     "metadata": {},
     "output_type": "execute_result"
    }
   ],
   "source": [
    "df_month1.loc[df_month1['Day 1']>'2020-03-31','1st Month Total']= None\n",
    "df_month1[df_month1['Day 1']>'2020-03-31']"
   ]
  },
  {
   "cell_type": "code",
   "execution_count": 94,
   "metadata": {},
   "outputs": [],
   "source": [
    "def COVID (country):\n",
    "\n",
    "    df_time.transpose()[country].plot(kind='line')\n",
    "    plt.ylabel('Accumulated Cases')\n",
    "    plt.xlabel('Dates')\n",
    "    plt.title('COVID Accumulated Cases of ' + country)\n",
    "    plt.show()"
   ]
  },
  {
   "cell_type": "code",
   "execution_count": 95,
   "metadata": {
    "scrolled": true
   },
   "outputs": [
    {
     "data": {
      "image/png": "[encoded data removed]",
      "text/plain": [
       "<Figure size 432x288 with 1 Axes>"
      ]
     },
     "metadata": {
      "needs_background": "light"
     },
     "output_type": "display_data"
    }
   ],
   "source": [
    "COVID('Mexico')"
   ]
  },
  {
   "cell_type": "markdown",
   "metadata": {},
   "source": [
    "## Final Forms of the Data Set"
   ]
  },
  {
   "cell_type": "code",
   "execution_count": 96,
   "metadata": {},
   "outputs": [],
   "source": [
    "df_EA= pd.concat([df_w_pop,df_month1], axis=1)"
   ]
  },
  {
   "cell_type": "markdown",
   "metadata": {},
   "source": [
    "Now let's delete those rows that have missing totals of the 1st month."
   ]
  },
  {
   "cell_type": "code",
   "execution_count": 97,
   "metadata": {},
   "outputs": [],
   "source": [
    "df_EA.dropna(subset=['1st Month Total'], axis=0, inplace=True)"
   ]
  },
  {
   "cell_type": "code",
   "execution_count": 98,
   "metadata": {},
   "outputs": [],
   "source": [
    "df_EA.drop(dates+['Lat', 'Long','Day 1', 'Generosity','Perceptions of corruption'], axis=1, inplace=True)"
   ]
  },
  {
   "cell_type": "markdown",
   "metadata": {},
   "source": [
    "Next, it is necessary to consider the first month's positive cases per 100K people."
   ]
  },
  {
   "cell_type": "code",
   "execution_count": 99,
   "metadata": {},
   "outputs": [
    {
     "data": {
      "text/plain": [
       "'1,809,280\\xa0'"
      ]
     },
     "execution_count": 99,
     "metadata": {},
     "output_type": "execute_result"
    }
   ],
   "source": [
    "df_EA['Population 2019'].loc['Kosovo']"
   ]
  },
  {
   "cell_type": "code",
   "execution_count": 100,
   "metadata": {},
   "outputs": [],
   "source": [
    "df_EA.loc['Kosovo','Population 2019']='1809280'"
   ]
  },
  {
   "cell_type": "code",
   "execution_count": 101,
   "metadata": {},
   "outputs": [],
   "source": [
    "df_EA['Population 2019']=df_EA['Population 2019'].astype('int64')"
   ]
  },
  {
   "cell_type": "code",
   "execution_count": 102,
   "metadata": {},
   "outputs": [
    {
     "data": {
      "text/html": [
       "<div>\n",
       "<style scoped>\n",
       "    .dataframe tbody tr th:only-of-type {\n",
       "        vertical-align: middle;\n",
       "    }\n",
       "\n",
       "    .dataframe tbody tr th {\n",
       "        vertical-align: top;\n",
       "    }\n",
       "\n",
       "    .dataframe thead th {\n",
       "        text-align: right;\n",
       "    }\n",
       "</style>\n",
       "<table border=\"1\" class=\"dataframe\">\n",
       "  <thead>\n",
       "    <tr style=\"text-align: right;\">\n",
       "      <th></th>\n",
       "      <th>Happiness Score</th>\n",
       "      <th>GDP per capita</th>\n",
       "      <th>Social support</th>\n",
       "      <th>Healthy life expectancy</th>\n",
       "      <th>Freedom to make life choices</th>\n",
       "      <th>Population 2019</th>\n",
       "      <th>1st Month Total</th>\n",
       "      <th>Positive Cases per 1M in 1st Month of Infection</th>\n",
       "    </tr>\n",
       "    <tr>\n",
       "      <th>Country/Region</th>\n",
       "      <th></th>\n",
       "      <th></th>\n",
       "      <th></th>\n",
       "      <th></th>\n",
       "      <th></th>\n",
       "      <th></th>\n",
       "      <th></th>\n",
       "      <th></th>\n",
       "    </tr>\n",
       "  </thead>\n",
       "  <tbody>\n",
       "    <tr>\n",
       "      <th>Afghanistan</th>\n",
       "      <td>3.203</td>\n",
       "      <td>0.350</td>\n",
       "      <td>0.517</td>\n",
       "      <td>0.361</td>\n",
       "      <td>0.000</td>\n",
       "      <td>38041757</td>\n",
       "      <td>84.0</td>\n",
       "      <td>2.208100</td>\n",
       "    </tr>\n",
       "    <tr>\n",
       "      <th>Albania</th>\n",
       "      <td>4.719</td>\n",
       "      <td>0.947</td>\n",
       "      <td>0.848</td>\n",
       "      <td>0.874</td>\n",
       "      <td>0.383</td>\n",
       "      <td>2880913</td>\n",
       "      <td>400.0</td>\n",
       "      <td>138.844873</td>\n",
       "    </tr>\n",
       "    <tr>\n",
       "      <th>Alberta (Canada)</th>\n",
       "      <td>7.278</td>\n",
       "      <td>1.365</td>\n",
       "      <td>1.505</td>\n",
       "      <td>1.039</td>\n",
       "      <td>0.584</td>\n",
       "      <td>4384968</td>\n",
       "      <td>1181.0</td>\n",
       "      <td>269.329217</td>\n",
       "    </tr>\n",
       "    <tr>\n",
       "      <th>Algeria</th>\n",
       "      <td>5.211</td>\n",
       "      <td>1.002</td>\n",
       "      <td>1.160</td>\n",
       "      <td>0.785</td>\n",
       "      <td>0.086</td>\n",
       "      <td>43053054</td>\n",
       "      <td>367.0</td>\n",
       "      <td>8.524366</td>\n",
       "    </tr>\n",
       "    <tr>\n",
       "      <th>Anguilla (United Kingdom)</th>\n",
       "      <td>7.054</td>\n",
       "      <td>1.333</td>\n",
       "      <td>1.538</td>\n",
       "      <td>0.996</td>\n",
       "      <td>0.450</td>\n",
       "      <td>14869</td>\n",
       "      <td>3.0</td>\n",
       "      <td>201.762055</td>\n",
       "    </tr>\n",
       "  </tbody>\n",
       "</table>\n",
       "</div>"
      ],
      "text/plain": [
       "                           Happiness Score  GDP per capita  Social support  \\\n",
       "Country/Region                                                               \n",
       "Afghanistan                          3.203           0.350           0.517   \n",
       "Albania                              4.719           0.947           0.848   \n",
       "Alberta (Canada)                     7.278           1.365           1.505   \n",
       "Algeria                              5.211           1.002           1.160   \n",
       "Anguilla (United Kingdom)            7.054           1.333           1.538   \n",
       "\n",
       "                           Healthy life expectancy  \\\n",
       "Country/Region                                       \n",
       "Afghanistan                                  0.361   \n",
       "Albania                                      0.874   \n",
       "Alberta (Canada)                             1.039   \n",
       "Algeria                                      0.785   \n",
       "Anguilla (United Kingdom)                    0.996   \n",
       "\n",
       "                           Freedom to make life choices  Population 2019  \\\n",
       "Country/Region                                                             \n",
       "Afghanistan                                       0.000         38041757   \n",
       "Albania                                           0.383          2880913   \n",
       "Alberta (Canada)                                  0.584          4384968   \n",
       "Algeria                                           0.086         43053054   \n",
       "Anguilla (United Kingdom)                         0.450            14869   \n",
       "\n",
       "                           1st Month Total  \\\n",
       "Country/Region                               \n",
       "Afghanistan                           84.0   \n",
       "Albania                              400.0   \n",
       "Alberta (Canada)                    1181.0   \n",
       "Algeria                              367.0   \n",
       "Anguilla (United Kingdom)              3.0   \n",
       "\n",
       "                           Positive Cases per 1M in 1st Month of Infection  \n",
       "Country/Region                                                              \n",
       "Afghanistan                                                       2.208100  \n",
       "Albania                                                         138.844873  \n",
       "Alberta (Canada)                                                269.329217  \n",
       "Algeria                                                           8.524366  \n",
       "Anguilla (United Kingdom)                                       201.762055  "
      ]
     },
     "execution_count": 102,
     "metadata": {},
     "output_type": "execute_result"
    }
   ],
   "source": [
    "#df_EA.drop('Postive Case per 100K',axis=1,inplace=True)\n",
    "df_EA['Positive Cases per 1M in 1st Month of Infection']=(df_EA['1st Month Total']/df_EA['Population 2019'])*1000000\n",
    "df_EA.head()"
   ]
  },
  {
   "cell_type": "markdown",
   "metadata": {},
   "source": [
    "Let's delete the Population 2019, 1st Month Total columns."
   ]
  },
  {
   "cell_type": "code",
   "execution_count": 103,
   "metadata": {},
   "outputs": [
    {
     "data": {
      "text/html": [
       "<div>\n",
       "<style scoped>\n",
       "    .dataframe tbody tr th:only-of-type {\n",
       "        vertical-align: middle;\n",
       "    }\n",
       "\n",
       "    .dataframe tbody tr th {\n",
       "        vertical-align: top;\n",
       "    }\n",
       "\n",
       "    .dataframe thead th {\n",
       "        text-align: right;\n",
       "    }\n",
       "</style>\n",
       "<table border=\"1\" class=\"dataframe\">\n",
       "  <thead>\n",
       "    <tr style=\"text-align: right;\">\n",
       "      <th></th>\n",
       "      <th>Happiness Score</th>\n",
       "      <th>GDP per capita</th>\n",
       "      <th>Social support</th>\n",
       "      <th>Healthy life expectancy</th>\n",
       "      <th>Freedom to make life choices</th>\n",
       "      <th>Positive Cases per 1M in 1st Month of Infection</th>\n",
       "    </tr>\n",
       "    <tr>\n",
       "      <th>Country/Region</th>\n",
       "      <th></th>\n",
       "      <th></th>\n",
       "      <th></th>\n",
       "      <th></th>\n",
       "      <th></th>\n",
       "      <th></th>\n",
       "    </tr>\n",
       "  </thead>\n",
       "  <tbody>\n",
       "    <tr>\n",
       "      <th>Afghanistan</th>\n",
       "      <td>3.203</td>\n",
       "      <td>0.350</td>\n",
       "      <td>0.517</td>\n",
       "      <td>0.361</td>\n",
       "      <td>0.000</td>\n",
       "      <td>2.208100</td>\n",
       "    </tr>\n",
       "    <tr>\n",
       "      <th>Albania</th>\n",
       "      <td>4.719</td>\n",
       "      <td>0.947</td>\n",
       "      <td>0.848</td>\n",
       "      <td>0.874</td>\n",
       "      <td>0.383</td>\n",
       "      <td>138.844873</td>\n",
       "    </tr>\n",
       "    <tr>\n",
       "      <th>Alberta (Canada)</th>\n",
       "      <td>7.278</td>\n",
       "      <td>1.365</td>\n",
       "      <td>1.505</td>\n",
       "      <td>1.039</td>\n",
       "      <td>0.584</td>\n",
       "      <td>269.329217</td>\n",
       "    </tr>\n",
       "    <tr>\n",
       "      <th>Algeria</th>\n",
       "      <td>5.211</td>\n",
       "      <td>1.002</td>\n",
       "      <td>1.160</td>\n",
       "      <td>0.785</td>\n",
       "      <td>0.086</td>\n",
       "      <td>8.524366</td>\n",
       "    </tr>\n",
       "    <tr>\n",
       "      <th>Anguilla (United Kingdom)</th>\n",
       "      <td>7.054</td>\n",
       "      <td>1.333</td>\n",
       "      <td>1.538</td>\n",
       "      <td>0.996</td>\n",
       "      <td>0.450</td>\n",
       "      <td>201.762055</td>\n",
       "    </tr>\n",
       "  </tbody>\n",
       "</table>\n",
       "</div>"
      ],
      "text/plain": [
       "                           Happiness Score  GDP per capita  Social support  \\\n",
       "Country/Region                                                               \n",
       "Afghanistan                          3.203           0.350           0.517   \n",
       "Albania                              4.719           0.947           0.848   \n",
       "Alberta (Canada)                     7.278           1.365           1.505   \n",
       "Algeria                              5.211           1.002           1.160   \n",
       "Anguilla (United Kingdom)            7.054           1.333           1.538   \n",
       "\n",
       "                           Healthy life expectancy  \\\n",
       "Country/Region                                       \n",
       "Afghanistan                                  0.361   \n",
       "Albania                                      0.874   \n",
       "Alberta (Canada)                             1.039   \n",
       "Algeria                                      0.785   \n",
       "Anguilla (United Kingdom)                    0.996   \n",
       "\n",
       "                           Freedom to make life choices  \\\n",
       "Country/Region                                            \n",
       "Afghanistan                                       0.000   \n",
       "Albania                                           0.383   \n",
       "Alberta (Canada)                                  0.584   \n",
       "Algeria                                           0.086   \n",
       "Anguilla (United Kingdom)                         0.450   \n",
       "\n",
       "                           Positive Cases per 1M in 1st Month of Infection  \n",
       "Country/Region                                                              \n",
       "Afghanistan                                                       2.208100  \n",
       "Albania                                                         138.844873  \n",
       "Alberta (Canada)                                                269.329217  \n",
       "Algeria                                                           8.524366  \n",
       "Anguilla (United Kingdom)                                       201.762055  "
      ]
     },
     "execution_count": 103,
     "metadata": {},
     "output_type": "execute_result"
    }
   ],
   "source": [
    "df_cleaned=df_EA.drop(['1st Month Total','Population 2019'], axis=1)\n",
    "df_cleaned.head()"
   ]
  },
  {
   "cell_type": "code",
   "execution_count": 167,
   "metadata": {},
   "outputs": [
    {
     "data": {
      "text/plain": [
       "(211, 6)"
      ]
     },
     "execution_count": 167,
     "metadata": {},
     "output_type": "execute_result"
    }
   ],
   "source": [
    "df_cleaned.shape"
   ]
  },
  {
   "cell_type": "markdown",
   "metadata": {},
   "source": [
    "## Data Visualization and Statistical Analysis"
   ]
  },
  {
   "cell_type": "code",
   "execution_count": 168,
   "metadata": {},
   "outputs": [
    {
     "data": {
      "image/png": "[encoded data removed]",
      "text/plain": [
       "<Figure size 432x288 with 1 Axes>"
      ]
     },
     "metadata": {
      "needs_background": "light"
     },
     "output_type": "display_data"
    }
   ],
   "source": [
    "df_cleaned['Positive Cases per 1M in 1st Month of Infection'].sort_values(ascending=False)[0:9].plot(kind='bar')\n",
    "plt.ylabel('Number of Cases per Million People')\n",
    "plt.xlabel('Country')\n",
    "plt.title('Top 10 Countries with Most Accumulated Cases during 1st Month')\n",
    "plt.show()"
   ]
  },
  {
   "cell_type": "code",
   "execution_count": 142,
   "metadata": {},
   "outputs": [
    {
     "data": {
      "text/html": [
       "<div>\n",
       "<style scoped>\n",
       "    .dataframe tbody tr th:only-of-type {\n",
       "        vertical-align: middle;\n",
       "    }\n",
       "\n",
       "    .dataframe tbody tr th {\n",
       "        vertical-align: top;\n",
       "    }\n",
       "\n",
       "    .dataframe thead th {\n",
       "        text-align: right;\n",
       "    }\n",
       "</style>\n",
       "<table border=\"1\" class=\"dataframe\">\n",
       "  <thead>\n",
       "    <tr style=\"text-align: right;\">\n",
       "      <th></th>\n",
       "      <th>Positive Cases per 1M in 1st Month of Infection</th>\n",
       "    </tr>\n",
       "  </thead>\n",
       "  <tbody>\n",
       "    <tr>\n",
       "      <th>Happiness Score</th>\n",
       "      <td>0.407960</td>\n",
       "    </tr>\n",
       "    <tr>\n",
       "      <th>GDP per capita</th>\n",
       "      <td>0.345297</td>\n",
       "    </tr>\n",
       "    <tr>\n",
       "      <th>Social support</th>\n",
       "      <td>0.332634</td>\n",
       "    </tr>\n",
       "    <tr>\n",
       "      <th>Healthy life expectancy</th>\n",
       "      <td>0.304640</td>\n",
       "    </tr>\n",
       "    <tr>\n",
       "      <th>Freedom to make life choices</th>\n",
       "      <td>0.158251</td>\n",
       "    </tr>\n",
       "  </tbody>\n",
       "</table>\n",
       "</div>"
      ],
      "text/plain": [
       "                              Positive Cases per 1M in 1st Month of Infection\n",
       "Happiness Score                                                      0.407960\n",
       "GDP per capita                                                       0.345297\n",
       "Social support                                                       0.332634\n",
       "Healthy life expectancy                                              0.304640\n",
       "Freedom to make life choices                                         0.158251"
      ]
     },
     "execution_count": 142,
     "metadata": {},
     "output_type": "execute_result"
    }
   ],
   "source": [
    "df_cleaned.corr().iloc[:-1,-1].to_frame()"
   ]
  },
  {
   "cell_type": "markdown",
   "metadata": {},
   "source": [
    "## Feature Scaling and Train-Test-Split"
   ]
  },
  {
   "cell_type": "code",
   "execution_count": 106,
   "metadata": {},
   "outputs": [],
   "source": [
    "df_cleaned.to_csv('.\\complete_dataset.csv',header=True,index=True)"
   ]
  },
  {
   "cell_type": "code",
   "execution_count": 114,
   "metadata": {},
   "outputs": [],
   "source": [
    "df_cleaned = pd.read_csv('.\\complete_dataset.csv',index_col=0)"
   ]
  },
  {
   "cell_type": "code",
   "execution_count": 228,
   "metadata": {},
   "outputs": [],
   "source": [
    "X_unscaled= df_cleaned.drop('Positive Cases per 1M in 1st Month of Infection', axis=1)\n",
    "y=df_cleaned['Positive Cases per 1M in 1st Month of Infection']"
   ]
  },
  {
   "cell_type": "code",
   "execution_count": 229,
   "metadata": {},
   "outputs": [],
   "source": [
    "from sklearn.preprocessing import MinMaxScaler\n",
    "min_max_scaler = MinMaxScaler()\n",
    "X = min_max_scaler.fit_transform(X_unscaled)"
   ]
  },
  {
   "cell_type": "code",
   "execution_count": 230,
   "metadata": {},
   "outputs": [],
   "source": [
    "from sklearn.model_selection import train_test_split\n",
    "X_train , X_test , y_train , y_test = train_test_split( X, y, test_size=0.15, random_state=11)"
   ]
  },
  {
   "cell_type": "code",
   "execution_count": 231,
   "metadata": {},
   "outputs": [
    {
     "name": "stdout",
     "output_type": "stream",
     "text": [
      "X_train shape:  (179, 5)\n",
      "X_test shape:  (32, 5)\n",
      "y_train shape:  (179,)\n",
      "y_test shape:  (32,)\n"
     ]
    }
   ],
   "source": [
    "print('X_train shape: ', X_train.shape)\n",
    "print('X_test shape: ', X_test.shape)\n",
    "print('y_train shape: ', y_train.shape)\n",
    "print('y_test shape: ', y_test.shape)"
   ]
  },
  {
   "cell_type": "markdown",
   "metadata": {},
   "source": [
    "## Model"
   ]
  },
  {
   "cell_type": "code",
   "execution_count": 232,
   "metadata": {},
   "outputs": [
    {
     "data": {
      "text/plain": [
       "LinearRegression()"
      ]
     },
     "execution_count": 232,
     "metadata": {},
     "output_type": "execute_result"
    }
   ],
   "source": [
    "from sklearn import linear_model\n",
    "regr = linear_model.LinearRegression()\n",
    "regr.fit(X_train,y_train)"
   ]
  },
  {
   "cell_type": "code",
   "execution_count": 233,
   "metadata": {},
   "outputs": [
    {
     "name": "stdout",
     "output_type": "stream",
     "text": [
      "Coefficients:  [1079.44616207  329.67463792 -189.41878338 -223.06838298 -221.05998927]\n",
      "Intercept:  -127.900372217468\n"
     ]
    }
   ],
   "source": [
    "print ('Coefficients: ', regr.coef_)\n",
    "print ('Intercept: ',regr.intercept_)"
   ]
  },
  {
   "cell_type": "code",
   "execution_count": 234,
   "metadata": {},
   "outputs": [
    {
     "data": {
      "text/html": [
       "<div>\n",
       "<style scoped>\n",
       "    .dataframe tbody tr th:only-of-type {\n",
       "        vertical-align: middle;\n",
       "    }\n",
       "\n",
       "    .dataframe tbody tr th {\n",
       "        vertical-align: top;\n",
       "    }\n",
       "\n",
       "    .dataframe thead th {\n",
       "        text-align: right;\n",
       "    }\n",
       "</style>\n",
       "<table border=\"1\" class=\"dataframe\">\n",
       "  <thead>\n",
       "    <tr style=\"text-align: right;\">\n",
       "      <th></th>\n",
       "      <th>Weights</th>\n",
       "    </tr>\n",
       "    <tr>\n",
       "      <th>Features</th>\n",
       "      <th></th>\n",
       "    </tr>\n",
       "  </thead>\n",
       "  <tbody>\n",
       "    <tr>\n",
       "      <th>Happiness Score</th>\n",
       "      <td>1079.446162</td>\n",
       "    </tr>\n",
       "    <tr>\n",
       "      <th>GDP per capita</th>\n",
       "      <td>329.674638</td>\n",
       "    </tr>\n",
       "    <tr>\n",
       "      <th>Social support</th>\n",
       "      <td>-189.418783</td>\n",
       "    </tr>\n",
       "    <tr>\n",
       "      <th>Healthy life expectancy</th>\n",
       "      <td>-223.068383</td>\n",
       "    </tr>\n",
       "    <tr>\n",
       "      <th>Freedom to make life choices</th>\n",
       "      <td>-221.059989</td>\n",
       "    </tr>\n",
       "    <tr>\n",
       "      <th>Bias</th>\n",
       "      <td>-127.900372</td>\n",
       "    </tr>\n",
       "  </tbody>\n",
       "</table>\n",
       "</div>"
      ],
      "text/plain": [
       "                                  Weights\n",
       "Features                                 \n",
       "Happiness Score               1079.446162\n",
       "GDP per capita                 329.674638\n",
       "Social support                -189.418783\n",
       "Healthy life expectancy       -223.068383\n",
       "Freedom to make life choices  -221.059989\n",
       "Bias                          -127.900372"
      ]
     },
     "execution_count": 234,
     "metadata": {},
     "output_type": "execute_result"
    }
   ],
   "source": [
    "Weights_df=pd.DataFrame()\n",
    "Weights_df.insert(0,'Features',X_unscaled.columns.values)\n",
    "Weights_df.insert(1,'Weights',regr.coef_)\n",
    "Weights_df=Weights_df.append(pd.DataFrame([['Bias', regr.intercept_]], columns=list(Weights_df.columns.values)))\n",
    "Weights_df.set_index('Features',inplace=True)\n",
    "Weights_df"
   ]
  },
  {
   "cell_type": "code",
   "execution_count": 235,
   "metadata": {},
   "outputs": [
    {
     "name": "stdout",
     "output_type": "stream",
     "text": [
      "['X1', 'X2', 'X3', 'X4', 'X5', '1']\n"
     ]
    }
   ],
   "source": [
    "var1=[]\n",
    "for i in range(Weights_df.shape[0]-1):\n",
    "    var1.append('X%d'%(i+1))\n",
    "var1.append('1')\n",
    "print(var1)"
   ]
  },
  {
   "cell_type": "code",
   "execution_count": 236,
   "metadata": {},
   "outputs": [
    {
     "data": {
      "text/html": [
       "<div>\n",
       "<style scoped>\n",
       "    .dataframe tbody tr th:only-of-type {\n",
       "        vertical-align: middle;\n",
       "    }\n",
       "\n",
       "    .dataframe tbody tr th {\n",
       "        vertical-align: top;\n",
       "    }\n",
       "\n",
       "    .dataframe thead th {\n",
       "        text-align: right;\n",
       "    }\n",
       "</style>\n",
       "<table border=\"1\" class=\"dataframe\">\n",
       "  <thead>\n",
       "    <tr style=\"text-align: right;\">\n",
       "      <th></th>\n",
       "      <th>Variable</th>\n",
       "      <th>Weights</th>\n",
       "    </tr>\n",
       "    <tr>\n",
       "      <th>Features</th>\n",
       "      <th></th>\n",
       "      <th></th>\n",
       "    </tr>\n",
       "  </thead>\n",
       "  <tbody>\n",
       "    <tr>\n",
       "      <th>Happiness Score</th>\n",
       "      <td>X1</td>\n",
       "      <td>1079.446162</td>\n",
       "    </tr>\n",
       "    <tr>\n",
       "      <th>GDP per capita</th>\n",
       "      <td>X2</td>\n",
       "      <td>329.674638</td>\n",
       "    </tr>\n",
       "    <tr>\n",
       "      <th>Social support</th>\n",
       "      <td>X3</td>\n",
       "      <td>-189.418783</td>\n",
       "    </tr>\n",
       "    <tr>\n",
       "      <th>Healthy life expectancy</th>\n",
       "      <td>X4</td>\n",
       "      <td>-223.068383</td>\n",
       "    </tr>\n",
       "    <tr>\n",
       "      <th>Freedom to make life choices</th>\n",
       "      <td>X5</td>\n",
       "      <td>-221.059989</td>\n",
       "    </tr>\n",
       "    <tr>\n",
       "      <th>Bias</th>\n",
       "      <td>1</td>\n",
       "      <td>-127.900372</td>\n",
       "    </tr>\n",
       "  </tbody>\n",
       "</table>\n",
       "</div>"
      ],
      "text/plain": [
       "                             Variable      Weights\n",
       "Features                                          \n",
       "Happiness Score                    X1  1079.446162\n",
       "GDP per capita                     X2   329.674638\n",
       "Social support                     X3  -189.418783\n",
       "Healthy life expectancy            X4  -223.068383\n",
       "Freedom to make life choices       X5  -221.059989\n",
       "Bias                                1  -127.900372"
      ]
     },
     "execution_count": 236,
     "metadata": {},
     "output_type": "execute_result"
    }
   ],
   "source": [
    "Weights_df.insert(0,'Variable',var1)\n",
    "Weights_df"
   ]
  },
  {
   "cell_type": "markdown",
   "metadata": {},
   "source": [
    "## Evaluation"
   ]
  },
  {
   "cell_type": "code",
   "execution_count": 237,
   "metadata": {},
   "outputs": [],
   "source": [
    "y_pred = regr.predict(X_test)"
   ]
  },
  {
   "cell_type": "code",
   "execution_count": 238,
   "metadata": {},
   "outputs": [],
   "source": [
    "rep_cols=['Model','MAE','MSE','R^2']\n",
    "report=pd.DataFrame(columns=rep_cols)\n",
    "mdl=['NPC', 'MIC']\n",
    "report['Model']=mdl"
   ]
  },
  {
   "cell_type": "code",
   "execution_count": 239,
   "metadata": {},
   "outputs": [],
   "source": [
    "#MAE\n",
    "report.loc[0,'MAE']=round(np.mean(np.absolute(y_pred - y_test)),2)\n",
    "#MSE\n",
    "report.loc[0,'MSE']=round(np.mean((y_pred - y_test)** 2),2)\n",
    "#R2\n",
    "report.loc[0,'R^2']=round(r2_score(y_pred , y_test),2)"
   ]
  },
  {
   "cell_type": "code",
   "execution_count": 240,
   "metadata": {},
   "outputs": [
    {
     "data": {
      "text/html": [
       "<div>\n",
       "<style scoped>\n",
       "    .dataframe tbody tr th:only-of-type {\n",
       "        vertical-align: middle;\n",
       "    }\n",
       "\n",
       "    .dataframe tbody tr th {\n",
       "        vertical-align: top;\n",
       "    }\n",
       "\n",
       "    .dataframe thead th {\n",
       "        text-align: right;\n",
       "    }\n",
       "</style>\n",
       "<table border=\"1\" class=\"dataframe\">\n",
       "  <thead>\n",
       "    <tr style=\"text-align: right;\">\n",
       "      <th></th>\n",
       "      <th>Model</th>\n",
       "      <th>MAE</th>\n",
       "      <th>MSE</th>\n",
       "      <th>R^2</th>\n",
       "    </tr>\n",
       "  </thead>\n",
       "  <tbody>\n",
       "    <tr>\n",
       "      <th>0</th>\n",
       "      <td>NPC</td>\n",
       "      <td>248.72</td>\n",
       "      <td>237506</td>\n",
       "      <td>-3.16</td>\n",
       "    </tr>\n",
       "    <tr>\n",
       "      <th>1</th>\n",
       "      <td>MIC</td>\n",
       "      <td>NaN</td>\n",
       "      <td>NaN</td>\n",
       "      <td>NaN</td>\n",
       "    </tr>\n",
       "  </tbody>\n",
       "</table>\n",
       "</div>"
      ],
      "text/plain": [
       "  Model     MAE     MSE   R^2\n",
       "0   NPC  248.72  237506 -3.16\n",
       "1   MIC     NaN     NaN   NaN"
      ]
     },
     "execution_count": 240,
     "metadata": {},
     "output_type": "execute_result"
    }
   ],
   "source": [
    "report"
   ]
  },
  {
   "cell_type": "code",
   "execution_count": 13,
   "metadata": {},
   "outputs": [
    {
     "name": "stdout",
     "output_type": "stream",
     "text": [
      "Mean absolute error: 248.72\n",
      "Residual sum of squares (MSE): 237506.25\n",
      "R2-score: -3.16\n"
     ]
    }
   ],
   "source": [
    "from sklearn.metrics import r2_score\n",
    "print(\"Mean absolute error: %.2f\" %np.mean(np.absolute(y_pred - y_test)))\n",
    "print(\"Residual sum of squares (MSE): %.2f\" %np.mean((y_pred - y_test)** 2))\n",
    "print(\"R2-score: %.2f\" % r2_score(y_pred , y_test) )"
   ]
  },
  {
   "cell_type": "markdown",
   "metadata": {},
   "source": [
    "## 2nd Look at Visuals"
   ]
  },
  {
   "cell_type": "code",
   "execution_count": 19,
   "metadata": {},
   "outputs": [],
   "source": [
    "import seaborn as sns\n",
    "\n",
    "def scatters(feature):\n",
    "    \n",
    "    sns.regplot(x=feature, y='Positive Cases per 1M in 1st Month of Infection', data=df_cleaned)\n",
    "    plt.ylim(0,)"
   ]
  },
  {
   "cell_type": "code",
   "execution_count": 15,
   "metadata": {},
   "outputs": [
    {
     "data": {
      "text/plain": [
       "Index(['Happiness Score', 'GDP per capita', 'Social support',\n",
       "       'Healthy life expectancy', 'Freedom to make life choices',\n",
       "       'Positive Cases per 1M in 1st Month of Infection'],\n",
       "      dtype='object')"
      ]
     },
     "execution_count": 15,
     "metadata": {},
     "output_type": "execute_result"
    }
   ],
   "source": [
    "df_cleaned.columns"
   ]
  },
  {
   "cell_type": "code",
   "execution_count": 20,
   "metadata": {},
   "outputs": [
    {
     "data": {
      "image/png": "[encoded data removed]",
      "text/plain": [
       "<Figure size 432x288 with 1 Axes>"
      ]
     },
     "metadata": {
      "needs_background": "light"
     },
     "output_type": "display_data"
    }
   ],
   "source": [
    "scatters('Happiness Score')"
   ]
  },
  {
   "cell_type": "code",
   "execution_count": 21,
   "metadata": {},
   "outputs": [
    {
     "data": {
      "image/png": "[encoded data removed]",
      "text/plain": [
       "<Figure size 432x288 with 1 Axes>"
      ]
     },
     "metadata": {
      "needs_background": "light"
     },
     "output_type": "display_data"
    }
   ],
   "source": [
    "scatters('GDP per capita')"
   ]
  },
  {
   "cell_type": "code",
   "execution_count": 22,
   "metadata": {},
   "outputs": [
    {
     "data": {
      "image/png": "[encoded data removed]",
      "text/plain": [
       "<Figure size 432x288 with 1 Axes>"
      ]
     },
     "metadata": {
      "needs_background": "light"
     },
     "output_type": "display_data"
    }
   ],
   "source": [
    "scatters('Healthy life expectancy')"
   ]
  },
  {
   "cell_type": "markdown",
   "metadata": {},
   "source": [
    "From these images, it is obvious that the relationship between these variables isn't linear."
   ]
  },
  {
   "cell_type": "markdown",
   "metadata": {},
   "source": [
    "## Model 2: Polynomial Degree 2"
   ]
  },
  {
   "cell_type": "code",
   "execution_count": 27,
   "metadata": {},
   "outputs": [],
   "source": [
    "from sklearn.preprocessing import PolynomialFeatures\n",
    "from sklearn.linear_model import LinearRegression\n",
    "from sklearn.preprocessing import StandardScaler\n",
    "from sklearn.pipeline import Pipeline\n",
    "\n",
    "Input=[('scale',StandardScaler()),('polynomial',PolynomialFeatures(degree=2)),('model', LinearRegression())]\n",
    "\n",
    "pipe=Pipeline(Input)\n",
    "pipe.fit(X_train,y_train)\n",
    "\n",
    "yhat=pipe.predict(X_test)"
   ]
  },
  {
   "cell_type": "code",
   "execution_count": 29,
   "metadata": {},
   "outputs": [
    {
     "name": "stdout",
     "output_type": "stream",
     "text": [
      "Mean absolute error: 263.77\n",
      "Residual sum of squares (MSE): 235512.19\n",
      "R2-score: -0.81\n"
     ]
    }
   ],
   "source": [
    "print(\"Mean absolute error: %.2f\" %np.mean(np.absolute(yhat - y_test)))\n",
    "print(\"Residual sum of squares (MSE): %.2f\" %np.mean((yhat - y_test)** 2))\n",
    "print(\"R2-score: %.2f\" % r2_score(yhat , y_test) )"
   ]
  },
  {
   "cell_type": "markdown",
   "metadata": {},
   "source": [
    "## Model 3: Polynomial Degree 3"
   ]
  },
  {
   "cell_type": "code",
   "execution_count": 30,
   "metadata": {},
   "outputs": [],
   "source": [
    "Input=[('scale',StandardScaler()),('polynomial',PolynomialFeatures(degree=3)),('model', LinearRegression())]\n",
    "\n",
    "pipe=Pipeline(Input)\n",
    "pipe.fit(X_train,y_train)\n",
    "\n",
    "yhat=pipe.predict(X_test)"
   ]
  },
  {
   "cell_type": "code",
   "execution_count": 31,
   "metadata": {},
   "outputs": [
    {
     "name": "stdout",
     "output_type": "stream",
     "text": [
      "Mean absolute error: 523.25\n",
      "Residual sum of squares (MSE): 663131.65\n",
      "R2-score: 0.00\n"
     ]
    }
   ],
   "source": [
    "print(\"Mean absolute error: %.2f\" %np.mean(np.absolute(yhat - y_test)))\n",
    "print(\"Residual sum of squares (MSE): %.2f\" %np.mean((yhat - y_test)** 2))\n",
    "print(\"R2-score: %.2f\" % r2_score(yhat , y_test) )"
   ]
  },
  {
   "cell_type": "markdown",
   "metadata": {},
   "source": [
    "## Obtaining Max Rate of Change"
   ]
  },
  {
   "cell_type": "code",
   "execution_count": 79,
   "metadata": {},
   "outputs": [
    {
     "data": {
      "text/plain": [
       "232.0"
      ]
     },
     "execution_count": 79,
     "metadata": {},
     "output_type": "execute_result"
    }
   ],
   "source": [
    "df_time.loc['Afghanistan'].diff().max()"
   ]
  },
  {
   "cell_type": "code",
   "execution_count": 111,
   "metadata": {},
   "outputs": [
    {
     "data": {
      "text/html": [
       "<div>\n",
       "<style scoped>\n",
       "    .dataframe tbody tr th:only-of-type {\n",
       "        vertical-align: middle;\n",
       "    }\n",
       "\n",
       "    .dataframe tbody tr th {\n",
       "        vertical-align: top;\n",
       "    }\n",
       "\n",
       "    .dataframe thead th {\n",
       "        text-align: right;\n",
       "    }\n",
       "</style>\n",
       "<table border=\"1\" class=\"dataframe\">\n",
       "  <thead>\n",
       "    <tr style=\"text-align: right;\">\n",
       "      <th></th>\n",
       "      <th>Happiness Score</th>\n",
       "      <th>GDP per capita</th>\n",
       "      <th>Social support</th>\n",
       "      <th>Healthy life expectancy</th>\n",
       "      <th>Freedom to make life choices</th>\n",
       "      <th>Positive Cases per 1M in 1st Month of Infection</th>\n",
       "    </tr>\n",
       "    <tr>\n",
       "      <th>Country/Region</th>\n",
       "      <th></th>\n",
       "      <th></th>\n",
       "      <th></th>\n",
       "      <th></th>\n",
       "      <th></th>\n",
       "      <th></th>\n",
       "    </tr>\n",
       "  </thead>\n",
       "  <tbody>\n",
       "    <tr>\n",
       "      <th>Afghanistan</th>\n",
       "      <td>3.203</td>\n",
       "      <td>0.350</td>\n",
       "      <td>0.517</td>\n",
       "      <td>0.361</td>\n",
       "      <td>0.000</td>\n",
       "      <td>2.208100</td>\n",
       "    </tr>\n",
       "    <tr>\n",
       "      <th>Albania</th>\n",
       "      <td>4.719</td>\n",
       "      <td>0.947</td>\n",
       "      <td>0.848</td>\n",
       "      <td>0.874</td>\n",
       "      <td>0.383</td>\n",
       "      <td>138.844873</td>\n",
       "    </tr>\n",
       "    <tr>\n",
       "      <th>Alberta (Canada)</th>\n",
       "      <td>7.278</td>\n",
       "      <td>1.365</td>\n",
       "      <td>1.505</td>\n",
       "      <td>1.039</td>\n",
       "      <td>0.584</td>\n",
       "      <td>269.329217</td>\n",
       "    </tr>\n",
       "    <tr>\n",
       "      <th>Algeria</th>\n",
       "      <td>5.211</td>\n",
       "      <td>1.002</td>\n",
       "      <td>1.160</td>\n",
       "      <td>0.785</td>\n",
       "      <td>0.086</td>\n",
       "      <td>8.524366</td>\n",
       "    </tr>\n",
       "    <tr>\n",
       "      <th>Anguilla (United Kingdom)</th>\n",
       "      <td>7.054</td>\n",
       "      <td>1.333</td>\n",
       "      <td>1.538</td>\n",
       "      <td>0.996</td>\n",
       "      <td>0.450</td>\n",
       "      <td>201.762055</td>\n",
       "    </tr>\n",
       "  </tbody>\n",
       "</table>\n",
       "</div>"
      ],
      "text/plain": [
       "                           Happiness Score  GDP per capita  Social support  \\\n",
       "Country/Region                                                               \n",
       "Afghanistan                          3.203           0.350           0.517   \n",
       "Albania                              4.719           0.947           0.848   \n",
       "Alberta (Canada)                     7.278           1.365           1.505   \n",
       "Algeria                              5.211           1.002           1.160   \n",
       "Anguilla (United Kingdom)            7.054           1.333           1.538   \n",
       "\n",
       "                           Healthy life expectancy  \\\n",
       "Country/Region                                       \n",
       "Afghanistan                                  0.361   \n",
       "Albania                                      0.874   \n",
       "Alberta (Canada)                             1.039   \n",
       "Algeria                                      0.785   \n",
       "Anguilla (United Kingdom)                    0.996   \n",
       "\n",
       "                           Freedom to make life choices  \\\n",
       "Country/Region                                            \n",
       "Afghanistan                                       0.000   \n",
       "Albania                                           0.383   \n",
       "Alberta (Canada)                                  0.584   \n",
       "Algeria                                           0.086   \n",
       "Anguilla (United Kingdom)                         0.450   \n",
       "\n",
       "                           Positive Cases per 1M in 1st Month of Infection  \n",
       "Country/Region                                                              \n",
       "Afghanistan                                                       2.208100  \n",
       "Albania                                                         138.844873  \n",
       "Alberta (Canada)                                                269.329217  \n",
       "Algeria                                                           8.524366  \n",
       "Anguilla (United Kingdom)                                       201.762055  "
      ]
     },
     "execution_count": 111,
     "metadata": {},
     "output_type": "execute_result"
    }
   ],
   "source": [
    "df_cleaned.head()"
   ]
  },
  {
   "cell_type": "code",
   "execution_count": 116,
   "metadata": {},
   "outputs": [],
   "source": [
    "max_roc=[]\n",
    "df_max_roc=df_cleaned.drop('Positive Cases per 1M in 1st Month of Infection', axis=1)\n",
    "\n",
    "for c in list(df_cleaned.index):\n",
    "    max_roc.append(df_time.loc[c].diff().max())\n",
    "    \n",
    "df_max_roc.insert(5,'Max Change',max_roc)"
   ]
  },
  {
   "cell_type": "code",
   "execution_count": 145,
   "metadata": {},
   "outputs": [],
   "source": [
    "df_max_roc['Population 2019']=df_EA['Population 2019']"
   ]
  },
  {
   "cell_type": "code",
   "execution_count": 149,
   "metadata": {},
   "outputs": [],
   "source": [
    "df_max_roc=df_max_roc[['Happiness Score', 'GDP per capita', 'Social support',\n",
    "       'Healthy life expectancy', 'Freedom to make life choices', 'Population 2019',\n",
    "       'Max Change']]"
   ]
  },
  {
   "cell_type": "code",
   "execution_count": 150,
   "metadata": {},
   "outputs": [
    {
     "data": {
      "text/html": [
       "<div>\n",
       "<style scoped>\n",
       "    .dataframe tbody tr th:only-of-type {\n",
       "        vertical-align: middle;\n",
       "    }\n",
       "\n",
       "    .dataframe tbody tr th {\n",
       "        vertical-align: top;\n",
       "    }\n",
       "\n",
       "    .dataframe thead th {\n",
       "        text-align: right;\n",
       "    }\n",
       "</style>\n",
       "<table border=\"1\" class=\"dataframe\">\n",
       "  <thead>\n",
       "    <tr style=\"text-align: right;\">\n",
       "      <th></th>\n",
       "      <th>Happiness Score</th>\n",
       "      <th>GDP per capita</th>\n",
       "      <th>Social support</th>\n",
       "      <th>Healthy life expectancy</th>\n",
       "      <th>Freedom to make life choices</th>\n",
       "      <th>Population 2019</th>\n",
       "      <th>Max Change</th>\n",
       "    </tr>\n",
       "    <tr>\n",
       "      <th>Country/Region</th>\n",
       "      <th></th>\n",
       "      <th></th>\n",
       "      <th></th>\n",
       "      <th></th>\n",
       "      <th></th>\n",
       "      <th></th>\n",
       "      <th></th>\n",
       "    </tr>\n",
       "  </thead>\n",
       "  <tbody>\n",
       "    <tr>\n",
       "      <th>Afghanistan</th>\n",
       "      <td>3.203</td>\n",
       "      <td>0.350</td>\n",
       "      <td>0.517</td>\n",
       "      <td>0.361</td>\n",
       "      <td>0.000</td>\n",
       "      <td>38041757</td>\n",
       "      <td>232.0</td>\n",
       "    </tr>\n",
       "    <tr>\n",
       "      <th>Albania</th>\n",
       "      <td>4.719</td>\n",
       "      <td>0.947</td>\n",
       "      <td>0.848</td>\n",
       "      <td>0.874</td>\n",
       "      <td>0.383</td>\n",
       "      <td>2880913</td>\n",
       "      <td>34.0</td>\n",
       "    </tr>\n",
       "    <tr>\n",
       "      <th>Alberta (Canada)</th>\n",
       "      <td>7.278</td>\n",
       "      <td>1.365</td>\n",
       "      <td>1.505</td>\n",
       "      <td>1.039</td>\n",
       "      <td>0.584</td>\n",
       "      <td>4384968</td>\n",
       "      <td>401.0</td>\n",
       "    </tr>\n",
       "    <tr>\n",
       "      <th>Algeria</th>\n",
       "      <td>5.211</td>\n",
       "      <td>1.002</td>\n",
       "      <td>1.160</td>\n",
       "      <td>0.785</td>\n",
       "      <td>0.086</td>\n",
       "      <td>43053054</td>\n",
       "      <td>199.0</td>\n",
       "    </tr>\n",
       "    <tr>\n",
       "      <th>Anguilla (United Kingdom)</th>\n",
       "      <td>7.054</td>\n",
       "      <td>1.333</td>\n",
       "      <td>1.538</td>\n",
       "      <td>0.996</td>\n",
       "      <td>0.450</td>\n",
       "      <td>14869</td>\n",
       "      <td>2.0</td>\n",
       "    </tr>\n",
       "  </tbody>\n",
       "</table>\n",
       "</div>"
      ],
      "text/plain": [
       "                           Happiness Score  GDP per capita  Social support  \\\n",
       "Country/Region                                                               \n",
       "Afghanistan                          3.203           0.350           0.517   \n",
       "Albania                              4.719           0.947           0.848   \n",
       "Alberta (Canada)                     7.278           1.365           1.505   \n",
       "Algeria                              5.211           1.002           1.160   \n",
       "Anguilla (United Kingdom)            7.054           1.333           1.538   \n",
       "\n",
       "                           Healthy life expectancy  \\\n",
       "Country/Region                                       \n",
       "Afghanistan                                  0.361   \n",
       "Albania                                      0.874   \n",
       "Alberta (Canada)                             1.039   \n",
       "Algeria                                      0.785   \n",
       "Anguilla (United Kingdom)                    0.996   \n",
       "\n",
       "                           Freedom to make life choices  Population 2019  \\\n",
       "Country/Region                                                             \n",
       "Afghanistan                                       0.000         38041757   \n",
       "Albania                                           0.383          2880913   \n",
       "Alberta (Canada)                                  0.584          4384968   \n",
       "Algeria                                           0.086         43053054   \n",
       "Anguilla (United Kingdom)                         0.450            14869   \n",
       "\n",
       "                           Max Change  \n",
       "Country/Region                         \n",
       "Afghanistan                     232.0  \n",
       "Albania                          34.0  \n",
       "Alberta (Canada)                401.0  \n",
       "Algeria                         199.0  \n",
       "Anguilla (United Kingdom)         2.0  "
      ]
     },
     "execution_count": 150,
     "metadata": {},
     "output_type": "execute_result"
    }
   ],
   "source": [
    "df_max_roc.head()"
   ]
  },
  {
   "cell_type": "code",
   "execution_count": 151,
   "metadata": {},
   "outputs": [],
   "source": [
    "df_max_roc.to_csv('.\\max_roc_dataset.csv',header=True,index=True)"
   ]
  },
  {
   "cell_type": "code",
   "execution_count": 114,
   "metadata": {},
   "outputs": [],
   "source": [
    "df_max_roc = pd.read_csv('.\\max_roc_dataset.csv',index_col=0)"
   ]
  },
  {
   "cell_type": "markdown",
   "metadata": {},
   "source": [
    "Let's look at the correlation of these variables"
   ]
  },
  {
   "cell_type": "code",
   "execution_count": 152,
   "metadata": {},
   "outputs": [
    {
     "data": {
      "text/html": [
       "<div>\n",
       "<style scoped>\n",
       "    .dataframe tbody tr th:only-of-type {\n",
       "        vertical-align: middle;\n",
       "    }\n",
       "\n",
       "    .dataframe tbody tr th {\n",
       "        vertical-align: top;\n",
       "    }\n",
       "\n",
       "    .dataframe thead th {\n",
       "        text-align: right;\n",
       "    }\n",
       "</style>\n",
       "<table border=\"1\" class=\"dataframe\">\n",
       "  <thead>\n",
       "    <tr style=\"text-align: right;\">\n",
       "      <th></th>\n",
       "      <th>Max Change</th>\n",
       "    </tr>\n",
       "  </thead>\n",
       "  <tbody>\n",
       "    <tr>\n",
       "      <th>Happiness Score</th>\n",
       "      <td>0.104503</td>\n",
       "    </tr>\n",
       "    <tr>\n",
       "      <th>GDP per capita</th>\n",
       "      <td>0.131078</td>\n",
       "    </tr>\n",
       "    <tr>\n",
       "      <th>Social support</th>\n",
       "      <td>0.114900</td>\n",
       "    </tr>\n",
       "    <tr>\n",
       "      <th>Healthy life expectancy</th>\n",
       "      <td>0.136346</td>\n",
       "    </tr>\n",
       "    <tr>\n",
       "      <th>Freedom to make life choices</th>\n",
       "      <td>-0.027174</td>\n",
       "    </tr>\n",
       "    <tr>\n",
       "      <th>Population 2019</th>\n",
       "      <td>0.130437</td>\n",
       "    </tr>\n",
       "  </tbody>\n",
       "</table>\n",
       "</div>"
      ],
      "text/plain": [
       "                              Max Change\n",
       "Happiness Score                 0.104503\n",
       "GDP per capita                  0.131078\n",
       "Social support                  0.114900\n",
       "Healthy life expectancy         0.136346\n",
       "Freedom to make life choices   -0.027174\n",
       "Population 2019                 0.130437"
      ]
     },
     "execution_count": 152,
     "metadata": {},
     "output_type": "execute_result"
    }
   ],
   "source": [
    "df_max_roc.corr().iloc[:-1,-1].to_frame()"
   ]
  },
  {
   "cell_type": "code",
   "execution_count": 135,
   "metadata": {},
   "outputs": [
    {
     "data": {
      "image/png": "[encoded data removed]",
      "text/plain": [
       "<Figure size 432x288 with 1 Axes>"
      ]
     },
     "metadata": {
      "needs_background": "light"
     },
     "output_type": "display_data"
    }
   ],
   "source": [
    "df_max_roc['Max Change'].sort_values(ascending=False)[0:9].plot(kind='bar',color='r')\n",
    "plt.ylabel('Maximum Rate of Change')\n",
    "plt.xlabel('Country/Region')\n",
    "plt.title('Top 10 Countries with Highest Maximum Rate of Change')\n",
    "plt.show()"
   ]
  },
  {
   "cell_type": "code",
   "execution_count": 241,
   "metadata": {},
   "outputs": [],
   "source": [
    "X_unscaled2= df_max_roc.drop('Max Change', axis=1)\n",
    "y2=df_max_roc['Max Change']"
   ]
  },
  {
   "cell_type": "code",
   "execution_count": 242,
   "metadata": {},
   "outputs": [],
   "source": [
    "from sklearn.preprocessing import MinMaxScaler\n",
    "min_max_scaler = MinMaxScaler()\n",
    "X2 = min_max_scaler.fit_transform(X_unscaled2)"
   ]
  },
  {
   "cell_type": "code",
   "execution_count": 243,
   "metadata": {},
   "outputs": [],
   "source": [
    "from sklearn.model_selection import train_test_split\n",
    "X_train2 , X_test2 , y_train2 , y_test2 = train_test_split( X2, y2, test_size=0.15, random_state=11)"
   ]
  },
  {
   "cell_type": "code",
   "execution_count": 244,
   "metadata": {},
   "outputs": [
    {
     "name": "stdout",
     "output_type": "stream",
     "text": [
      "X_train shape:  (179, 6)\n",
      "X_test shape:  (32, 6)\n",
      "y_train shape:  (179,)\n",
      "y_test shape:  (32,)\n"
     ]
    }
   ],
   "source": [
    "print('X_train shape: ', X_train2.shape)\n",
    "print('X_test shape: ', X_test2.shape)\n",
    "print('y_train shape: ', y_train2.shape)\n",
    "print('y_test shape: ', y_test2.shape)"
   ]
  },
  {
   "cell_type": "markdown",
   "metadata": {},
   "source": [
    "## Linear Model"
   ]
  },
  {
   "cell_type": "code",
   "execution_count": 250,
   "metadata": {},
   "outputs": [
    {
     "data": {
      "text/plain": [
       "LinearRegression()"
      ]
     },
     "execution_count": 250,
     "metadata": {},
     "output_type": "execute_result"
    }
   ],
   "source": [
    "from sklearn import linear_model\n",
    "regr2 = linear_model.LinearRegression()\n",
    "regr2.fit(X_train2,y_train2)"
   ]
  },
  {
   "cell_type": "code",
   "execution_count": 251,
   "metadata": {},
   "outputs": [
    {
     "name": "stdout",
     "output_type": "stream",
     "text": [
      "Coefficients:  [  850.65922083  -458.01261187   637.98784788  2703.56955021\n",
      " -2440.1757761   6244.01087617]\n",
      "Intercept:  -189.0053655317697\n"
     ]
    }
   ],
   "source": [
    "print ('Coefficients: ', regr2.coef_)\n",
    "print ('Intercept: ',regr2.intercept_)"
   ]
  },
  {
   "cell_type": "code",
   "execution_count": 252,
   "metadata": {},
   "outputs": [
    {
     "data": {
      "text/html": [
       "<div>\n",
       "<style scoped>\n",
       "    .dataframe tbody tr th:only-of-type {\n",
       "        vertical-align: middle;\n",
       "    }\n",
       "\n",
       "    .dataframe tbody tr th {\n",
       "        vertical-align: top;\n",
       "    }\n",
       "\n",
       "    .dataframe thead th {\n",
       "        text-align: right;\n",
       "    }\n",
       "</style>\n",
       "<table border=\"1\" class=\"dataframe\">\n",
       "  <thead>\n",
       "    <tr style=\"text-align: right;\">\n",
       "      <th></th>\n",
       "      <th>Weights</th>\n",
       "    </tr>\n",
       "    <tr>\n",
       "      <th>Features</th>\n",
       "      <th></th>\n",
       "    </tr>\n",
       "  </thead>\n",
       "  <tbody>\n",
       "    <tr>\n",
       "      <th>Happiness Score</th>\n",
       "      <td>850.659221</td>\n",
       "    </tr>\n",
       "    <tr>\n",
       "      <th>GDP per capita</th>\n",
       "      <td>-458.012612</td>\n",
       "    </tr>\n",
       "    <tr>\n",
       "      <th>Social support</th>\n",
       "      <td>637.987848</td>\n",
       "    </tr>\n",
       "    <tr>\n",
       "      <th>Healthy life expectancy</th>\n",
       "      <td>2703.569550</td>\n",
       "    </tr>\n",
       "    <tr>\n",
       "      <th>Freedom to make life choices</th>\n",
       "      <td>-2440.175776</td>\n",
       "    </tr>\n",
       "    <tr>\n",
       "      <th>Population 2019</th>\n",
       "      <td>6244.010876</td>\n",
       "    </tr>\n",
       "    <tr>\n",
       "      <th>Bias</th>\n",
       "      <td>-189.005366</td>\n",
       "    </tr>\n",
       "  </tbody>\n",
       "</table>\n",
       "</div>"
      ],
      "text/plain": [
       "                                  Weights\n",
       "Features                                 \n",
       "Happiness Score                850.659221\n",
       "GDP per capita                -458.012612\n",
       "Social support                 637.987848\n",
       "Healthy life expectancy       2703.569550\n",
       "Freedom to make life choices -2440.175776\n",
       "Population 2019               6244.010876\n",
       "Bias                          -189.005366"
      ]
     },
     "execution_count": 252,
     "metadata": {},
     "output_type": "execute_result"
    }
   ],
   "source": [
    "Weights_df2=pd.DataFrame()\n",
    "Weights_df2.insert(0,'Features',X_unscaled2.columns.values)\n",
    "Weights_df2.insert(1,'Weights',regr2.coef_)\n",
    "Weights_df2=Weights_df2.append(pd.DataFrame([['Bias', regr2.intercept_]], columns=list(Weights_df2.columns.values)))\n",
    "Weights_df2.set_index('Features',inplace=True)\n",
    "Weights_df2"
   ]
  },
  {
   "cell_type": "code",
   "execution_count": 253,
   "metadata": {},
   "outputs": [
    {
     "name": "stdout",
     "output_type": "stream",
     "text": [
      "['X1', 'X2', 'X3', 'X4', 'X5', 'X6', '1']\n"
     ]
    }
   ],
   "source": [
    "var2=[]\n",
    "for i in range(Weights_df2.shape[0]-1):\n",
    "    var2.append('X%d'%(i+1))\n",
    "var2.append('1')\n",
    "print(var2)"
   ]
  },
  {
   "cell_type": "code",
   "execution_count": 254,
   "metadata": {},
   "outputs": [
    {
     "data": {
      "text/html": [
       "<div>\n",
       "<style scoped>\n",
       "    .dataframe tbody tr th:only-of-type {\n",
       "        vertical-align: middle;\n",
       "    }\n",
       "\n",
       "    .dataframe tbody tr th {\n",
       "        vertical-align: top;\n",
       "    }\n",
       "\n",
       "    .dataframe thead th {\n",
       "        text-align: right;\n",
       "    }\n",
       "</style>\n",
       "<table border=\"1\" class=\"dataframe\">\n",
       "  <thead>\n",
       "    <tr style=\"text-align: right;\">\n",
       "      <th></th>\n",
       "      <th>Variable</th>\n",
       "      <th>Weights</th>\n",
       "    </tr>\n",
       "    <tr>\n",
       "      <th>Features</th>\n",
       "      <th></th>\n",
       "      <th></th>\n",
       "    </tr>\n",
       "  </thead>\n",
       "  <tbody>\n",
       "    <tr>\n",
       "      <th>Happiness Score</th>\n",
       "      <td>X1</td>\n",
       "      <td>850.659221</td>\n",
       "    </tr>\n",
       "    <tr>\n",
       "      <th>GDP per capita</th>\n",
       "      <td>X2</td>\n",
       "      <td>-458.012612</td>\n",
       "    </tr>\n",
       "    <tr>\n",
       "      <th>Social support</th>\n",
       "      <td>X3</td>\n",
       "      <td>637.987848</td>\n",
       "    </tr>\n",
       "    <tr>\n",
       "      <th>Healthy life expectancy</th>\n",
       "      <td>X4</td>\n",
       "      <td>2703.569550</td>\n",
       "    </tr>\n",
       "    <tr>\n",
       "      <th>Freedom to make life choices</th>\n",
       "      <td>X5</td>\n",
       "      <td>-2440.175776</td>\n",
       "    </tr>\n",
       "    <tr>\n",
       "      <th>Population 2019</th>\n",
       "      <td>X6</td>\n",
       "      <td>6244.010876</td>\n",
       "    </tr>\n",
       "    <tr>\n",
       "      <th>Bias</th>\n",
       "      <td>1</td>\n",
       "      <td>-189.005366</td>\n",
       "    </tr>\n",
       "  </tbody>\n",
       "</table>\n",
       "</div>"
      ],
      "text/plain": [
       "                             Variable      Weights\n",
       "Features                                          \n",
       "Happiness Score                    X1   850.659221\n",
       "GDP per capita                     X2  -458.012612\n",
       "Social support                     X3   637.987848\n",
       "Healthy life expectancy            X4  2703.569550\n",
       "Freedom to make life choices       X5 -2440.175776\n",
       "Population 2019                    X6  6244.010876\n",
       "Bias                                1  -189.005366"
      ]
     },
     "execution_count": 254,
     "metadata": {},
     "output_type": "execute_result"
    }
   ],
   "source": [
    "Weights_df2.insert(0,'Variable',var2)\n",
    "Weights_df2"
   ]
  },
  {
   "cell_type": "markdown",
   "metadata": {},
   "source": [
    "## Evaluation"
   ]
  },
  {
   "cell_type": "code",
   "execution_count": 256,
   "metadata": {},
   "outputs": [],
   "source": [
    "y_pred2 = regr2.predict(X_test2)"
   ]
  },
  {
   "cell_type": "code",
   "execution_count": 257,
   "metadata": {},
   "outputs": [],
   "source": [
    "#MAE\n",
    "report.loc[1,'MAE']=round(np.mean(np.absolute(y_pred2 - y_test2)),2)\n",
    "#MSE\n",
    "report.loc[1,'MSE']=round(np.mean((y_pred2 - y_test2)** 2),2)\n",
    "#R2\n",
    "report.loc[1,'R^2']=round(r2_score(y_pred2 , y_test2),2)"
   ]
  },
  {
   "cell_type": "code",
   "execution_count": 260,
   "metadata": {},
   "outputs": [
    {
     "data": {
      "text/html": [
       "<div>\n",
       "<style scoped>\n",
       "    .dataframe tbody tr th:only-of-type {\n",
       "        vertical-align: middle;\n",
       "    }\n",
       "\n",
       "    .dataframe tbody tr th {\n",
       "        vertical-align: top;\n",
       "    }\n",
       "\n",
       "    .dataframe thead th {\n",
       "        text-align: right;\n",
       "    }\n",
       "</style>\n",
       "<table border=\"1\" class=\"dataframe\">\n",
       "  <thead>\n",
       "    <tr style=\"text-align: right;\">\n",
       "      <th></th>\n",
       "      <th>MAE</th>\n",
       "      <th>MSE</th>\n",
       "      <th>R^2</th>\n",
       "    </tr>\n",
       "    <tr>\n",
       "      <th>Model</th>\n",
       "      <th></th>\n",
       "      <th></th>\n",
       "      <th></th>\n",
       "    </tr>\n",
       "  </thead>\n",
       "  <tbody>\n",
       "    <tr>\n",
       "      <th>NPC</th>\n",
       "      <td>248.72</td>\n",
       "      <td>237506</td>\n",
       "      <td>-3.16</td>\n",
       "    </tr>\n",
       "    <tr>\n",
       "      <th>MIC</th>\n",
       "      <td>677.12</td>\n",
       "      <td>653644</td>\n",
       "      <td>-0.62</td>\n",
       "    </tr>\n",
       "  </tbody>\n",
       "</table>\n",
       "</div>"
      ],
      "text/plain": [
       "          MAE     MSE   R^2\n",
       "Model                      \n",
       "NPC    248.72  237506 -3.16\n",
       "MIC    677.12  653644 -0.62"
      ]
     },
     "execution_count": 260,
     "metadata": {},
     "output_type": "execute_result"
    }
   ],
   "source": [
    "report.set_index('Model',inplace=True)\n",
    "report"
   ]
  },
  {
   "cell_type": "code",
   "execution_count": 224,
   "metadata": {},
   "outputs": [
    {
     "name": "stdout",
     "output_type": "stream",
     "text": [
      "Mean absolute error: 677.12\n",
      "Residual sum of squares (MSE): 653644.31\n",
      "R2-score: -0.62\n"
     ]
    }
   ],
   "source": [
    "from sklearn.metrics import r2_score\n",
    "print(\"Mean absolute error: %.2f\" %np.mean(np.absolute(y_pred2 - y_test2)))\n",
    "print(\"Residual sum of squares (MSE): %.2f\" %np.mean((y_pred2 - y_test2)** 2))\n",
    "print(\"R2-score: %.2f\" % r2_score(y_pred2 , y_test2) )"
   ]
  },
  {
   "cell_type": "code",
   "execution_count": 262,
   "metadata": {},
   "outputs": [
    {
     "data": {
      "text/plain": [
       "Index(['Happiness Score', 'GDP per capita', 'Social support',\n",
       "       'Healthy life expectancy', 'Freedom to make life choices',\n",
       "       'Population 2019', 'Max Change'],\n",
       "      dtype='object')"
      ]
     },
     "execution_count": 262,
     "metadata": {},
     "output_type": "execute_result"
    }
   ],
   "source": [
    "df_max_roc.columns"
   ]
  },
  {
   "cell_type": "code",
   "execution_count": 265,
   "metadata": {},
   "outputs": [
    {
     "data": {
      "text/plain": [
       "(0.0, 28244.042856168868)"
      ]
     },
     "execution_count": 265,
     "metadata": {},
     "output_type": "execute_result"
    },
    {
     "data": {
      "image/png": "[encoded data removed]",
      "text/plain": [
       "<Figure size 432x288 with 1 Axes>"
      ]
     },
     "metadata": {
      "needs_background": "light"
     },
     "output_type": "display_data"
    }
   ],
   "source": [
    "sns.regplot(x='Healthy life expectancy', y='Max Change', data=df_max_roc) \n",
    "plt.ylim(0,)"
   ]
  },
  {
   "cell_type": "markdown",
   "metadata": {},
   "source": [
    "### Degree 2"
   ]
  },
  {
   "cell_type": "code",
   "execution_count": 225,
   "metadata": {},
   "outputs": [],
   "source": [
    "from sklearn.preprocessing import PolynomialFeatures\n",
    "from sklearn.linear_model import LinearRegression\n",
    "from sklearn.preprocessing import StandardScaler\n",
    "from sklearn.pipeline import Pipeline\n",
    "\n",
    "Input=[('scale',StandardScaler()),('polynomial',PolynomialFeatures(degree=2)),('model', LinearRegression())]\n",
    "\n",
    "pipe2=Pipeline(Input)\n",
    "pipe2.fit(X_train2,y_train2)\n",
    "\n",
    "yhat2=pipe2.predict(X_test2)"
   ]
  },
  {
   "cell_type": "code",
   "execution_count": 226,
   "metadata": {},
   "outputs": [
    {
     "name": "stdout",
     "output_type": "stream",
     "text": [
      "Mean absolute error: 916.94\n",
      "Residual sum of squares (MSE): 3230934.07\n",
      "R2-score: 0.08\n"
     ]
    }
   ],
   "source": [
    "print(\"Mean absolute error: %.2f\" %np.mean(np.absolute(y_pred2 - y_test2)))\n",
    "print(\"Residual sum of squares (MSE): %.2f\" %np.mean((y_pred2 - y_test2)** 2))\n",
    "print(\"R2-score: %.2f\" % r2_score(y_pred2 , y_test2) )"
   ]
  },
  {
   "cell_type": "markdown",
   "metadata": {},
   "source": [
    "### Degree 3"
   ]
  },
  {
   "cell_type": "code",
   "execution_count": 227,
   "metadata": {},
   "outputs": [],
   "source": [
    "Input=[('scale',StandardScaler()),('polynomial',PolynomialFeatures(degree=3)),('model', LinearRegression())]\n",
    "\n",
    "pipe2=Pipeline(Input)\n",
    "pipe2.fit(X_train2,y_train2)\n",
    "\n",
    "yhat2=pipe2.predict(X_test2)"
   ]
  },
  {
   "cell_type": "code",
   "execution_count": 166,
   "metadata": {},
   "outputs": [
    {
     "name": "stdout",
     "output_type": "stream",
     "text": [
      "Mean absolute error: 7508.53\n",
      "Residual sum of squares (MSE): 371964615.64\n",
      "R2-score: -0.04\n"
     ]
    }
   ],
   "source": [
    "print(\"Mean absolute error: %.2f\" %np.mean(np.absolute(y_pred2 - y_test2)))\n",
    "print(\"Residual sum of squares (MSE): %.2f\" %np.mean((y_pred2 - y_test2)** 2))\n",
    "print(\"R2-score: %.2f\" % r2_score(y_pred2 , y_test2) )"
   ]
  },
  {
   "cell_type": "code",
   "execution_count": null,
   "metadata": {},
   "outputs": [],
   "source": []
  }
 ],
 "metadata": {
  "kernelspec": {
   "display_name": "Python [conda env:datascience]",
   "language": "python",
   "name": "conda-env-datascience-py"
  },
  "language_info": {
   "codemirror_mode": {
    "name": "ipython",
    "version": 3
   },
   "file_extension": ".py",
   "mimetype": "text/x-python",
   "name": "python",
   "nbconvert_exporter": "python",
   "pygments_lexer": "ipython3",
   "version": "3.7.7"
  }
 },
 "nbformat": 4,
 "nbformat_minor": 2
}
